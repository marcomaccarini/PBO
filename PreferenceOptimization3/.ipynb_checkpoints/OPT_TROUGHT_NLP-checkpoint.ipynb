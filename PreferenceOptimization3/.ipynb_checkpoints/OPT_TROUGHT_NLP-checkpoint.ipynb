{
 "cells": [
  {
   "cell_type": "code",
   "execution_count": 1,
   "id": "f2772110",
   "metadata": {},
   "outputs": [],
   "source": [
    "import GlispFinale as GL\n",
    "import numpy as np\n",
    "from utils.preference_functions import compute_preference\n",
    "# from rosFolder import talkerPreferencesMultiArray as t\n",
    "import matplotlib.pyplot as plt\n",
    "import math\n",
    "import utils.process\n",
    "import utils.math\n",
    "from datetime import datetime"
   ]
  },
  {
   "cell_type": "code",
   "execution_count": 2,
   "id": "b1b92546",
   "metadata": {},
   "outputs": [],
   "source": [
    "from scipy.optimize import fmin_cobyla\n",
    "import NLP_Opt as NLP"
   ]
  },
  {
   "cell_type": "code",
   "execution_count": 38,
   "id": "f315c587",
   "metadata": {},
   "outputs": [],
   "source": [
    "def function(x):\n",
    "    al1 = x[0]\n",
    "    al2 = x[1]\n",
    "    o11 = x[2]\n",
    "    o12 = x[3]\n",
    "    o21 = x[4]\n",
    "    o22 = x[5]\n",
    "    P1 = (o11+2)**2+(o12-1)**2\n",
    "    P2 =  (o21-3)**2+(o22-0.5)**2\n",
    "    return P1+P2\n",
    "\n",
    "def constr(x):\n",
    "    al1 = x[0]\n",
    "    al2 = x[1]\n",
    "    o11 = x[2]\n",
    "    o12 = x[3]\n",
    "    o21 = x[4]\n",
    "    o22 = x[5]\n",
    "    P1 = (o11+2)**2+(o12-1)**2\n",
    "    P2 =  (o21-3)**2+(o22-0.5)**2\n",
    "    Alpha = (al1-0.5)**2+(al2-0.5)**2 \n",
    "    return 20*((1+Alpha)/(1+P1+P2)) "
   ]
  },
  {
   "cell_type": "markdown",
   "id": "3a4255ae",
   "metadata": {},
   "source": [
    "###  1. Minimize the problem (Phase$_1$, Phase$_2$ and T$_{1,2}$)\n",
    "\\begin{equation}\n",
    "\\begin{aligned}\n",
    "\\min_{\\theta_1, \\theta_2, \\alpha_1} \\quad & f(\\theta_1)    + f(\\theta_2) \\\\\n",
    "\\textrm{s.t.} \\quad & T_{1,2}\\leq  \\bar{T}_{1,2} \\\\\n",
    "    \\\\\n",
    "\\end{aligned}\n",
    "\\end{equation}\n",
    "\n",
    "\n",
    "\n"
   ]
  },
  {
   "cell_type": "markdown",
   "id": "b8e1716c",
   "metadata": {},
   "source": [
    "\n",
    "\\begin{equation}\n",
    "\\begin{aligned}\n",
    "\\min_{\\theta_1, \\theta_2, \\alpha_{T_{1,2}}} \\quad & (\\theta_{11}+2)^2   +(\\theta_{12}-1)^2 + (\\theta_{21}-3)^2   +(\\theta_{22}-\\frac{1}{2})^2 \\\\\n",
    "\\textrm{s.t.} \\quad & 20 \\frac{ (\\alpha_{T_{1,2}1}-\\frac{1}{2})^2+(\\alpha_{T_{1,2}2}-\\frac{1}{2})^2}{1+ (\\theta_{1,1}+2)^2 +(\\theta_{1,2}-1)^2 + (\\theta_{2,1}-3)^2+ (\\theta_{2,2}-\\frac{1}{2})^2} \\leq \\bar{T}_{1,2} \\\\\n",
    "    \\\\\n",
    "\\end{aligned}\n",
    "\\end{equation}\n",
    "\n",
    "\n",
    "\n",
    "\n"
   ]
  },
  {
   "cell_type": "code",
   "execution_count": 39,
   "id": "8bd491cf",
   "metadata": {},
   "outputs": [],
   "source": [
    "def obj(x):\n",
    "    al1 = x[0]\n",
    "    al2 = x[1]\n",
    "    o11 = x[2]\n",
    "    o12 = x[3]\n",
    "    o21 = x[4]\n",
    "    o22 = x[5]\n",
    "    P1 = (o11+2)**2+(o12-1)**2\n",
    "    P2 =  (o21-3)**2+(o22-0.5)**2\n",
    "    return P1+P2"
   ]
  },
  {
   "cell_type": "markdown",
   "id": "86df9eb3",
   "metadata": {},
   "source": [
    "### 1.1. $\\bar{T}_{1,2}=?$"
   ]
  },
  {
   "cell_type": "code",
   "execution_count": 40,
   "id": "808ac10e",
   "metadata": {},
   "outputs": [],
   "source": [
    "def c(x):\n",
    "    al1 = x[0]\n",
    "    al2 = x[1]\n",
    "    o11 = x[2]\n",
    "    o12 = x[3]\n",
    "    o21 = x[4]\n",
    "    o22 = x[5]\n",
    "    P1 = (o11+2)**2+(o12-1)**2\n",
    "    P2 =  (o21-3)**2+(o22-0.5)**2\n",
    "    Alpha = (al1-0.5)**2+(al2-0.5)**2 \n",
    "    return 20*((1+Alpha)/(1+P1+P2)) "
   ]
  },
  {
   "cell_type": "code",
   "execution_count": 41,
   "id": "454d2d8e",
   "metadata": {},
   "outputs": [],
   "source": [
    "point_for_T_bar = [-0.5,-0.5,0,0,0,0]"
   ]
  },
  {
   "cell_type": "code",
   "execution_count": 42,
   "id": "cebe58a0",
   "metadata": {},
   "outputs": [],
   "source": [
    "T_bar = c(point_for_T_bar)"
   ]
  },
  {
   "cell_type": "code",
   "execution_count": 43,
   "id": "eab73439",
   "metadata": {},
   "outputs": [
    {
     "data": {
      "text/plain": [
       "3.9344262295081966"
      ]
     },
     "execution_count": 43,
     "metadata": {},
     "output_type": "execute_result"
    }
   ],
   "source": [
    "T_bar"
   ]
  },
  {
   "cell_type": "markdown",
   "id": "dae5b1bb",
   "metadata": {},
   "source": [
    "### 1.2. Contraint"
   ]
  },
  {
   "cell_type": "code",
   "execution_count": 66,
   "id": "6eef617e",
   "metadata": {},
   "outputs": [],
   "source": [
    "def constraint(x):\n",
    "    # t < t_bar\n",
    "    al1 = x[0]\n",
    "    al2 = x[1]\n",
    "    o11 = x[2]\n",
    "    o12 = x[3]\n",
    "    o21 = x[4]\n",
    "    o22 = x[5]\n",
    "    P1 = (o11+2)**2+(o12-1)**2\n",
    "    P2 =  (o21-3)**2+(o22-0.5)**2\n",
    "    Alpha = (al1-0.5)**2+(al2-0.5)**2 \n",
    "    T = 20*((1+Alpha)/(1+P1+P2)) \n",
    "    return T_bar - T\n",
    "\n",
    "buond_alpha = 2\n",
    "def c1_L(x):\n",
    "    return buond_alpha - x[0]\n",
    "\n",
    "def c1_U(x):\n",
    "    return  buond_alpha + x[0]\n",
    "\n",
    "def c2_L(x):\n",
    "    return buond_alpha - x[1]\n",
    "\n",
    "def c2_U(x):\n",
    "    return  buond_alpha + x[1]\n",
    "\n",
    "buond_phase = 10\n",
    "def c3_L(x):\n",
    "    return buond_phase - x[2]\n",
    "\n",
    "def c3_U(x):\n",
    "    return  buond_phase + x[2]\n",
    "\n",
    "\n",
    "def c4_L(x):\n",
    "    return buond_phase - x[3]\n",
    "\n",
    "def c4_U(x):\n",
    "    return  buond_phase + x[3]\n",
    "\n",
    "\n",
    "def c5_L(x):\n",
    "    return buond_phase - x[4]\n",
    "\n",
    "def c5_U(x):\n",
    "    return  buond_phase + x[4]\n",
    "\n",
    "\n",
    "def c6_L(x):\n",
    "    return buond_phase - x[5]\n",
    "\n",
    "def c6_U(x):\n",
    "    return  buond_phase + x[5]"
   ]
  },
  {
   "cell_type": "markdown",
   "id": "97d62bda",
   "metadata": {},
   "source": [
    "### 1.3. Solver"
   ]
  },
  {
   "cell_type": "code",
   "execution_count": 67,
   "id": "0a9dce50",
   "metadata": {},
   "outputs": [],
   "source": [
    "import dill\n",
    "OPT_phase_1 = dill.load(open(\"OPT_phase_1.pkl\", \"rb\"))\n",
    "OPT_phase_2 = dill.load(open(\"OPT_phase_1.pkl\", \"rb\"))\n",
    "OPT_transient_1_2 = dill.load(open(\"OPT_transient_1_2.pkl\", \"rb\"))"
   ]
  },
  {
   "cell_type": "code",
   "execution_count": 68,
   "id": "d6d72563",
   "metadata": {},
   "outputs": [],
   "source": [
    "ist = NLP.NLP_OPT(obj,[constraint,c1_L,c1_U,c2_L,c2_U,c3_L,c3_U,c4_L,c4_U,c5_L,c5_U,c6_L,c6_U,],OPT_transient_1_2.fvars_x)"
   ]
  },
  {
   "cell_type": "code",
   "execution_count": 69,
   "id": "ce4b5bc2",
   "metadata": {},
   "outputs": [
    {
     "name": "stdout",
     "output_type": "stream",
     "text": [
      "solution=             [ 0.57788176 -1.47632539 -2.01787238  0.94275854 -2.01787239  0.94275933]\n",
      "ob(solution)=         [-4.49693108e-06]\n",
      "contraint(solution)=  3.7241655133891802\n"
     ]
    }
   ],
   "source": [
    "rr = ist.solve(10)\n",
    "print(\"solution=            \",rr)\n",
    "print(\"ob(solution)=        \",obj(rr))\n",
    "print(\"contraint(solution)= \",constr(rr))"
   ]
  },
  {
   "cell_type": "code",
   "execution_count": null,
   "id": "7a9ee64a",
   "metadata": {},
   "outputs": [],
   "source": []
  },
  {
   "cell_type": "markdown",
   "id": "625ef934",
   "metadata": {},
   "source": [
    "## 2. minimizzo le surrogate"
   ]
  },
  {
   "cell_type": "code",
   "execution_count": 70,
   "id": "81d491a0",
   "metadata": {},
   "outputs": [],
   "source": [
    "def obj(x):\n",
    "    al1 = x[0]\n",
    "    al2 = x[1]\n",
    "    o11 = x[2]\n",
    "    o12 = x[3]\n",
    "    o21 = x[4]\n",
    "    o22 = x[5]\n",
    "    P1 = OPT_phase_1.predict([o11,o12])\n",
    "    P2 =  OPT_phase_2.predict([o21,o22])\n",
    "    return P1+P2"
   ]
  },
  {
   "cell_type": "markdown",
   "id": "2933000a",
   "metadata": {},
   "source": [
    "### 2.1. $\\bar{T}_{1,2}=?$"
   ]
  },
  {
   "cell_type": "code",
   "execution_count": 71,
   "id": "1fe80b05",
   "metadata": {},
   "outputs": [],
   "source": [
    "def c(x):\n",
    "    al1 = x[0]\n",
    "    al2 = x[1]\n",
    "    o11 = x[2]\n",
    "    o12 = x[3]\n",
    "    o21 = x[4]\n",
    "    o22 = x[5]\n",
    "    P1 = OPT_phase_1.predict([o11,o12])\n",
    "    P2 =  OPT_phase_2.predict([o21,o22])\n",
    "    Alpha = OPT_transient_1_2.predict([al1, al2, o11, o12, o21, o22])\n",
    "    return 20*((1+Alpha)/(1+P1+P2)) "
   ]
  },
  {
   "cell_type": "code",
   "execution_count": 72,
   "id": "c5296293",
   "metadata": {},
   "outputs": [],
   "source": [
    "T_bar = c(point_for_T_bar)"
   ]
  },
  {
   "cell_type": "code",
   "execution_count": 73,
   "id": "3032d805",
   "metadata": {},
   "outputs": [
    {
     "data": {
      "text/plain": [
       "array([30.20893124])"
      ]
     },
     "execution_count": 73,
     "metadata": {},
     "output_type": "execute_result"
    }
   ],
   "source": [
    "T_bar"
   ]
  },
  {
   "cell_type": "markdown",
   "id": "55d39610",
   "metadata": {},
   "source": [
    "### 1.2. Contraint"
   ]
  },
  {
   "cell_type": "code",
   "execution_count": 75,
   "id": "9337cddd",
   "metadata": {},
   "outputs": [],
   "source": [
    "def constraint(x):\n",
    "    # t < t_bar\n",
    "    al1 = x[0]\n",
    "    al2 = x[1]\n",
    "    o11 = x[2]\n",
    "    o12 = x[3]\n",
    "    o21 = x[4]\n",
    "    o22 = x[5]\n",
    "    P1 = OPT_phase_1.predict([o11,o12])\n",
    "    P2 =  OPT_phase_2.predict([o21,o22])\n",
    "    Alpha = OPT_transient_1_2.predict([al1, al2, o11, o12, o12, o22])    \n",
    "    T = 20*((1+Alpha)/(1+P1+P2)) \n",
    "    return T_bar - T\n",
    "\n",
    "buond_alpha = 2\n",
    "def c1_L(x):\n",
    "    return buond_alpha - x[0]\n",
    "\n",
    "def c1_U(x):\n",
    "    return  buond_alpha + x[0]\n",
    "\n",
    "def c2_L(x):\n",
    "    return buond_alpha - x[1]\n",
    "\n",
    "def c2_U(x):\n",
    "    return  buond_alpha + x[1]\n",
    "\n",
    "buond_phase = 10\n",
    "def c3_L(x):\n",
    "    return buond_phase - x[2]\n",
    "\n",
    "def c3_U(x):\n",
    "    return  buond_phase + x[2]\n",
    "\n",
    "\n",
    "def c4_L(x):\n",
    "    return buond_phase - x[3]\n",
    "\n",
    "def c4_U(x):\n",
    "    return  buond_phase + x[3]\n",
    "\n",
    "\n",
    "def c5_L(x):\n",
    "    return buond_phase - x[4]\n",
    "\n",
    "def c5_U(x):\n",
    "    return  buond_phase + x[4]\n",
    "\n",
    "\n",
    "def c6_L(x):\n",
    "    return buond_phase - x[5]\n",
    "\n",
    "def c6_U(x):\n",
    "    return  buond_phase + x[5]"
   ]
  },
  {
   "cell_type": "markdown",
   "id": "4f3bfd45",
   "metadata": {},
   "source": [
    "### 1.3. Solver"
   ]
  },
  {
   "cell_type": "code",
   "execution_count": 76,
   "id": "dce3d001",
   "metadata": {},
   "outputs": [],
   "source": [
    "ist = NLP.NLP_OPT(obj,[constraint,c1_L,c1_U,c2_L,c2_U,c3_L,c3_U,c4_L,c4_U,c5_L,c5_U,c6_L,c6_U,],OPT_transient_1_2.fvars_x)"
   ]
  },
  {
   "cell_type": "code",
   "execution_count": 77,
   "id": "01245e1a",
   "metadata": {},
   "outputs": [],
   "source": [
    "rr = ist.solve(10)"
   ]
  },
  {
   "cell_type": "code",
   "execution_count": 78,
   "id": "9de52c3f",
   "metadata": {},
   "outputs": [
    {
     "name": "stdout",
     "output_type": "stream",
     "text": [
      "solution=             [ 0.01078181 -0.82337169 -2.01787273  0.94275894 -2.01787259  0.94275873]\n",
      "ob(solution)=         25.37867657751109\n",
      "contraint(solution)=  2.2674731723385877\n"
     ]
    }
   ],
   "source": [
    "print(\"solution=            \",rr)\n",
    "print(\"ob(solution)=        \",function(rr))\n",
    "print(\"contraint(solution)= \",constr(rr))"
   ]
  },
  {
   "cell_type": "code",
   "execution_count": null,
   "id": "e6ac3589",
   "metadata": {},
   "outputs": [],
   "source": []
  },
  {
   "cell_type": "code",
   "execution_count": null,
   "id": "ec1550c8",
   "metadata": {},
   "outputs": [],
   "source": []
  },
  {
   "cell_type": "code",
   "execution_count": null,
   "id": "21ae21af",
   "metadata": {},
   "outputs": [],
   "source": []
  },
  {
   "cell_type": "code",
   "execution_count": null,
   "id": "aa1992e0",
   "metadata": {},
   "outputs": [],
   "source": []
  },
  {
   "cell_type": "code",
   "execution_count": null,
   "id": "62183775",
   "metadata": {},
   "outputs": [],
   "source": []
  }
 ],
 "metadata": {
  "kernelspec": {
   "display_name": "Python 3",
   "language": "python",
   "name": "python3"
  },
  "language_info": {
   "codemirror_mode": {
    "name": "ipython",
    "version": 3
   },
   "file_extension": ".py",
   "mimetype": "text/x-python",
   "name": "python",
   "nbconvert_exporter": "python",
   "pygments_lexer": "ipython3",
   "version": "3.8.8"
  }
 },
 "nbformat": 4,
 "nbformat_minor": 5
}
