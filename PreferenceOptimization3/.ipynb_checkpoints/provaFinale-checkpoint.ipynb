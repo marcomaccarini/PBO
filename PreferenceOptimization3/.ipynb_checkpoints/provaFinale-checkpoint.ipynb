{
 "cells": [
  {
   "cell_type": "code",
   "execution_count": 1,
   "id": "f2772110",
   "metadata": {},
   "outputs": [],
   "source": [
    "import GlispFinale as GL\n",
    "import numpy as np\n",
    "from utils.preference_functions import compute_preference\n",
    "# from rosFolder import talkerPreferencesMultiArray as t\n",
    "import matplotlib.pyplot as plt\n",
    "import math\n",
    "import utils.process\n",
    "import utils.math\n",
    "from datetime import datetime"
   ]
  },
  {
   "cell_type": "markdown",
   "id": "4643010e",
   "metadata": {},
   "source": [
    "## 1. Phase 1"
   ]
  },
  {
   "cell_type": "code",
   "execution_count": 2,
   "id": "20afc800",
   "metadata": {},
   "outputs": [],
   "source": [
    "def hidden_phase_1(point):\n",
    "    x1 = point[0]\n",
    "    x2 = point[1]\n",
    "    r = (x1 + 2) ** 2 + (x2 - 1) ** 2  \n",
    "    #r = np.sqrt((x1 + 2) ** 2 + (x2 - 1) ** 2)\n",
    "\n",
    "\n",
    "    return r\n",
    "\n",
    "\n",
    "optimal_point_phase_1 = np.array([[-2, 1]])\n",
    "Y_optimal_phase_1 = 0"
   ]
  },
  {
   "cell_type": "code",
   "execution_count": 3,
   "id": "f1c941da",
   "metadata": {},
   "outputs": [],
   "source": [
    "def out1(X):\n",
    "    array = []\n",
    "    for x in X:\n",
    "        array.append(hidden_phase_1(x))\n",
    "    return np.array(array)"
   ]
  },
  {
   "cell_type": "code",
   "execution_count": 4,
   "id": "5ac749f1",
   "metadata": {},
   "outputs": [],
   "source": [
    "def my_pref(x1, x2, f=None):\n",
    "    '''\n",
    "    Used to calculate π(x1,x2).\n",
    "    :param x1: first vector of param. x1 in X\n",
    "    :param x2:  second vector of param. x2 in X\n",
    "    :param f: function of the evaluation\n",
    "    :return: π(x1,x2). The return value is in {-1,0,1}\n",
    "    '''\n",
    "    if f is not None:\n",
    "        Y_pref = compute_preference(f, x1, x2)\n",
    "        Y_pref.astype(int)\n",
    "        print(\"best is :  %20s, next is: %20s, f(best): %4.4f, f(next): %4.4f, user's input: %d\" % (\n",
    "            str(x1), str(x2), f(x1), f(x2), Y_pref))\n",
    "        return Y_pref\n",
    "    else:\n",
    "        print(\"best : \", x1, \" ,     x next : \", x2)\n",
    "        Y_pref = input(\"1 if x_next is worse than best so far, -1 otherwise\")\n",
    "        return np.array([int(Y_pref)])"
   ]
  },
  {
   "cell_type": "code",
   "execution_count": 5,
   "id": "2f5766ca",
   "metadata": {},
   "outputs": [],
   "source": [
    "def g_phase_1(xt, Y, Models):\n",
    "    return Y[:, 0]"
   ]
  },
  {
   "cell_type": "code",
   "execution_count": 6,
   "id": "0caf178d",
   "metadata": {},
   "outputs": [],
   "source": [
    "bb = 10\n",
    "\n",
    "fvarsX_phase1 = [{'name': 'f_1_1', 'type': 'continuous', 'domain': (-bb, bb)},\n",
    "                 {'name': 'f_1_2', 'type': 'continuous', 'domain': (-bb, bb)}\n",
    "                 ]\n",
    "\n",
    "fvarsY = [{'name': 'phase_1', 'type': 'continuous', 'domain': ()}]\n",
    "\n",
    "n = len(fvarsX_phase1)"
   ]
  },
  {
   "cell_type": "code",
   "execution_count": 7,
   "id": "8c001638",
   "metadata": {},
   "outputs": [],
   "source": [
    "init_samples = 5  # Number of initial samples\n",
    "\n",
    "objectives = [out1]\n",
    "objectivesFunctions = [hidden_phase_1]\n",
    "\n",
    "OPT_phase_1 = GL.GLISpFinale(fvarsX_phase1, fvarsY, my_pref, objectives=objectives,\n",
    "                             objectivesFunctions=objectivesFunctions,\n",
    "                             acquisition_optimizer_type='lbfgsb',\n",
    "                             kfold=3, delta=1.25,\n",
    "                             objective=(10, 1),\n",
    "                             batch_size=1, init_n_samples=init_samples,\n",
    "                             save_experiment=True, plot=False,\n",
    "                             title=\"Phase1\", save=True,\n",
    "                             g=g_phase_1,\n",
    "                             # theta=2, sigma=1 / 5, lam=0,\n",
    "                             # load_experiment_foldername='experimentsFolder/Experiment_nuovoCoSin_20210802-110334',\n",
    "                             max_bound=bb,\n",
    "                             name_opt='Phase1', plotAcquisition=False)"
   ]
  },
  {
   "cell_type": "code",
   "execution_count": 8,
   "id": "baaea058",
   "metadata": {},
   "outputs": [
    {
     "name": "stdout",
     "output_type": "stream",
     "text": [
      "X next:  [[-6.31806008  2.5380386 ]]  ->  [[0.184097   0.62690193]]\n"
     ]
    }
   ],
   "source": [
    "exploration = True\n",
    "x_next = OPT_phase_1.run_optimization(exploration=exploration)\n",
    "iterations = 20\n",
    "print(\"X next: \", x_next, \" -> \", utils.math.normalize_X(OPT_phase_1.fvars_x, x_next))"
   ]
  },
  {
   "cell_type": "code",
   "execution_count": 9,
   "id": "ce75bdf7",
   "metadata": {},
   "outputs": [],
   "source": [
    "def reorder(xd, a):\n",
    "    ee2 = a.reshape(len(a), 1)\n",
    "    fin2 = np.column_stack((xd, ee2))\n",
    "    fin2 = fin2[fin2[:, 0].argsort(), :]\n",
    "    return fin2[:, 0], fin2[:, 1]"
   ]
  },
  {
   "cell_type": "code",
   "execution_count": 10,
   "id": "b2b88907",
   "metadata": {},
   "outputs": [],
   "source": [
    "xx = np.arange(0, iterations, 1)  # sono gli step\n",
    "f_x_best = []  # sono le f(best)\n",
    "f_x_next = []  # sono le f(next)"
   ]
  },
  {
   "cell_type": "code",
   "execution_count": 11,
   "id": "bf23dad8",
   "metadata": {
    "scrolled": false
   },
   "outputs": [
    {
     "name": "stdout",
     "output_type": "stream",
     "text": [
      "0\n",
      "best is :  [[-4.70582821 -0.19018475]], next is: [[-6.31806008  2.5380386 ]], f(best): 8.7380, f(next): 21.0112, user's input: 1\n",
      "1\n",
      "best is :  [[-4.70582821 -0.19018475]], next is: [[-4.72270944 -0.17497439]], f(best): 8.7380, f(next): 8.7937, user's input: 1\n",
      "2\n",
      "best is :  [[-4.70582821 -0.19018475]], next is: [[-2.85071958 -1.42532666]], f(best): 8.7380, f(next): 6.6059, user's input: -1\n",
      "3\n",
      "best is :  [[-2.85071958 -1.42532666]], next is: [[-2.97216939 -1.34440293]], f(best): 6.6059, f(next): 6.4413, user's input: -1\n",
      "N-4\n",
      "best is :  [[-2.97216939 -1.34440293]], next is: [[-3.07903035 -1.27327491]], f(best): 6.4413, f(next): 6.3321, user's input: -1\n"
     ]
    },
    {
     "name": "stderr",
     "output_type": "stream",
     "text": [
      "/Users/marco/opt/anaconda3/envs/pref/lib/python3.8/site-packages/cvxpy/problems/problem.py:1245: UserWarning: Solution may be inaccurate. Try another solver, adjusting the solver settings, or solve with verbose=True for more information.\n",
      "  warnings.warn(\n"
     ]
    },
    {
     "name": "stdout",
     "output_type": "stream",
     "text": [
      "5\n",
      "best is :  [[-3.07903035 -1.27327491]], next is: [[-3.10909105 -1.253189  ]], f(best): 6.3321, f(next): 6.3069, user's input: -1\n",
      "6\n",
      "best is :  [[-3.10909105 -1.253189  ]], next is: [[-3.44134294 -1.03043121]], f(best): 6.3069, f(next): 6.2001, user's input: -1\n",
      "7\n",
      "best is :  [[-3.44134294 -1.03043121]], next is: [[-3.96814178 -1.37028795]], f(best): 6.2001, f(next): 9.4918, user's input: 1\n",
      "N-8\n",
      "best is :  [[-3.44134294 -1.03043121]], next is: [[-3.70367166 -1.13477703]], f(best): 6.2001, f(next): 7.4598, user's input: 1\n",
      "N-9\n",
      "best is :  [[-3.44134294 -1.03043121]], next is: [[-3.36739727 -1.24436815]], f(best): 6.2001, f(next): 6.9070, user's input: 1\n",
      "10\n",
      "best is :  [[-3.44134294 -1.03043121]], next is: [[-2.74099757  0.45422453]], f(best): 6.2001, f(next): 0.8469, user's input: -1\n",
      "11\n",
      "best is :  [[-2.74099757  0.45422453]], next is: [[-2.91305917  0.12129399]], f(best): 0.8469, f(next): 1.6058, user's input: 1\n",
      "12\n",
      "best is :  [[-2.74099757  0.45422453]], next is: [[-1.74808305  1.72649651]], f(best): 0.8469, f(next): 0.5913, user's input: -1\n",
      "13\n",
      "best is :  [[-1.74808305  1.72649651]], next is: [[-2.12511212  1.30540458]], f(best): 0.5913, f(next): 0.1089, user's input: -1\n",
      "14\n",
      "best is :  [[-2.12511212  1.30540458]], next is: [[-2.11354284  1.35602901]], f(best): 0.1089, f(next): 0.1396, user's input: 1\n",
      "15\n",
      "best is :  [[-2.12511212  1.30540458]], next is: [[-2.11908407  1.33199487]], f(best): 0.1089, f(next): 0.1244, user's input: 1\n",
      "16\n",
      "best is :  [[-2.12511212  1.30540458]], next is: [[-2.1187216   1.33374891]], f(best): 0.1089, f(next): 0.1255, user's input: 1\n",
      "17\n",
      "best is :  [[-2.12511212  1.30540458]], next is: [[-2.22045659  1.09316646]], f(best): 0.1089, f(next): 0.0573, user's input: -1\n",
      "18\n",
      "best is :  [[-2.22045659  1.09316646]], next is: [[-2.20982072  1.09853389]], f(best): 0.0573, f(next): 0.0537, user's input: -1\n",
      "19\n",
      "best is :  [[-2.20982072  1.09853389]], next is: [[-2.46007396  0.21314455]], f(best): 0.0537, f(next): 0.8308, user's input: 1\n"
     ]
    }
   ],
   "source": [
    "end_explore = 3\n",
    "for i in range(iterations):\n",
    "    # t.sendIt((x_next[0]).tolist())\n",
    "    eval = []\n",
    "    y_sum = 0\n",
    "    y_sum_opt = 0\n",
    "    print(i)\n",
    "    for ind in range(len(OPT_phase_1.models)):\n",
    "        i_best = OPT_phase_1.Y_ind_best[ind]\n",
    "        eval.append(\n",
    "            my_pref(\n",
    "                OPT_phase_1.models[ind].X[i_best:i_best + 1, :],\n",
    "\n",
    "                OPT_phase_1.X_next[0: 1, :][:, ind * OPT_phase_1.ratio:(ind + 1) * OPT_phase_1.ratio],\n",
    "\n",
    "                f=objectives[ind]\n",
    "            )\n",
    "        )  # for all y there will be an evaluation\n",
    "        y_sum += objectives[ind](x_next)\n",
    "        y_sum_opt += objectives[ind](OPT_phase_1.models[ind].X[i_best:i_best + 1, :])\n",
    "    f_x_next.append(y_sum)\n",
    "    f_x_best.append(y_sum_opt)\n",
    "\n",
    "    if i > iterations - end_explore:\n",
    "        exploration = False\n",
    "    OPT_phase_1.add_evaluations(x_next, eval)\n",
    "    x_next = OPT_phase_1.run_optimization(exploration=exploration)\n",
    "\n",
    "OPT_phase_1.update()"
   ]
  },
  {
   "cell_type": "code",
   "execution_count": 12,
   "id": "d23f0a32",
   "metadata": {
    "scrolled": false
   },
   "outputs": [
    {
     "name": "stdout",
     "output_type": "stream",
     "text": [
      "X value:\n",
      "initial     9.12714 ,   -9.27325\n",
      "initial     -8.95297 ,   5.46119\n",
      "initial     6.77273 ,   -2.68995\n",
      "initial     -8.39451 ,   -2.42387\n",
      "initial     -4.70583 ,   -0.19018\n",
      "       0 :   -6.31806 ,   2.53804\n",
      "       1 :   -4.72271 ,   -0.17497\n",
      "       2 :   -2.85072 ,   -1.42533\n",
      "       3 :   -2.97217 ,   -1.34440\n",
      "       4 :   -3.07903 ,   -1.27327\n",
      "       5 :   -3.10909 ,   -1.25319\n",
      "       6 :   -3.44134 ,   -1.03043\n",
      "       7 :   -3.96814 ,   -1.37029\n",
      "       8 :   -3.70367 ,   -1.13478\n",
      "       9 :   -3.36740 ,   -1.24437\n",
      "      10 :   -2.74100 ,   0.45422\n",
      "      11 :   -2.91306 ,   0.12129\n",
      "      12 :   -1.74808 ,   1.72650\n",
      "      13 :   -2.12511 ,   1.30540\n",
      "      14 :   -2.11354 ,   1.35603\n",
      "      15 :   -2.11908 ,   1.33199\n",
      "      16 :   -2.11872 ,   1.33375\n",
      "      17 :   -2.22046 ,   1.09317\n",
      "      18*:   -2.20982 ,   1.09853\n",
      "      19*:   -2.46007 ,   0.21314\n",
      "Best:  [[-2.20982072  1.09853389]]\n"
     ]
    },
    {
     "data": {
      "image/png": "[encoded data removed]",
      "text/plain": [
       "<Figure size 432x288 with 1 Axes>"
      ]
     },
     "metadata": {
      "needs_background": "light"
     },
     "output_type": "display_data"
    },
    {
     "data": {
      "image/png": "[encoded data removed]",
      "text/plain": [
       "<Figure size 432x288 with 1 Axes>"
      ]
     },
     "metadata": {
      "needs_background": "light"
     },
     "output_type": "display_data"
    },
    {
     "data": {
      "image/png": "[encoded data removed]",
      "text/plain": [
       "<Figure size 432x288 with 1 Axes>"
      ]
     },
     "metadata": {
      "needs_background": "light"
     },
     "output_type": "display_data"
    },
    {
     "data": {
      "image/png": "[encoded data removed]",
      "text/plain": [
       "<Figure size 432x288 with 1 Axes>"
      ]
     },
     "metadata": {
      "needs_background": "light"
     },
     "output_type": "display_data"
    },
    {
     "data": {
      "image/png": "[encoded data removed]",
      "text/plain": [
       "<Figure size 2100x1800 with 1 Axes>"
      ]
     },
     "metadata": {
      "needs_background": "light"
     },
     "output_type": "display_data"
    },
    {
     "name": "stdout",
     "output_type": "stream",
     "text": [
      "Distance between opt and model's opt  0.231805220743485  error:  1.159  %\n"
     ]
    }
   ],
   "source": [
    "utils.process.printVar(OPT_phase_1.X, iterations, init_samples, end_explore)\n",
    "\n",
    "utils.process.printBestForEachModel(OPT_phase_1)\n",
    "\n",
    "name = \"plot/\" + \"Ex_2X1Y\" + str(iterations) + \"iterations\" + datetime.now().strftime(\"%Y%m%d-%H%M%S\")\n",
    "\n",
    "utils.process.saveAux(name, len(OPT_phase_1.X), optimal_point_phase_1, np.shape(OPT_phase_1.X)[1], init_samples,\n",
    "                      end_explore,\n",
    "                      OPT_phase_1.X)\n",
    "\n",
    "utils.process.plotResults(len(fvarsX_phase1), len(fvarsY), xx, f_x_best, Y_optimal_phase_1, name, objectivesFunctions,\n",
    "                          f_x_next,\n",
    "                          OPT_phase_1.X, optimal_point_phase_1, init_samples,\n",
    "                          end_explore)\n",
    "\n",
    "i_best = OPT_phase_1.Y_ind_best[0]\n",
    "delta = np.linalg.norm(OPT_phase_1.models[0].X[i_best:i_best + 1, :] - optimal_point_phase_1)\n",
    "perc = delta / (bb * 2) * 100\n",
    "print(\"Distance between opt and model's opt \", delta, \" error: \", round(perc, 3), \" %\")\n"
   ]
  },
  {
   "cell_type": "markdown",
   "id": "f6a822e8",
   "metadata": {},
   "source": [
    "## 2. Phase 2"
   ]
  },
  {
   "cell_type": "code",
   "execution_count": 13,
   "id": "d3ea7a39",
   "metadata": {},
   "outputs": [],
   "source": [
    "def hidden_phase_2(point):\n",
    "    x1 = point[0]\n",
    "    x2 = point[1]\n",
    "    r = (x1 - 3) ** 2 + (x2 - 0.5) ** 2   \n",
    "    #r = np.sqrt((x1 - 3) ** 2 + (x2 - 0.5) ** 2)\n",
    "    return r\n",
    "\n",
    "\n",
    "optimal_point_phase_2 = np.array([[3, 0.5]])\n",
    "Y_optimal_phase_2 = 0\n",
    "\n",
    "\n",
    "def out2(X):\n",
    "    array = []\n",
    "    for x in X:\n",
    "        array.append(hidden_phase_2(x))\n",
    "    return np.array(array)\n",
    "\n",
    "\n",
    "def g_phase_2(xt, Y, Models):\n",
    "    return Y[:, 0]\n"
   ]
  },
  {
   "cell_type": "code",
   "execution_count": 14,
   "id": "a7db4347",
   "metadata": {},
   "outputs": [],
   "source": [
    "bb = 20\n",
    "\n",
    "fvarsX_phase2 = [{'name': 'f_2_1', 'type': 'continuous', 'domain': (-bb, bb)},\n",
    "                 {'name': 'f_2_2', 'type': 'continuous', 'domain': (-bb, bb)}\n",
    "                 ]\n",
    "\n",
    "fvarsY = [{'name': 'phase_2', 'type': 'continuous', 'domain': ()}]\n",
    "\n",
    "n = len(fvarsX_phase2)\n",
    "\n",
    "init_samples = 5  # Number of initial samples\n",
    "\n",
    "objectives = [out2]\n",
    "objectivesFunctions = [hidden_phase_2]"
   ]
  },
  {
   "cell_type": "code",
   "execution_count": 15,
   "id": "2cf3c675",
   "metadata": {},
   "outputs": [],
   "source": [
    "OPT_phase_2 = GL.GLISpFinale(fvarsX_phase2, fvarsY, my_pref, objectives=objectives,\n",
    "                             objectivesFunctions=objectivesFunctions,\n",
    "                             acquisition_optimizer_type='lbfgsb',\n",
    "                             kfold=3, delta=1.25,\n",
    "                             objective=(10, 1),\n",
    "                             batch_size=1, init_n_samples=init_samples,\n",
    "                             save_experiment=True, plot=False,\n",
    "                             title=\"Bemporad Function\", save=True,\n",
    "                             g=g_phase_2,\n",
    "                             # theta=2, sigma=1 / 5, lam=0,\n",
    "                             # load_experiment_foldername='experimentsFolder/Experiment_nuovoCoSin_20210802-110334',\n",
    "                             max_bound=bb,\n",
    "                             name_opt='quadratica', plotAcquisition=False)"
   ]
  },
  {
   "cell_type": "code",
   "execution_count": 16,
   "id": "06f831d9",
   "metadata": {},
   "outputs": [
    {
     "name": "stdout",
     "output_type": "stream",
     "text": [
      "X next:  [[3.22821089 2.71889461]]  ->  [[0.58070527 0.56797237]]\n"
     ]
    }
   ],
   "source": [
    "exploration = True\n",
    "x_next = OPT_phase_2.run_optimization(exploration=exploration)\n",
    "iterations = 20\n",
    "print(\"X next: \", x_next, \" -> \", utils.math.normalize_X(OPT_phase_2.fvars_x, x_next))\n",
    "\n",
    "xx = np.arange(0, iterations, 1)  # sono gli step\n",
    "f_x_best = []  # sono le f(best)\n",
    "f_x_next = []  # sono le f(next)"
   ]
  },
  {
   "cell_type": "code",
   "execution_count": 17,
   "id": "6878c0a9",
   "metadata": {
    "scrolled": true
   },
   "outputs": [
    {
     "name": "stdout",
     "output_type": "stream",
     "text": [
      "0\n",
      "best is :  [[ 4.9553571  -3.94194658]], next is: [[3.22821089 2.71889461]], f(best): 23.5543, f(next): 4.9756, user's input: -1\n",
      "1\n",
      "best is :  [[3.22821089 2.71889461]], next is: [[0.79999856 7.18840921]], f(best): 4.9756, f(next): 49.5748, user's input: 1\n",
      "2\n",
      "best is :  [[3.22821089 2.71889461]], next is: [[5.57220976 0.31971191]], f(best): 4.9756, f(next): 6.6488, user's input: 1\n",
      "3\n",
      "best is :  [[3.22821089 2.71889461]], next is: [[2.88862271 3.08387277]], f(best): 4.9756, f(next): 6.6888, user's input: 1\n",
      "4\n",
      "best is :  [[3.22821089 2.71889461]], next is: [[1.28483709 1.50200165]], f(best): 4.9756, f(next): 3.9458, user's input: -1\n",
      "5\n",
      "best is :  [[1.28483709 1.50200165]], next is: [[ 0.13511006 -0.01398297]], f(best): 3.9458, f(next): 8.4718, user's input: 1\n"
     ]
    },
    {
     "name": "stderr",
     "output_type": "stream",
     "text": [
      "/Users/marco/opt/anaconda3/envs/pref/lib/python3.8/site-packages/cvxpy/problems/problem.py:1245: UserWarning: Solution may be inaccurate. Try another solver, adjusting the solver settings, or solve with verbose=True for more information.\n",
      "  warnings.warn(\n"
     ]
    },
    {
     "name": "stdout",
     "output_type": "stream",
     "text": [
      "6\n",
      "best is :  [[1.28483709 1.50200165]], next is: [[2.16282029 0.26481475]], f(best): 3.9458, f(next): 0.7562, user's input: -1\n",
      "N-7\n",
      "best is :  [[2.16282029 0.26481475]], next is: [[ 2.70969412 -0.15658242]], f(best): 0.7562, f(next): 0.5154, user's input: -1\n",
      "8\n",
      "best is :  [[ 2.70969412 -0.15658242]], next is: [[3.06578919 0.25346854]], f(best): 0.5154, f(next): 0.0651, user's input: -1\n",
      "9\n",
      "best is :  [[3.06578919 0.25346854]], next is: [[2.61529836 0.37922426]], f(best): 0.0651, f(next): 0.1626, user's input: 1\n",
      "N-10\n",
      "best is :  [[3.06578919 0.25346854]], next is: [[2.61629418 0.36577883]], f(best): 0.0651, f(next): 0.1652, user's input: 1\n",
      "11\n",
      "best is :  [[3.06578919 0.25346854]], next is: [[3.15325588 0.30749614]], f(best): 0.0651, f(next): 0.0605, user's input: -1\n",
      "12\n",
      "best is :  [[3.15325588 0.30749614]], next is: [[3.23022728 0.44299279]], f(best): 0.0605, f(next): 0.0563, user's input: -1\n",
      "13\n",
      "best is :  [[3.23022728 0.44299279]], next is: [[3.33285887 0.77817732]], f(best): 0.0563, f(next): 0.1882, user's input: 1\n",
      "14\n",
      "best is :  [[3.23022728 0.44299279]], next is: [[3.46906234 0.19376088]], f(best): 0.0563, f(next): 0.3138, user's input: 1\n",
      "N-15\n",
      "best is :  [[3.23022728 0.44299279]], next is: [[3.41537189 0.2274682 ]], f(best): 0.0563, f(next): 0.2468, user's input: 1\n",
      "N-16\n",
      "best is :  [[3.23022728 0.44299279]], next is: [[3.20319062 0.48042249]], f(best): 0.0563, f(next): 0.0417, user's input: -1\n",
      "17\n",
      "best is :  [[3.20319062 0.48042249]], next is: [[3.21427747 0.47809951]], f(best): 0.0417, f(next): 0.0464, user's input: 1\n",
      "N-N-N-18\n",
      "best is :  [[3.20319062 0.48042249]], next is: [[3.13551659 0.62494368]], f(best): 0.0417, f(next): 0.0340, user's input: -1\n",
      "19\n",
      "best is :  [[3.13551659 0.62494368]], next is: [[2.95305662 0.70557518]], f(best): 0.0340, f(next): 0.0445, user's input: 1\n",
      "N-"
     ]
    }
   ],
   "source": [
    "end_explore = 3\n",
    "for i in range(iterations):\n",
    "    # t.sendIt((x_next[0]).tolist())\n",
    "    eval = []\n",
    "    y_sum = 0\n",
    "    y_sum_opt = 0\n",
    "    print(i)\n",
    "    for ind in range(len(OPT_phase_2.models)):\n",
    "        i_best = OPT_phase_2.Y_ind_best[ind]\n",
    "        eval.append(\n",
    "            my_pref(\n",
    "                OPT_phase_2.models[ind].X[i_best:i_best + 1, :],\n",
    "\n",
    "                OPT_phase_2.X_next[0: 1, :][:, ind * OPT_phase_2.ratio:(ind + 1) * OPT_phase_2.ratio],\n",
    "\n",
    "                f=objectives[ind]\n",
    "            )\n",
    "        )  # for all y there will be an evaluation\n",
    "        y_sum += objectives[ind](x_next)\n",
    "        y_sum_opt += objectives[ind](OPT_phase_2.models[ind].X[i_best:i_best + 1, :])\n",
    "    f_x_next.append(y_sum)\n",
    "    f_x_best.append(y_sum_opt)\n",
    "\n",
    "    if i > iterations - end_explore:\n",
    "        exploration = False\n",
    "    OPT_phase_2.add_evaluations(x_next, eval)\n",
    "    x_next = OPT_phase_2.run_optimization(exploration=exploration)\n"
   ]
  },
  {
   "cell_type": "code",
   "execution_count": 18,
   "id": "f7b8426c",
   "metadata": {
    "scrolled": false
   },
   "outputs": [
    {
     "name": "stdout",
     "output_type": "stream",
     "text": [
      "N-X value:\n",
      "initial     12.21960 ,   17.07420\n",
      "initial     4.95536 ,   -3.94195\n",
      "initial     7.71453 ,   -16.26422\n",
      "initial     7.64434 ,   -7.24370\n",
      "initial     -15.26536 ,   -1.94969\n",
      "       0 :   3.22821 ,   2.71889\n",
      "       1 :   0.80000 ,   7.18841\n",
      "       2 :   5.57221 ,   0.31971\n",
      "       3 :   2.88862 ,   3.08387\n",
      "       4 :   1.28484 ,   1.50200\n",
      "       5 :   0.13511 ,   -0.01398\n",
      "       6 :   2.16282 ,   0.26481\n",
      "       7 :   2.70969 ,   -0.15658\n",
      "       8 :   3.06579 ,   0.25347\n",
      "       9 :   2.61530 ,   0.37922\n",
      "      10 :   2.61629 ,   0.36578\n",
      "      11 :   3.15326 ,   0.30750\n",
      "      12 :   3.23023 ,   0.44299\n",
      "      13 :   3.33286 ,   0.77818\n",
      "      14 :   3.46906 ,   0.19376\n",
      "      15 :   3.41537 ,   0.22747\n",
      "      16 :   3.20319 ,   0.48042\n",
      "      17 :   3.21428 ,   0.47810\n",
      "      18*:   3.13552 ,   0.62494\n",
      "      19*:   2.95306 ,   0.70558\n",
      "Best:  [[3.13551659 0.62494368]]\n"
     ]
    },
    {
     "data": {
      "image/png": "[encoded data removed]",
      "text/plain": [
       "<Figure size 432x288 with 1 Axes>"
      ]
     },
     "metadata": {
      "needs_background": "light"
     },
     "output_type": "display_data"
    },
    {
     "data": {
      "image/png": "[encoded data removed]",
      "text/plain": [
       "<Figure size 432x288 with 1 Axes>"
      ]
     },
     "metadata": {
      "needs_background": "light"
     },
     "output_type": "display_data"
    },
    {
     "data": {
      "image/png": "[encoded data removed]",
      "text/plain": [
       "<Figure size 432x288 with 1 Axes>"
      ]
     },
     "metadata": {
      "needs_background": "light"
     },
     "output_type": "display_data"
    },
    {
     "data": {
      "image/png": "[encoded data removed]",
      "text/plain": [
       "<Figure size 432x288 with 1 Axes>"
      ]
     },
     "metadata": {
      "needs_background": "light"
     },
     "output_type": "display_data"
    },
    {
     "data": {
      "image/png": "[encoded data removed]",
      "text/plain": [
       "<Figure size 2100x1800 with 1 Axes>"
      ]
     },
     "metadata": {
      "needs_background": "light"
     },
     "output_type": "display_data"
    },
    {
     "name": "stdout",
     "output_type": "stream",
     "text": [
      "Distance between opt and model's opt  0.18432490390594392  error:  0.461  %\n"
     ]
    }
   ],
   "source": [
    "OPT_phase_2.update()\n",
    "\n",
    "utils.process.printVar(OPT_phase_2.X, iterations, init_samples, end_explore)\n",
    "\n",
    "utils.process.printBestForEachModel(OPT_phase_2)\n",
    "\n",
    "name = \"plot/\" + \"Ex_2X1Y\" + str(iterations) + \"iterations\" + datetime.now().strftime(\"%Y%m%d-%H%M%S\")\n",
    "\n",
    "utils.process.saveAux(name, len(OPT_phase_2.X), optimal_point_phase_2, np.shape(OPT_phase_2.X)[1], init_samples,\n",
    "                      end_explore,\n",
    "                      OPT_phase_2.X)\n",
    "\n",
    "utils.process.plotResults(len(fvarsX_phase2), len(fvarsY), xx, f_x_best, Y_optimal_phase_2, name, objectivesFunctions,\n",
    "                          f_x_next,\n",
    "                          OPT_phase_2.X, optimal_point_phase_2, init_samples,\n",
    "                          end_explore)\n",
    "\n",
    "i_best = OPT_phase_2.Y_ind_best[0]\n",
    "delta = np.linalg.norm(OPT_phase_2.models[0].X[i_best:i_best + 1, :] - optimal_point_phase_2)\n",
    "perc = delta / (bb * 2) * 100\n",
    "print(\"Distance between opt and model's opt \", delta, \" error: \", round(perc, 3), \" %\")\n"
   ]
  },
  {
   "cell_type": "markdown",
   "id": "d36c1303",
   "metadata": {},
   "source": [
    "## Studio comportamento del  transitorio $T_{1,2}$\n"
   ]
  },
  {
   "cell_type": "markdown",
   "id": "157301a0",
   "metadata": {},
   "source": [
    "\\begin{equation*}\n",
    "T_{1,2}(\\theta_1, \\theta_2, \\alpha_{1,2}) = 20\\frac{1+\\left\\| \\alpha_{1,2} - [0.5, 0.5]\\right\\|^2}{1+\\left\\| \\theta_1 - [-2, \\ 1]  \\right\\|^2 + \\left\\| \\theta_2 - [3, \\ 0.5] \\right\\|^2}\n",
    "\\end{equation*}"
   ]
  },
  {
   "cell_type": "markdown",
   "id": "34483994",
   "metadata": {},
   "source": [
    "def constraints(optP1, optP2,point):\n",
    "    alpha_1 = point[:,0]\n",
    "    alpha_2 = point[:,1]\n",
    "    valP1 = hidden_phase_1(optP1)\n",
    "    valP2 = hidden_phase_2(optP2)    \n",
    "    r = 20 * (np.sqrt((alpha_1 + 0.5) ** 2 + (alpha_2 - 0.5) ** 2)) / (1 + valP1 + valP2)\n",
    "    return r"
   ]
  },
  {
   "cell_type": "markdown",
   "id": "6926e22d",
   "metadata": {},
   "source": [
    "def best(my_problem):\n",
    "    arr = []\n",
    "    for ind in range(len(my_problem.models)):\n",
    "        i_best = my_problem.Y_ind_best[ind]\n",
    "        arr.append(my_problem.models[ind].X[i_best:i_best + 1, :])\n",
    "    return arr"
   ]
  },
  {
   "cell_type": "markdown",
   "id": "6400c5d7",
   "metadata": {},
   "source": [
    "def generate_points(num_points,fvars):\n",
    "    X_init = np.empty((num_points, 0))\n",
    "    for fvar in fvars:\n",
    "        if fvar.get_type() == 'continuous':\n",
    "            x = np.random.uniform(fvar.get_domain()[0], fvar.get_domain()[1], (num_points, 1))\n",
    "        elif fvar.get_type() == 'discrete':\n",
    "            x = np.random.choice(fvar.get_domain(), (num_points, 1))\n",
    "        elif fvar.get_type() == 'categorical':\n",
    "            x = fvar.get_one_hot(np.random.choice(fvar.get_domain(), (num_points, 1)))\n",
    "        else:\n",
    "            raise ValueError('Variable type not found')\n",
    "        X_init = np.column_stack((X_init, x))\n",
    "    return X_init"
   ]
  },
  {
   "cell_type": "markdown",
   "id": "99893beb",
   "metadata": {
    "scrolled": true
   },
   "source": [
    "xy= generate_points(100,OPT_phase_1.fvars_x)"
   ]
  },
  {
   "cell_type": "markdown",
   "id": "ea9f4882",
   "metadata": {},
   "source": [
    "z =constraints((best(OPT_phase_1)[0][0]),(best(OPT_phase_2)[0][0]),xy)"
   ]
  },
  {
   "cell_type": "markdown",
   "id": "2f87b348",
   "metadata": {},
   "source": [
    "#%matplotlib notebook\n",
    "import matplotlib.pyplot as plt"
   ]
  },
  {
   "cell_type": "markdown",
   "id": "48c463bf",
   "metadata": {},
   "source": [
    "def plot(xd,z):\n",
    "    ax = plt.axes(projection='3d')\n",
    "    ax.text2D(0.05, 0.95, \"st\", transform=ax.transAxes)\n",
    "    my_cmap = plt.get_cmap('hot')\n",
    "\n",
    "    x = xd[:, 0]\n",
    "    y = xd[:, 1]\n",
    "    ax.plot_trisurf(x, y, z, cmap=my_cmap,\n",
    "                    linewidth=0.2,\n",
    "                    antialiased=True,\n",
    "                    edgecolor='grey')\n",
    "    ax.set_xlabel('X')\n",
    "    ax.set_ylabel('Y')\n",
    "    ax.set_zlabel('Z')\n",
    "    plt.show()"
   ]
  },
  {
   "cell_type": "code",
   "execution_count": 19,
   "id": "731cf9e8",
   "metadata": {},
   "outputs": [],
   "source": [
    "#plot(xy,z)"
   ]
  },
  {
   "cell_type": "code",
   "execution_count": 20,
   "id": "16097116",
   "metadata": {},
   "outputs": [],
   "source": [
    "# np.min(z)\n",
    "# xy[13]\n",
    "# x =np.array([[-0.2549879 ,  0.07597948]])\n",
    "# constraints((best(OPT_phase_1)[0][0]),(best(OPT_phase_2)[0][0]),x)"
   ]
  },
  {
   "cell_type": "code",
   "execution_count": null,
   "id": "b315acf5",
   "metadata": {},
   "outputs": [],
   "source": []
  },
  {
   "cell_type": "markdown",
   "id": "ef073d4c",
   "metadata": {},
   "source": [
    "## Test della libreria pyomo"
   ]
  },
  {
   "cell_type": "code",
   "execution_count": 21,
   "id": "f01333a1",
   "metadata": {},
   "outputs": [],
   "source": [
    "import pyomo.environ as pyo\n",
    "from pyomo.environ import *\n",
    "from pyomo.environ  import sqrt\n",
    "import pandas as pd\n",
    "from pyomo.core.kernel import *"
   ]
  },
  {
   "cell_type": "markdown",
   "id": "03188fb8",
   "metadata": {},
   "source": [
    "### 1.1. Minimizzo  una parte del transitorio $T_{1,2}$ (try pyomo library)\n",
    "\\begin{equation}\n",
    "\\begin{aligned}\n",
    "\\min_{\\alpha} \\quad & T_{1,2}(\\alpha_{1,2})\\\\\n",
    "\\textrm{s.t.} \\quad & T_{1,2} \\leq \\bar{T}_{1,2} \\\\\n",
    "     \\\\\n",
    "\\end{aligned}\n",
    "\\end{equation}\n",
    "\n",
    "\n",
    "\n"
   ]
  },
  {
   "cell_type": "markdown",
   "id": "0e47a290",
   "metadata": {},
   "source": [
    "\\begin{equation}\n",
    "\\begin{aligned}\n",
    "\\min_{\\alpha} \\quad & (\\alpha_{T_{1,2}1}-0.5)^2+(\\alpha_{T_{1,2}2}-0.5)^2\\\\\n",
    "\\textrm{s.t.} \\quad & (\\alpha_{T_{1,2}1}-0.5)^2+(\\alpha_{T_{1,2}2}-0.5)^2 \\leq \\bar{T}_{1,2} \\\\\n",
    "     \\\\\n",
    "\\end{aligned}\n",
    "\\end{equation}"
   ]
  },
  {
   "cell_type": "markdown",
   "id": "89b34bba",
   "metadata": {},
   "source": [
    "### 1.1.1 Istanzio il modello NLP"
   ]
  },
  {
   "cell_type": "code",
   "execution_count": 22,
   "id": "a3bc098b",
   "metadata": {},
   "outputs": [],
   "source": [
    "#creo il modello di ottimizzazione\n",
    "model = pyo.ConcreteModel()"
   ]
  },
  {
   "cell_type": "markdown",
   "id": "d2db47fb",
   "metadata": {},
   "source": [
    "### 1.1.2. Dichiaro le variabili"
   ]
  },
  {
   "cell_type": "code",
   "execution_count": 23,
   "id": "7bce98d1",
   "metadata": {},
   "outputs": [],
   "source": [
    "#dichiaro le variabili, in questo caso sono alpha_12_1 e alpha_12_2\n",
    "model.x = pyo.Var([1,2], domain=pyo.Reals)"
   ]
  },
  {
   "cell_type": "markdown",
   "id": "dc93be96",
   "metadata": {},
   "source": [
    "### 1.1.3 Dichiaro la funione obiettivo"
   ]
  },
  {
   "cell_type": "code",
   "execution_count": 24,
   "id": "345aec6f",
   "metadata": {},
   "outputs": [],
   "source": [
    "def transient(m):\n",
    "    return (m.x[1]-0.5)**2 + (m.x[2]-0.5)**2"
   ]
  },
  {
   "cell_type": "markdown",
   "id": "f8c90710",
   "metadata": {},
   "source": [
    "### 1.1.4 Dichiaro il constraint"
   ]
  },
  {
   "cell_type": "code",
   "execution_count": 25,
   "id": "16cdcaf3",
   "metadata": {},
   "outputs": [],
   "source": [
    "#constraint che impone alla funzione di essere <= 10\n",
    "def bRule(m):\n",
    "    return (None, transient(m), 10)\n",
    "model.boundx = Constraint(rule=bRule)"
   ]
  },
  {
   "cell_type": "code",
   "execution_count": 26,
   "id": "3a0fb7e6",
   "metadata": {},
   "outputs": [],
   "source": [
    "#inserisco funzione obiettivo nell'istanza\n",
    "model.OBJ = pyo.Objective(expr = transient, sense=minimize) "
   ]
  },
  {
   "cell_type": "markdown",
   "id": "b4a64ddb",
   "metadata": {},
   "source": [
    "### 1.1.5 Solver"
   ]
  },
  {
   "cell_type": "code",
   "execution_count": 27,
   "id": "08d0987f",
   "metadata": {},
   "outputs": [
    {
     "name": "stdout",
     "output_type": "stream",
     "text": [
      "Ipopt 3.14.4: \n",
      "\n",
      "******************************************************************************\n",
      "This program contains Ipopt, a library for large-scale nonlinear optimization.\n",
      " Ipopt is released as open source code under the Eclipse Public License (EPL).\n",
      "         For more information visit https://github.com/coin-or/Ipopt\n",
      "******************************************************************************\n",
      "\n",
      "This is Ipopt version 3.14.4, running with linear solver MUMPS 5.2.1.\n",
      "\n",
      "Number of nonzeros in equality constraint Jacobian...:        0\n",
      "Number of nonzeros in inequality constraint Jacobian.:        2\n",
      "Number of nonzeros in Lagrangian Hessian.............:        2\n",
      "\n",
      "Total number of variables............................:        2\n",
      "                     variables with only lower bounds:        0\n",
      "                variables with lower and upper bounds:        0\n",
      "                     variables with only upper bounds:        0\n",
      "Total number of equality constraints.................:        0\n",
      "Total number of inequality constraints...............:        1\n",
      "        inequality constraints with only lower bounds:        0\n",
      "   inequality constraints with lower and upper bounds:        0\n",
      "        inequality constraints with only upper bounds:        1\n",
      "\n",
      "iter    objective    inf_pr   inf_du lg(mu)  ||d||  lg(rg) alpha_du alpha_pr  ls\n",
      "   0  5.0000000e-01 0.00e+00 1.33e+00  -1.0 0.00e+00    -  0.00e+00 0.00e+00   0\n",
      "   1  4.7768195e-02 0.00e+00 2.70e-01  -1.0 1.31e+00    -  8.78e-01 1.00e+00f  1\n",
      "   2  1.0568941e-03 0.00e+00 4.61e-02  -1.7 7.47e-01    -  1.00e+00 1.00e+00h  1\n",
      "   3  5.2989561e-09 0.00e+00 1.03e-04  -2.5 6.09e-02    -  1.00e+00 1.00e+00h  1\n",
      "   4  4.1932657e-16 0.00e+00 2.90e-08  -3.8 1.05e-03    -  1.00e+00 1.00e+00h  1\n",
      "   5  9.2923433e-26 0.00e+00 1.84e-11  -5.7 1.45e-08    -  1.00e+00 1.00e+00h  1\n",
      "   6  0.0000000e+00 0.00e+00 2.51e-14  -8.6 2.16e-13    -  1.00e+00 1.00e+00h  1\n",
      "\n",
      "Number of Iterations....: 6\n",
      "\n",
      "                                   (scaled)                 (unscaled)\n",
      "Objective...............:   0.0000000000000000e+00    0.0000000000000000e+00\n",
      "Dual infeasibility......:   2.5059035587193448e-14    2.5059035587193448e-14\n",
      "Constraint violation....:   0.0000000000000000e+00    0.0000000000000000e+00\n",
      "Variable bound violation:   0.0000000000000000e+00    0.0000000000000000e+00\n",
      "Complementarity.........:   2.5059035596800279e-09    2.5059035596800279e-09\n",
      "Overall NLP error.......:   2.5059035596800279e-09    2.5059035596800279e-09\n",
      "\n",
      "\n",
      "Number of objective function evaluations             = 7\n",
      "Number of objective gradient evaluations             = 7\n",
      "Number of equality constraint evaluations            = 0\n",
      "Number of inequality constraint evaluations          = 7\n",
      "Number of equality constraint Jacobian evaluations   = 0\n",
      "Number of inequality constraint Jacobian evaluations = 7\n",
      "Number of Lagrangian Hessian evaluations             = 6\n",
      "Total seconds in IPOPT                               = 0.008\n",
      "\n",
      "EXIT: Optimal Solution Found.\n",
      "\b\b\b\b\b\b\b\b\b\b\b\b\b\b"
     ]
    },
    {
     "data": {
      "text/plain": [
       "{'Problem': [{'Lower bound': -inf, 'Upper bound': inf, 'Number of objectives': 1, 'Number of constraints': 1, 'Number of variables': 2, 'Sense': 'unknown'}], 'Solver': [{'Status': 'ok', 'Message': 'Ipopt 3.14.4\\\\x3a Optimal Solution Found', 'Termination condition': 'optimal', 'Id': 0, 'Error rc': 0, 'Time': 0.0743870735168457}], 'Solution': [OrderedDict([('number of solutions', 0), ('number of solutions displayed', 0)])]}"
      ]
     },
     "execution_count": 27,
     "metadata": {},
     "output_type": "execute_result"
    }
   ],
   "source": [
    "solver = SolverFactory('ipopt')\n",
    "solver.solve(model, tee=True)"
   ]
  },
  {
   "cell_type": "code",
   "execution_count": 28,
   "id": "f0bbfe78",
   "metadata": {},
   "outputs": [
    {
     "name": "stdout",
     "output_type": "stream",
     "text": [
      "\n",
      "*** Solution *** :\n"
     ]
    },
    {
     "data": {
      "text/plain": [
       "{1: 0.5, 2: 0.5}"
      ]
     },
     "execution_count": 28,
     "metadata": {},
     "output_type": "execute_result"
    }
   ],
   "source": [
    "print()\n",
    "print('*** Solution *** :') \n",
    "model.x.extract_values()"
   ]
  },
  {
   "cell_type": "markdown",
   "id": "2f944837",
   "metadata": {},
   "source": [
    "### 2. Minimize $T_{1,2}$  (just to try pyomo library)\n",
    "\\begin{equation}\n",
    "\\begin{aligned}\n",
    "\\min_{\\alpha} \\quad & T_{1,2}(\\alpha_{1,2})\\\\\n",
    "%\\textrm{s.t.} \\quad & T_{1,2} \\leq \\bar{T}_{1,2} \\\\\n",
    "     \\\\\n",
    "\\end{aligned}\n",
    "\\end{equation}\n",
    "\n",
    "\n",
    "\n"
   ]
  },
  {
   "cell_type": "markdown",
   "id": "3b8d2731",
   "metadata": {},
   "source": [
    "\\begin{equation}\n",
    "\\begin{aligned}\n",
    "\\min_{\\alpha} \\quad & 20 \\frac{ (\\alpha_{T_{1,2}1}-\\frac{1}{2})^2+(\\alpha_{T_{1,2}2}-\\frac{1}{2})^2}{1+ (\\theta_{1,1}+2)^2 +(\\theta_{1,2}-1)^2 + (\\theta_{2,1}-3)^2+ (\\theta_{2,2}-\\frac{1}{2})^2} \\\\\n",
    "%\\textrm{s.t.} \\quad & 20 \\frac{ (\\alpha_{T_{1,2}1}-\\frac{1}{2})^2+(\\alpha_{T_{1,2}2}-\\frac{1}{2})^2}{1+ (\\theta_{1,1}+2)^2 +(\\theta_{1,2}-1)^2 + (\\theta_{2,1}-3)^2+ (\\theta_{2,2}-\\frac{1}{2})^2} \\leq \\bar{T}_{1,2}\\leq \\bar{T}_{1,2} \\\\\n",
    "     \\\\\n",
    "\\end{aligned}\n",
    "\\end{equation}"
   ]
  },
  {
   "cell_type": "code",
   "execution_count": 29,
   "id": "45efe520",
   "metadata": {},
   "outputs": [],
   "source": [
    "model = pyo.ConcreteModel()"
   ]
  },
  {
   "cell_type": "code",
   "execution_count": 30,
   "id": "5d327c9e",
   "metadata": {},
   "outputs": [],
   "source": [
    "model.x = pyo.Var([1,2], domain=pyo.Reals)\n",
    "model.p1 = pyo.Var([1,2], domain=pyo.Reals)\n",
    "model.p2 = pyo.Var([1,2], domain=pyo.Reals)"
   ]
  },
  {
   "cell_type": "code",
   "execution_count": 31,
   "id": "5d70fea9",
   "metadata": {},
   "outputs": [],
   "source": [
    "def transient(m):\n",
    "    return 20* ((m.x[1]-0.5)**2 + (m.x[2]-0.5)**2)/(1+(m.p1[1]+2)**2+(m.p1[2]-1)**2+(m.p2[1]-3)**2+(m.p2[2]-0.5)**2 ) "
   ]
  },
  {
   "cell_type": "code",
   "execution_count": 32,
   "id": "4b7973ff",
   "metadata": {},
   "outputs": [],
   "source": [
    "def transient_function(p1x,p1y,p2x,p2y,a1,a2):\n",
    "    return 20* ((a1-0.5)**2 + (a2-0.5)**2)/(1+(p1x+2)**2+(p1y-1)**2+(p2x-3)**2+(p2y-0.5)**2 )                                                                                                                                               "
   ]
  },
  {
   "cell_type": "code",
   "execution_count": 33,
   "id": "26f4bbe0",
   "metadata": {},
   "outputs": [],
   "source": [
    "#def bRule(m):\n",
    "#    return (None, transient(m), 10)\n",
    "#model.boundx = Constraint(rule=bRule)"
   ]
  },
  {
   "cell_type": "code",
   "execution_count": 34,
   "id": "c85e1030",
   "metadata": {},
   "outputs": [],
   "source": [
    "#dichiaro la funzione obiettivo\n",
    "model.OBJ = pyo.Objective(expr = transient, sense=minimize) "
   ]
  },
  {
   "cell_type": "code",
   "execution_count": 35,
   "id": "d86bd39b",
   "metadata": {},
   "outputs": [
    {
     "name": "stdout",
     "output_type": "stream",
     "text": [
      "Ipopt 3.14.4: \n",
      "\n",
      "******************************************************************************\n",
      "This program contains Ipopt, a library for large-scale nonlinear optimization.\n",
      " Ipopt is released as open source code under the Eclipse Public License (EPL).\n",
      "         For more information visit https://github.com/coin-or/Ipopt\n",
      "******************************************************************************\n",
      "\n",
      "This is Ipopt version 3.14.4, running with linear solver MUMPS 5.2.1.\n",
      "\n",
      "Number of nonzeros in equality constraint Jacobian...:        0\n",
      "Number of nonzeros in inequality constraint Jacobian.:        0\n",
      "Number of nonzeros in Lagrangian Hessian.............:       21\n",
      "\n",
      "Total number of variables............................:        6\n",
      "                     variables with only lower bounds:        0\n",
      "                variables with lower and upper bounds:        0\n",
      "                     variables with only upper bounds:        0\n",
      "Total number of equality constraints.................:        0\n",
      "Total number of inequality constraints...............:        0\n",
      "        inequality constraints with only lower bounds:        0\n",
      "   inequality constraints with lower and upper bounds:        0\n",
      "        inequality constraints with only upper bounds:        0\n",
      "\n",
      "iter    objective    inf_pr   inf_du lg(mu)  ||d||  lg(rg) alpha_du alpha_pr  ls\n",
      "   0  6.5573770e-01 0.00e+00 1.31e+00  -1.0 0.00e+00    -  0.00e+00 0.00e+00   0\n",
      "   1  3.5406189e-02 0.00e+00 3.16e-01  -1.0 3.88e-01   0.0 1.00e+00 1.00e+00f  1\n",
      "   2  2.6666445e-04 0.00e+00 2.77e-02  -1.7 1.02e-01  -0.5 1.00e+00 1.00e+00f  1\n",
      "   3  3.5565236e-07 0.00e+00 1.01e-03  -3.8 9.26e-03  -1.0 1.00e+00 1.00e+00f  1\n",
      "   4  5.7039340e-11 0.00e+00 1.28e-05  -5.7 3.47e-04  -1.4 1.00e+00 1.00e+00f  1\n",
      "   5  1.0342198e-15 0.00e+00 5.46e-08  -8.6 4.43e-06  -1.9 1.00e+00 1.00e+00f  1\n",
      "   6  2.0954581e-21 0.00e+00 7.78e-11  -8.6 1.89e-08  -2.4 1.00e+00 1.00e+00f  1\n",
      "\n",
      "Number of Iterations....: 6\n",
      "\n",
      "                                   (scaled)                 (unscaled)\n",
      "Objective...............:   2.0954580565676746e-21    2.0954580565676746e-21\n",
      "Dual infeasibility......:   7.7778704617909711e-11    7.7778704617909711e-11\n",
      "Constraint violation....:   0.0000000000000000e+00    0.0000000000000000e+00\n",
      "Variable bound violation:   0.0000000000000000e+00    0.0000000000000000e+00\n",
      "Complementarity.........:   0.0000000000000000e+00    0.0000000000000000e+00\n",
      "Overall NLP error.......:   7.7778704617909711e-11    7.7778704617909711e-11\n",
      "\n",
      "\n",
      "Number of objective function evaluations             = 7\n",
      "Number of objective gradient evaluations             = 7\n",
      "Number of equality constraint evaluations            = 0\n",
      "Number of inequality constraint evaluations          = 0\n",
      "Number of equality constraint Jacobian evaluations   = 0\n",
      "Number of inequality constraint Jacobian evaluations = 0\n",
      "Number of Lagrangian Hessian evaluations             = 6\n",
      "Total seconds in IPOPT                               = 0.010\n",
      "\n",
      "EXIT: Optimal Solution Found.\n",
      "\b\b\b\b\b\b\b\b\b\b\b\b\b\b"
     ]
    },
    {
     "data": {
      "text/plain": [
       "{'Problem': [{'Lower bound': -inf, 'Upper bound': inf, 'Number of objectives': 1, 'Number of constraints': 0, 'Number of variables': 6, 'Sense': 'unknown'}], 'Solver': [{'Status': 'ok', 'Message': 'Ipopt 3.14.4\\\\x3a Optimal Solution Found', 'Termination condition': 'optimal', 'Id': 0, 'Error rc': 0, 'Time': 0.05129885673522949}], 'Solution': [OrderedDict([('number of solutions', 0), ('number of solutions displayed', 0)])]}"
      ]
     },
     "execution_count": 35,
     "metadata": {},
     "output_type": "execute_result"
    }
   ],
   "source": [
    "solver = SolverFactory('ipopt')\n",
    "solver.solve(model, tee=True)"
   ]
  },
  {
   "cell_type": "code",
   "execution_count": 36,
   "id": "19091bd1",
   "metadata": {},
   "outputs": [
    {
     "name": "stdout",
     "output_type": "stream",
     "text": [
      "*** Solution *** :\n",
      "{1: 0.4999999999730587, 2: 0.4999999999730587}\n",
      "{1: -0.10038957815426014, 2: 0.05019478907713004}\n",
      "{1: 0.15058436723139013, 2: 0.025097394538565024}\n"
     ]
    }
   ],
   "source": [
    "print('*** Solution *** :') \n",
    "print(model.x.extract_values())\n",
    "print(model.p1.extract_values())\n",
    "print(model.p2.extract_values())"
   ]
  },
  {
   "cell_type": "code",
   "execution_count": 37,
   "id": "f2dcc095",
   "metadata": {},
   "outputs": [
    {
     "data": {
      "text/plain": [
       "1.536911328952319e-12"
      ]
     },
     "execution_count": 37,
     "metadata": {},
     "output_type": "execute_result"
    }
   ],
   "source": [
    "transient_function(-0.10739945043515424,1.05369972521757712,0.16109917565273124,-0.1073994504351542,0.49999999999,0.499999)"
   ]
  },
  {
   "cell_type": "markdown",
   "id": "3a4255ae",
   "metadata": {},
   "source": [
    "###  3. Minimize the problem (Phase$_1$, Phase$_2$ and T$_{1,2}$)\n",
    "\\begin{equation}\n",
    "\\begin{aligned}\n",
    "\\min_{\\theta_1, \\theta_2, \\alpha_1} \\quad & f(\\theta_1)    + f(\\theta_2) \\\\\n",
    "\\textrm{s.t.} \\quad & T_{1,2}\\leq  \\bar{T}_{1,2} \\\\\n",
    "    \\\\\n",
    "\\end{aligned}\n",
    "\\end{equation}\n",
    "\n",
    "\n",
    "\n"
   ]
  },
  {
   "cell_type": "markdown",
   "id": "b8e1716c",
   "metadata": {},
   "source": [
    "\n",
    "\\begin{equation}\n",
    "\\begin{aligned}\n",
    "\\min_{\\theta_1, \\theta_2, \\alpha_{T_{1,2}}} \\quad & (\\theta_{11}+2)^2   +(\\theta_{12}-1)^2 + (\\theta_{21}-3)^2   +(\\theta_{22}-\\frac{1}{2})^2 \\\\\n",
    "\\textrm{s.t.} \\quad & 20 \\frac{ (\\alpha_{T_{1,2}1}-\\frac{1}{2})^2+(\\alpha_{T_{1,2}2}-\\frac{1}{2})^2}{1+ (\\theta_{1,1}+2)^2 +(\\theta_{1,2}-1)^2 + (\\theta_{2,1}-3)^2+ (\\theta_{2,2}-\\frac{1}{2})^2} \\leq \\bar{T}_{1,2} \\\\\n",
    "    \\\\\n",
    "\\end{aligned}\n",
    "\\end{equation}\n",
    "\n",
    "\n",
    "\n",
    "\n"
   ]
  },
  {
   "cell_type": "code",
   "execution_count": 38,
   "id": "1e195285",
   "metadata": {},
   "outputs": [],
   "source": [
    "model = pyo.ConcreteModel()"
   ]
  },
  {
   "cell_type": "code",
   "execution_count": 39,
   "id": "b4dc9c70",
   "metadata": {},
   "outputs": [],
   "source": [
    "model.p1 = pyo.Var([1,2], domain=pyo.Reals)\n",
    "model.p2 = pyo.Var([1,2], domain=pyo.Reals)\n",
    "model.alpha = pyo.Var([1,2], domain=pyo.Reals)"
   ]
  },
  {
   "cell_type": "code",
   "execution_count": 40,
   "id": "148e3f00",
   "metadata": {},
   "outputs": [],
   "source": [
    "def P1_P2(m):\n",
    "    P1 = (m.p1[1]+2)**2+(m.p1[2]-1)**2\n",
    "    P2 =  (m.p2[1]-3)**2+(m.p2[2]-0.5)**2\n",
    "    return P1+P2"
   ]
  },
  {
   "cell_type": "code",
   "execution_count": 41,
   "id": "793c00e0",
   "metadata": {},
   "outputs": [],
   "source": [
    "def constr(m):\n",
    "    P1 = (m.p1[1]+2)**2+(m.p1[2]-1)**2\n",
    "    P2 =  (m.p2[1]-3)**2+(m.p2[2]-0.5)**2\n",
    "    Alpha = (m.alpha[1]-0.5)**2+(m.alpha[2]-0.5)**2\n",
    "    return (20*((1+Alpha)/(1+P1+P2))<=10)\n",
    "\n",
    "model.Constraint1 = Constraint(rule=constr)"
   ]
  },
  {
   "cell_type": "code",
   "execution_count": 42,
   "id": "e22b151b",
   "metadata": {},
   "outputs": [],
   "source": [
    "#dichiaro la funzione obiettivo\n",
    "model.OBJ = pyo.Objective(expr = P1_P2, sense=minimize) "
   ]
  },
  {
   "cell_type": "code",
   "execution_count": 43,
   "id": "be807d85",
   "metadata": {},
   "outputs": [
    {
     "name": "stdout",
     "output_type": "stream",
     "text": [
      "Ipopt 3.14.4: \n",
      "\n",
      "******************************************************************************\n",
      "This program contains Ipopt, a library for large-scale nonlinear optimization.\n",
      " Ipopt is released as open source code under the Eclipse Public License (EPL).\n",
      "         For more information visit https://github.com/coin-or/Ipopt\n",
      "******************************************************************************\n",
      "\n",
      "This is Ipopt version 3.14.4, running with linear solver MUMPS 5.2.1.\n",
      "\n",
      "Number of nonzeros in equality constraint Jacobian...:        0\n",
      "Number of nonzeros in inequality constraint Jacobian.:        6\n",
      "Number of nonzeros in Lagrangian Hessian.............:       21\n",
      "\n",
      "Total number of variables............................:        6\n",
      "                     variables with only lower bounds:        0\n",
      "                variables with lower and upper bounds:        0\n",
      "                     variables with only upper bounds:        0\n",
      "Total number of equality constraints.................:        0\n",
      "Total number of inequality constraints...............:        1\n",
      "        inequality constraints with only lower bounds:        0\n",
      "   inequality constraints with lower and upper bounds:        0\n",
      "        inequality constraints with only upper bounds:        1\n",
      "\n",
      "iter    objective    inf_pr   inf_du lg(mu)  ||d||  lg(rg) alpha_du alpha_pr  ls\n",
      "   0  1.4250000e+01 0.00e+00 4.80e+00  -1.0 0.00e+00    -  0.00e+00 0.00e+00   0\n",
      "   1  7.7789541e-01 2.70e+00 6.68e-01  -1.0 2.30e+00    -  1.00e+00 1.00e+00f  1\n",
      "   2  5.7114630e-01 2.81e+00 2.00e-01  -1.0 7.76e+00    -  1.00e+00 9.18e-01h  1\n",
      "   3  1.0184969e+00 0.00e+00 4.01e-01  -1.0 4.01e-01   0.0 1.00e+00 1.00e+00h  1\n",
      "   4  1.0751349e+00 0.00e+00 3.58e-02  -1.7 1.07e-01  -0.5 1.00e+00 1.00e+00h  1\n",
      "   5  1.0081842e+00 0.00e+00 3.55e-02  -2.5 3.20e-01  -1.0 1.00e+00 1.00e+00h  1\n",
      "   6  1.0014573e+00 0.00e+00 1.32e-05  -2.5 3.88e-02    -  1.00e+00 1.00e+00h  1\n",
      "   7  1.0000034e+00 0.00e+00 1.67e-06  -5.7 7.32e-03    -  1.00e+00 1.00e+00h  1\n",
      "   8  9.9999998e-01 0.00e+00 6.50e-12  -8.6 1.98e-05    -  1.00e+00 1.00e+00h  1\n",
      "\n",
      "Number of Iterations....: 8\n",
      "\n",
      "                                   (scaled)                 (unscaled)\n",
      "Objective...............:   9.9999998251239119e-01    9.9999998251239119e-01\n",
      "Dual infeasibility......:   6.4968030955014910e-12    6.4968030955014910e-12\n",
      "Constraint violation....:   0.0000000000000000e+00    0.0000000000000000e+00\n",
      "Variable bound violation:   0.0000000000000000e+00    0.0000000000000000e+00\n",
      "Complementarity.........:   2.5153365172623865e-09    2.5153365172623865e-09\n",
      "Overall NLP error.......:   2.5153365172623865e-09    2.5153365172623865e-09\n",
      "\n",
      "\n",
      "Number of objective function evaluations             = 9\n",
      "Number of objective gradient evaluations             = 9\n",
      "Number of equality constraint evaluations            = 0\n",
      "Number of inequality constraint evaluations          = 9\n",
      "Number of equality constraint Jacobian evaluations   = 0\n",
      "Number of inequality constraint Jacobian evaluations = 9\n",
      "Number of Lagrangian Hessian evaluations             = 8\n",
      "Total seconds in IPOPT                               = 0.029\n",
      "\n",
      "EXIT: Optimal Solution Found.\n",
      "\b\b\b\b\b\b\b\b\b\b\b\b\b\b"
     ]
    },
    {
     "data": {
      "text/plain": [
       "{'Problem': [{'Lower bound': -inf, 'Upper bound': inf, 'Number of objectives': 1, 'Number of constraints': 1, 'Number of variables': 6, 'Sense': 'unknown'}], 'Solver': [{'Status': 'ok', 'Message': 'Ipopt 3.14.4\\\\x3a Optimal Solution Found', 'Termination condition': 'optimal', 'Id': 0, 'Error rc': 0, 'Time': 0.07482075691223145}], 'Solution': [OrderedDict([('number of solutions', 0), ('number of solutions displayed', 0)])]}"
      ]
     },
     "execution_count": 43,
     "metadata": {},
     "output_type": "execute_result"
    }
   ],
   "source": [
    "solver = SolverFactory('ipopt')\n",
    "solver.solve(model, tee=True)"
   ]
  },
  {
   "cell_type": "code",
   "execution_count": null,
   "id": "2e2b3c56",
   "metadata": {},
   "outputs": [],
   "source": []
  },
  {
   "cell_type": "code",
   "execution_count": 44,
   "id": "b1b92546",
   "metadata": {},
   "outputs": [],
   "source": [
    "from scipy.optimize import fmin_cobyla"
   ]
  },
  {
   "cell_type": "code",
   "execution_count": null,
   "id": "d20c8f6c",
   "metadata": {},
   "outputs": [],
   "source": []
  },
  {
   "cell_type": "code",
   "execution_count": 158,
   "id": "8bd491cf",
   "metadata": {},
   "outputs": [],
   "source": [
    "def originalObj(x):\n",
    "    o11 = x[0]\n",
    "    o12 = x[1]\n",
    "    o21 = x[2]\n",
    "    o22 = x[3]\n",
    "    al1 = x[4]\n",
    "    al2 = x[5]\n",
    "    P1 = (o11+2)**2+(o12-1)**2\n",
    "    P2 =  (o21-3)**2+(o22-0.5)**2\n",
    "    print(\"costraint: \",originalCostraint(x))\n",
    "    print(\"obj: \",P1+P2)\n",
    "\n",
    "\n",
    "def originalCostraint(x):\n",
    "    o11 = x[0]\n",
    "    o12 = x[1]\n",
    "    o21 = x[2]\n",
    "    o22 = x[3]\n",
    "    al1 = x[4]\n",
    "    al2 = x[5]\n",
    "    P1 = (o11+2)**2+(o12-1)**2\n",
    "    P2 =  (o21-3)**2+(o22-0.5)**2\n",
    "    Alpha = (al1-0.5)**2+(al2-0.5)**2\n",
    "    return 20*((1+Alpha)/(1+P1+P2)) \n",
    "\n",
    "T_bar = originalCostraint([5,5,5,5,0.3,0.3])\n",
    "\n",
    "def surrogateObj(x):\n",
    "    o11 = x[0]\n",
    "    o12 = x[1]\n",
    "    o21 = x[2]\n",
    "    o22 = x[3]\n",
    "    al1 = x[4]\n",
    "    al2 = x[5]\n",
    "    P1 = OPT_phase_1.predict([o11,o12])\n",
    "    P2 =  OPT_phase_2.predict([o21,o22])\n",
    "    print(\"costraint: \",sorrogateCostraint(x))\n",
    "    print(\"obj: \",P1+P2)\n",
    "\n",
    "def sorrogateCostraint(x):\n",
    "    o11 = x[0]\n",
    "    o12 = x[1]\n",
    "    o21 = x[2]\n",
    "    o22 = x[3]\n",
    "    al1 = x[4]\n",
    "    al2 = x[5]\n",
    "    P1 = OPT_phase_1.predict([o11,o12])\n",
    "    P2 =  OPT_phase_2.predict([o21,o22])\n",
    "    Alpha = (al1-0.5)**2+(al2-0.5)**2\n",
    "    return 20*((1+Alpha)/(1+P1+P2)) "
   ]
  },
  {
   "cell_type": "code",
   "execution_count": 157,
   "id": "8d49c6fd",
   "metadata": {},
   "outputs": [
    {
     "data": {
      "text/plain": [
       "0.23933518005540166"
      ]
     },
     "execution_count": 157,
     "metadata": {},
     "output_type": "execute_result"
    }
   ],
   "source": [
    "T_bar"
   ]
  },
  {
   "cell_type": "markdown",
   "id": "068359de",
   "metadata": {},
   "source": [
    "### Dichiarazione NLP con surrogate, utilizzando la \"funzione vera\" del transitorio"
   ]
  },
  {
   "cell_type": "code",
   "execution_count": 166,
   "id": "dde7b826",
   "metadata": {},
   "outputs": [],
   "source": [
    "def objective(x):\n",
    "    o11 = x[0]\n",
    "    o12 = x[1]\n",
    "    o21 = x[2]\n",
    "    o22 = x[3]\n",
    "    al1 = x[4]\n",
    "    al2 = x[5]\n",
    "    P1 = (o11+2)**2+(o12-1)**2\n",
    "    P2 =  (o21-3)**2+(o22-0.5)**2\n",
    "    #P1 = OPT_phase_1.predict([x[0],x[1]])\n",
    "    #P2 = OPT_phase_2.predict([x[2],x[3]])\n",
    "    return P1+P2\n",
    "\n",
    "def constr2(x):\n",
    "    o11 = x[0]\n",
    "    o12 = x[1]\n",
    "    o21 = x[2]\n",
    "    o22 = x[3]\n",
    "    al1 = x[4]\n",
    "    al2 = x[5]\n",
    "    P1 = (o11+2)**2+(o12-1)**2\n",
    "    P2 =  (o21-3)**2+(o22-0.5)**2\n",
    "    #P1 = OPT_phase_1.predict([x[0],x[1]])\n",
    "    #P2 = OPT_phase_2.predict([x[2],x[3]])\n",
    "    Alpha = (al1-0.5)**2+(al2-0.5)**2\n",
    "    return (20*((1+Alpha)/(1+P1+P2)) - 10 )*(-1)\n",
    "    #return 20*((1+Alpha)/(1+P1+P2)) \n"
   ]
  },
  {
   "cell_type": "markdown",
   "id": "9b6063d1",
   "metadata": {},
   "source": [
    "### 3.1  NLP  pyomo's results "
   ]
  },
  {
   "cell_type": "markdown",
   "id": "71839553",
   "metadata": {},
   "source": [
    "P1 = list(model.p1.extract_values().values())\n",
    "P2 = list(model.p2.extract_values().values())\n",
    "alpha = list(model.alpha.extract_values().values())\n",
    "\n",
    "\n",
    "print('*** NLP Solution *** :') \n",
    "print(P1)\n",
    "print(P2)\n",
    "print(alpha)"
   ]
  },
  {
   "cell_type": "markdown",
   "id": "b03b68fc",
   "metadata": {},
   "source": [
    "### 3.1.1 Test pyomo's results (test if constraints is acceptable)"
   ]
  },
  {
   "cell_type": "code",
   "execution_count": 167,
   "id": "520d2d6d",
   "metadata": {},
   "outputs": [
    {
     "data": {
      "text/plain": [
       "0.23933518005540166"
      ]
     },
     "execution_count": 167,
     "metadata": {},
     "output_type": "execute_result"
    }
   ],
   "source": [
    "#T_bar:\n",
    "originalCostraint([5,5,5,5,0.3,0.3])"
   ]
  },
  {
   "cell_type": "code",
   "execution_count": 168,
   "id": "f28b0331",
   "metadata": {},
   "outputs": [
    {
     "name": "stdout",
     "output_type": "stream",
     "text": [
      "costraint:  10.000000087438046\n",
      "obj:  0.9999999825123912\n"
     ]
    }
   ],
   "source": [
    "originalObj([P1[0],P1[1],P2[0],P2[1],alpha[0],alpha[1]])"
   ]
  },
  {
   "cell_type": "markdown",
   "id": "dbb8d33d",
   "metadata": {},
   "source": [
    "### 3.2 Pyomo obj function needs to be declared with pyomo functions in order to calculate its derivate. So we can not ise it to our problem"
   ]
  },
  {
   "cell_type": "markdown",
   "id": "66db5cdf",
   "metadata": {},
   "source": [
    "### 4. NLP with scipy (it accepts obj and costraint's function derivate free)"
   ]
  },
  {
   "cell_type": "code",
   "execution_count": 169,
   "id": "40fcbfca",
   "metadata": {},
   "outputs": [],
   "source": [
    "res = fmin_cobyla(objective, [0.0, 0.0,0.0, 0.0,0.0,0.0], constr2, rhoend=1e-7)"
   ]
  },
  {
   "cell_type": "markdown",
   "id": "ae5fd953",
   "metadata": {},
   "source": [
    "### 4.1  NLP scipy's results"
   ]
  },
  {
   "cell_type": "code",
   "execution_count": 170,
   "id": "24c0e38c",
   "metadata": {},
   "outputs": [
    {
     "data": {
      "text/plain": [
       "array([-1.8401324 ,  0.07614314,  2.85181249,  0.18540293,  0.50000006,\n",
       "        0.49999995])"
      ]
     },
     "execution_count": 170,
     "metadata": {},
     "output_type": "execute_result"
    }
   ],
   "source": [
    "res"
   ]
  },
  {
   "cell_type": "markdown",
   "id": "98e7053f",
   "metadata": {},
   "source": [
    "### 4.2 Test scipy's results (test if constraints is acceptable)"
   ]
  },
  {
   "cell_type": "code",
   "execution_count": 51,
   "id": "a391b8de",
   "metadata": {},
   "outputs": [
    {
     "name": "stdout",
     "output_type": "stream",
     "text": [
      "costraint:  10.00000000000024\n",
      "obj:  0.9999999999999654\n"
     ]
    }
   ],
   "source": [
    "originalObj(res)"
   ]
  },
  {
   "cell_type": "code",
   "execution_count": null,
   "id": "31f299eb",
   "metadata": {},
   "outputs": [],
   "source": []
  },
  {
   "cell_type": "code",
   "execution_count": null,
   "id": "b0763da5",
   "metadata": {},
   "outputs": [],
   "source": []
  },
  {
   "cell_type": "markdown",
   "id": "346e6eed",
   "metadata": {},
   "source": [
    "### 5. NLP with surogate using scipy"
   ]
  },
  {
   "cell_type": "code",
   "execution_count": 172,
   "id": "29b66e40",
   "metadata": {},
   "outputs": [],
   "source": [
    "def c(x):\n",
    "    o11 = x[0]\n",
    "    o12 = x[1]\n",
    "    o21 = x[2]\n",
    "    o22 = x[3]\n",
    "    al1 = x[4]\n",
    "    al2 = x[5]\n",
    "    P1 = OPT_phase_1.predict([o11,o12])\n",
    "    P2 = OPT_phase_2.predict([o21,o22])\n",
    "    Alpha = (al1-0.5)**2+(al2-0.5)**2\n",
    "    return 20*((1+Alpha)/(1+P1+P2)) "
   ]
  },
  {
   "cell_type": "code",
   "execution_count": 173,
   "id": "6e359712",
   "metadata": {},
   "outputs": [],
   "source": [
    "T_bar = c([5,5,5,5,0.3,0.3])"
   ]
  },
  {
   "cell_type": "code",
   "execution_count": 175,
   "id": "489185dc",
   "metadata": {},
   "outputs": [],
   "source": [
    "def objectiveS(x):\n",
    "    o11 = x[0]\n",
    "    o12 = x[1]\n",
    "    o21 = x[2]\n",
    "    o22 = x[3]\n",
    "    al1 = x[4]\n",
    "    al2 = x[5]\n",
    "    P1 = OPT_phase_1.predict([o11,o12])\n",
    "    P2 = OPT_phase_2.predict([o21,o22])\n",
    "    return P1+P2\n",
    "\n",
    "def constr2S(x):\n",
    "    o11 = x[0]\n",
    "    o12 = x[1]\n",
    "    o21 = x[2]\n",
    "    o22 = x[3]\n",
    "    al1 = x[4]\n",
    "    al2 = x[5]\n",
    "    P1 = OPT_phase_1.predict([o11,o12])\n",
    "    P2 = OPT_phase_2.predict([o21,o22])\n",
    "    Alpha = (al1-0.5)**2+(al2-0.5)**2\n",
    "    return (20*((1+Alpha)/(1+P1+P2)) - T_bar )*(-1)"
   ]
  },
  {
   "cell_type": "code",
   "execution_count": 176,
   "id": "19cb1e2d",
   "metadata": {
    "scrolled": true
   },
   "outputs": [],
   "source": [
    "resSurogate = fmin_cobyla(objectiveS, [0.0, 0.0,0.0, 0.0,0.0,0.0], [constr2S], rhoend=1e-7)"
   ]
  },
  {
   "cell_type": "markdown",
   "id": "1919953f",
   "metadata": {},
   "source": [
    "### 5.1 NLP scipy's with surrogate results"
   ]
  },
  {
   "cell_type": "code",
   "execution_count": 178,
   "id": "f34dc847",
   "metadata": {},
   "outputs": [
    {
     "data": {
      "text/plain": [
       "array([ 0.624874  , -0.91655649, -0.33685991,  1.29559918,  0.49999996,\n",
       "        0.50000004])"
      ]
     },
     "execution_count": 178,
     "metadata": {},
     "output_type": "execute_result"
    }
   ],
   "source": [
    "resSurogate"
   ]
  },
  {
   "cell_type": "code",
   "execution_count": null,
   "id": "f6882832",
   "metadata": {},
   "outputs": [],
   "source": []
  },
  {
   "cell_type": "markdown",
   "id": "0ba86004",
   "metadata": {},
   "source": [
    "### 5.2 Test scipy's with surrogate results (test if constraints is acceptable)"
   ]
  },
  {
   "cell_type": "code",
   "execution_count": 179,
   "id": "d6feb294",
   "metadata": {
    "scrolled": true
   },
   "outputs": [
    {
     "name": "stdout",
     "output_type": "stream",
     "text": [
      "costraint:  0.857237237376862\n",
      "obj:  22.330764376498482\n"
     ]
    }
   ],
   "source": [
    "originalObj(resSurogate)"
   ]
  },
  {
   "cell_type": "code",
   "execution_count": 180,
   "id": "854e3397",
   "metadata": {},
   "outputs": [
    {
     "name": "stdout",
     "output_type": "stream",
     "text": [
      "costraint:  [8.07053159]\n",
      "obj:  [1.4781515]\n"
     ]
    }
   ],
   "source": [
    "surrogateObj(resSurogate)"
   ]
  },
  {
   "cell_type": "code",
   "execution_count": 181,
   "id": "9abd67be",
   "metadata": {},
   "outputs": [
    {
     "name": "stdout",
     "output_type": "stream",
     "text": [
      "[-1.8401324   0.07614314  2.85181249  0.18540293  0.50000006  0.49999995]\n",
      "[ 0.624874   -0.91655649 -0.33685991  1.29559918  0.49999996  0.50000004]\n",
      "distance: 4.296728575475446\n"
     ]
    }
   ],
   "source": [
    "print(res)\n",
    "print(resSurogate)\n",
    "print(\"distance:\",np.linalg.norm(res-resSurogate))"
   ]
  },
  {
   "cell_type": "markdown",
   "id": "ed6d47f5",
   "metadata": {},
   "source": [
    "### 6. Simplified Transient T$_{12}$\n",
    "\n",
    "$T_{12}=20((\\alpha_{T_{12}1}-\\frac{1}{2})^2+(\\alpha_{T_{12}2}-\\frac{1}{2})^2)$"
   ]
  },
  {
   "cell_type": "markdown",
   "id": "0aca21aa",
   "metadata": {},
   "source": [
    "def hidden_transient_1_2(point):\n",
    "    # todo: inserire phase 1 e 2\n",
    "    alpha_1 = point[0]\n",
    "    alpha_2 = point[1]\n",
    "    r = 20 * ((alpha_1 - 0.5) ** 2 + (alpha_2 - 0.5) ** 2)\n",
    "    return r\n",
    "\n",
    "\n",
    "optimal_point_transient_1_2 = np.array([[-0.5, 0.5]])\n",
    "Y_optimal_transient_1_2 = 0\n",
    "\n",
    "\n",
    "def outT12(X):\n",
    "    array = []\n",
    "    for x in X:\n",
    "        array.append(hidden_transient_1_2(x))\n",
    "    return np.array(array)\n",
    "\n",
    "\n",
    "def g_transient_1_2(xt, Y, Models):\n",
    "    return Y[:, 0]"
   ]
  },
  {
   "cell_type": "markdown",
   "id": "e9f74b21",
   "metadata": {},
   "source": [
    "bb = 2\n",
    "\n",
    "fvarsX_T_1_2 = [{'name': 'alpha_T12_1', 'type': 'continuous', 'domain': (-bb, bb)},\n",
    "                {'name': 'alpha_T12_2', 'type': 'continuous', 'domain': (-bb, bb)}\n",
    "                ]\n",
    "\n",
    "fvarsY = [{'name': 'Transient_12', 'type': 'continuous', 'domain': ()}]\n",
    "\n",
    "n = len(fvarsX_T_1_2)\n",
    "\n",
    "init_samples = 5  # Number of initial samples\n",
    "\n",
    "objectives = [outT12]\n",
    "objectivesFunctions = [hidden_transient_1_2]"
   ]
  },
  {
   "cell_type": "code",
   "execution_count": 61,
   "id": "f147ef4e",
   "metadata": {},
   "outputs": [
    {
     "name": "stdout",
     "output_type": "stream",
     "text": [
      "X next:  [[0.43304012 0.07436431]]  ->  [[0.60826003 0.51859108]]\n"
     ]
    }
   ],
   "source": [
    "OPT_transient_1_2 = GL.GLISpFinale(fvarsX_T_1_2, fvarsY, my_pref, objectives=objectives,\n",
    "                                   objectivesFunctions=objectivesFunctions,\n",
    "                                   acquisition_optimizer_type='lbfgsb',\n",
    "                                   kfold=3, delta=2,\n",
    "                                   objective=(10, 1),\n",
    "                                   batch_size=1, init_n_samples=init_samples,\n",
    "                                   save_experiment=True, plot=False,\n",
    "                                   title=\"Bemporad Function\", save=True,\n",
    "                                   g=g_transient_1_2,\n",
    "                                   # theta=2, sigma=1 / 5, lam=0,\n",
    "                                   # load_experiment_foldername='experimentsFolder/Experiment_nuovoCoSin_20210802-110334',\n",
    "                                   max_bound=bb,\n",
    "                                   name_opt='quadratica', plotAcquisition=False)\n",
    "\n",
    "exploration = True\n",
    "x_next = OPT_transient_1_2.run_optimization(exploration=exploration)\n",
    "iterations = 20\n",
    "print(\"X next: \", x_next, \" -> \", utils.math.normalize_X(OPT_transient_1_2.fvars_x, x_next))"
   ]
  },
  {
   "cell_type": "markdown",
   "id": "040c549a",
   "metadata": {
    "scrolled": true
   },
   "source": [
    "xx = np.arange(0, iterations, 1)  # sono gli step\n",
    "f_x_best = []  # sono le f(best)\n",
    "f_x_next = []  # sono le f(next)\n",
    "\n",
    "end_explore = 3\n",
    "for i in range(iterations):\n",
    "    # t.sendIt((x_next[0]).tolist())\n",
    "    eval = []\n",
    "    y_sum = 0\n",
    "    y_sum_opt = 0\n",
    "    print(i)\n",
    "    for ind in range(len(OPT_transient_1_2.models)):\n",
    "        i_best = OPT_transient_1_2.Y_ind_best[ind]\n",
    "        eval.append(\n",
    "            my_pref(\n",
    "                OPT_transient_1_2.models[ind].X[i_best:i_best + 1, :],\n",
    "\n",
    "                OPT_transient_1_2.X_next[0: 1, :][:, ind * OPT_transient_1_2.ratio:(ind + 1) * OPT_transient_1_2.ratio],\n",
    "\n",
    "                f=objectives[ind]\n",
    "            )\n",
    "        )  # for all y there will be an evaluation\n",
    "        y_sum += objectives[ind](x_next)\n",
    "        y_sum_opt += objectives[ind](OPT_transient_1_2.models[ind].X[i_best:i_best + 1, :])\n",
    "    f_x_next.append(y_sum)\n",
    "    f_x_best.append(y_sum_opt)\n",
    "\n",
    "    if i > iterations - end_explore:\n",
    "        exploration = False\n",
    "    OPT_transient_1_2.add_evaluations(x_next, eval)\n",
    "    x_next = OPT_transient_1_2.run_optimization(exploration=exploration)\n"
   ]
  },
  {
   "cell_type": "markdown",
   "id": "be9c8fc9",
   "metadata": {
    "scrolled": true
   },
   "source": [
    "OPT_transient_1_2.update()\n",
    "\n",
    "utils.process.printVar(OPT_transient_1_2.X, iterations, init_samples, end_explore)\n",
    "\n",
    "utils.process.printBestForEachModel(OPT_transient_1_2)\n",
    "\n",
    "name = \"plot/\" + \"Ex_2X1Y\" + str(iterations) + \"iterations\" + datetime.now().strftime(\"%Y%m%d-%H%M%S\")\n",
    "\n",
    "utils.process.saveAux(name, len(OPT_transient_1_2.X), optimal_point_transient_1_2, np.shape(OPT_transient_1_2.X)[1],\n",
    "                      init_samples,\n",
    "                      end_explore,\n",
    "                      OPT_transient_1_2.X)\n",
    "\n",
    "utils.process.plotResults(len(fvarsX_T_1_2), len(fvarsY), xx, f_x_best, Y_optimal_transient_1_2, name,\n",
    "                          objectivesFunctions,\n",
    "                          f_x_next,\n",
    "                          OPT_transient_1_2.X, optimal_point_transient_1_2, init_samples,\n",
    "                          end_explore)\n",
    "\n",
    "i_best = OPT_transient_1_2.Y_ind_best[0]\n",
    "delta = np.linalg.norm(OPT_transient_1_2.models[0].X[i_best:i_best + 1, :] - optimal_point_transient_1_2)\n",
    "perc = delta / (bb * 2) * 100\n",
    "print(\"Distance between opt and model's opt \", delta, \" error: \", round(perc, 3), \" %\")"
   ]
  },
  {
   "cell_type": "markdown",
   "id": "7799041c",
   "metadata": {},
   "source": [
    "### 7. NLP with surrogate (with $\\hat{T}_{12}$ semplified) using scipy "
   ]
  },
  {
   "cell_type": "markdown",
   "id": "72333db5",
   "metadata": {},
   "source": [
    "def surrogateObj_T(x):\n",
    "    o11 = x[0]\n",
    "    o12 = x[1]\n",
    "    o21 = x[2]\n",
    "    o22 = x[3]\n",
    "    al1 = x[4]\n",
    "    al2 = x[5]\n",
    "    P1 = OPT_phase_1.predict([o11,o12])\n",
    "    P2 =  OPT_phase_2.predict([o21,o22])\n",
    "    print(\"costraint: \",sorrogateCostraint_T(x))\n",
    "    print(\"obj: \",P1+P2)\n",
    "\n",
    "def sorrogateCostraint_T(x):\n",
    "    o11 = x[0]\n",
    "    o12 = x[1]\n",
    "    o21 = x[2]\n",
    "    o22 = x[3]\n",
    "    al1 = x[4]\n",
    "    al2 = x[5]\n",
    "    P1 = OPT_phase_1.predict([o11,o12])\n",
    "    P2 =  OPT_phase_2.predict([o21,o22])\n",
    "    Alpha = OPT_transient_1_2.predict([al1,al2])\n",
    "    return 20*((1+Alpha)/(1+P1+P2)) "
   ]
  },
  {
   "cell_type": "markdown",
   "id": "4c4d1eeb",
   "metadata": {},
   "source": [
    "def objectiveS_T(x):\n",
    "    o11 = x[0]\n",
    "    o12 = x[1]\n",
    "    o21 = x[2]\n",
    "    o22 = x[3]\n",
    "    al1 = x[4]\n",
    "    al2 = x[5]\n",
    "    P1 = OPT_phase_1.predict([o11,o12])\n",
    "    P2 = OPT_phase_2.predict([o21,o22])\n",
    "    return P1+P2\n",
    "\n",
    "def constr2S_T(x):\n",
    "    o11 = x[0]\n",
    "    o12 = x[1]\n",
    "    o21 = x[2]\n",
    "    o22 = x[3]\n",
    "    al1 = x[4]\n",
    "    al2 = x[5]\n",
    "    P1 = OPT_phase_1.predict([o11,o12])\n",
    "    P2 = OPT_phase_2.predict([o21,o22])\n",
    "    Alpha = OPT_transient_1_2.predict([al1,al2])\n",
    "    return (20*((1+Alpha)/(1+P1+P2)) - 1000000 )*(-1)"
   ]
  },
  {
   "cell_type": "markdown",
   "id": "3bba4c9f",
   "metadata": {},
   "source": [
    "resSurogate_T = fmin_cobyla(objectiveS_T, [0.0, 0.0,0.0, 0.0,0.0,0.0], constr2S_T, rhoend=1e-7)"
   ]
  },
  {
   "cell_type": "markdown",
   "id": "312a2c26",
   "metadata": {},
   "source": [
    "### 7.1 Results"
   ]
  },
  {
   "cell_type": "markdown",
   "id": "c25b2b71",
   "metadata": {},
   "source": [
    "resSurogate_T"
   ]
  },
  {
   "cell_type": "markdown",
   "id": "40364337",
   "metadata": {},
   "source": [
    "OPT_phase_1.predict(resSurogate_T[:2])"
   ]
  },
  {
   "cell_type": "markdown",
   "id": "45511bd4",
   "metadata": {},
   "source": [
    "OPT_phase_2.predict(resSurogate_T[2:4])"
   ]
  },
  {
   "cell_type": "markdown",
   "id": "e686ac32",
   "metadata": {},
   "source": [
    "### 7.2 Test risults"
   ]
  },
  {
   "cell_type": "markdown",
   "id": "14ecae36",
   "metadata": {},
   "source": [
    "originalObj(resSurogate_T)"
   ]
  },
  {
   "cell_type": "markdown",
   "id": "bfba6f03",
   "metadata": {},
   "source": [
    "surrogateObj_T(resSurogate_T)"
   ]
  },
  {
   "cell_type": "markdown",
   "id": "4da0d733",
   "metadata": {},
   "source": [
    "print(res)\n",
    "print(resSurogate_T)\n",
    "print(\"distance:\",np.linalg.norm(res-resSurogate))"
   ]
  },
  {
   "cell_type": "markdown",
   "id": "ea9984ef",
   "metadata": {},
   "source": [
    "## 8. Transient  $T_{12}$ for Phase$_1$ and Phase$_2$"
   ]
  },
  {
   "cell_type": "markdown",
   "id": "9c59a529",
   "metadata": {},
   "source": [
    "### 8.1 find minimum through scipy"
   ]
  },
  {
   "cell_type": "code",
   "execution_count": 182,
   "id": "5e395f29",
   "metadata": {},
   "outputs": [],
   "source": [
    "def c1(point):\n",
    "    return (point[0]-2)*-1\n",
    "def c1_L(point):\n",
    "    return (point[0]+2)\n",
    "def c2(point):\n",
    "    return (point[1]-2)*-1\n",
    "def c2_L(point):\n",
    "    return (point[1]+2)\n",
    "def c3(point):\n",
    "    return (point[2]-20)*-1\n",
    "def c3_L(point):\n",
    "    return (point[2]+20)\n",
    "def c4(point):\n",
    "    return (point[3]-20)*-1\n",
    "def c4_L(point):\n",
    "    return (point[3]+20)\n",
    "def c5(point):\n",
    "    return (point[4]-20)*-1\n",
    "def c5_L(point):\n",
    "    return (point[4]+20)\n",
    "def c6(point):\n",
    "    return (point[5]-20)*-1\n",
    "def c6_L(point):\n",
    "    return (point[5]+20)\n",
    "\n",
    "def hidden_transient_1_2_F(point):\n",
    "    alpha_1 = point[0]\n",
    "    alpha_2 = point[1]\n",
    "    o_11 =point[2]\n",
    "    o_12 =point[3]\n",
    "    o_21 =point[4]\n",
    "    o_22 =point[5]    \n",
    "    P1= (o_11 + 2) ** 2 + (o_12 - 1) ** 2  \n",
    "    P2= (o_21 - 3) ** 2 + (o_22 - 0.5) ** 2  \n",
    "    r = 20 * ((1+(alpha_1 - 0.5) ** 2 + (alpha_2 - 0.5) ** 2)/(1+P1+P2))\n",
    "    return r\n",
    "\n",
    "\n"
   ]
  },
  {
   "cell_type": "code",
   "execution_count": 72,
   "id": "e5edf9c4",
   "metadata": {},
   "outputs": [],
   "source": [
    "r = fmin_cobyla(hidden_transient_1_2, [0.0, 0.0,20.0, 20.0,20.0,20.0], [c1,c1_L,c2,c2_L,c3,c3_L,c4,c4_L,c5,c5_L,c6,c6_L], rhoend=1e-7)"
   ]
  },
  {
   "cell_type": "code",
   "execution_count": 73,
   "id": "e5d7c886",
   "metadata": {},
   "outputs": [
    {
     "data": {
      "text/plain": [
       "array([ 0.49999998,  0.50000007, 19.80497344, 19.89412144, 19.95841747,\n",
       "       19.86695955])"
      ]
     },
     "execution_count": 73,
     "metadata": {},
     "output_type": "execute_result"
    }
   ],
   "source": [
    "r"
   ]
  },
  {
   "cell_type": "markdown",
   "id": "ce04e65d",
   "metadata": {},
   "source": [
    "### 8.2 find minimum and its surogate through Preference Based Optimization"
   ]
  },
  {
   "cell_type": "code",
   "execution_count": 74,
   "id": "8b2cb4a7",
   "metadata": {},
   "outputs": [],
   "source": [
    "optimal_point_transient_1_2_F = np.array([fmin_cobyla(hidden_transient_1_2, [0.0, 0.0,20.0, 20.0,20.0,20.0], [c1,c1_L,c2,c2_L,c3,c3_L,c4,c4_L,c5,c5_L,c6,c6_L], rhoend=1e-7)])\n",
    "Y_optimal_transient_1_2_R = 0\n",
    "\n",
    "\n",
    "def outT12(X):\n",
    "    array = []\n",
    "    for x in X:\n",
    "        array.append(hidden_transient_1_2_F(x))\n",
    "    return np.array(array)\n",
    "\n",
    "\n",
    "def g_transient_1_2(xt, Y, Models):\n",
    "    return Y[:, 0]"
   ]
  },
  {
   "cell_type": "code",
   "execution_count": 75,
   "id": "cfd61e47",
   "metadata": {},
   "outputs": [],
   "source": [
    "bb = 20\n",
    "bb_T = 2\n",
    "\n",
    "fvarsX_T_1_2 = [{'name': 'alpha_T12_1', 'type': 'continuous', 'domain': (-bb_T, bb_T)},\n",
    "                {'name': 'alpha_T12_2', 'type': 'continuous', 'domain': (-bb_T, bb_T)},\n",
    "                {'name': 'f_1_1', 'type': 'continuous', 'domain': (-bb, bb)},\n",
    "                {'name': 'f_1_2', 'type': 'continuous', 'domain': (-bb, bb)},\n",
    "                {'name': 'f_2_1', 'type': 'continuous', 'domain': (-bb, bb)},\n",
    "                {'name': 'f_2_2', 'type': 'continuous', 'domain': (-bb, bb)}\n",
    "                ]\n",
    "\n",
    "fvarsY = [{'name': 'Transient_12', 'type': 'continuous', 'domain': ()}]\n",
    "\n",
    "n = len(fvarsX_T_1_2)\n",
    "\n",
    "init_samples = 5  # Number of initial samples\n",
    "\n",
    "objectives = [outT12]\n",
    "objectivesFunctions = [hidden_transient_1_2_F]"
   ]
  },
  {
   "cell_type": "code",
   "execution_count": 76,
   "id": "c8ead2ba",
   "metadata": {},
   "outputs": [
    {
     "name": "stdout",
     "output_type": "stream",
     "text": [
      "X next:  [[  2.   2. -20.  20. -20.  20.]]  ->  [[1. 1. 0. 1. 0. 1.]]\n"
     ]
    }
   ],
   "source": [
    "OPT_transient_1_2_F = GL.GLISpFinale(fvarsX_T_1_2, fvarsY, my_pref, objectives=objectives,\n",
    "                                     objectivesFunctions=objectivesFunctions,\n",
    "                                     acquisition_optimizer_type='lbfgsb',\n",
    "                                     kfold=3, delta=1.3,\n",
    "                                     objective=(10, 1),\n",
    "                                     batch_size=1, init_n_samples=init_samples,\n",
    "                                     save_experiment=True, plot=False,\n",
    "                                     title=\"Bemporad Function\", save=True,\n",
    "                                     g=g_transient_1_2,\n",
    "                                     # theta=2, sigma=1 / 5, lam=0,\n",
    "                                     # load_experiment_foldername='experimentsFolder/Experiment_nuovoCoSin_20210802-110334',\n",
    "                                     max_bound=bb,\n",
    "                                     name_opt='quadratica', plotAcquisition=False)\n",
    "\n",
    "exploration = True\n",
    "x_next = OPT_transient_1_2_F.run_optimization(exploration=exploration)\n",
    "iterations = 35\n",
    "print(\"X next: \", x_next, \" -> \", utils.math.normalize_X(OPT_transient_1_2_F.fvars_x, x_next))\n"
   ]
  },
  {
   "cell_type": "code",
   "execution_count": 77,
   "id": "fd37f802",
   "metadata": {
    "scrolled": true
   },
   "outputs": [
    {
     "name": "stdout",
     "output_type": "stream",
     "text": [
      "0\n",
      "best is :  [[  0.07638039  -0.98671945 -11.20980413  13.43258665  -9.46091391\n",
      "  -12.07200729]], next is: [[  2.   2. -20.  20. -20.  20.]], f(best): 0.1224, f(next): 0.0690, user's input: -1\n",
      "1\n",
      "best is :  [[  2.   2. -20.  20. -20.  20.]], next is: [[  2.   2.  20.  20. -20.  20.]], f(best): 0.0690, f(next): 0.0627, user's input: -1\n",
      "2\n",
      "best is :  [[  2.   2.  20.  20. -20.  20.]], next is: [[  1.89003573  -0.46609367  16.3154899   20.         -20.\n",
      "   20.        ]], f(best): 0.0627, f(next): 0.0481, user's input: -1\n",
      "3\n",
      "best is :  [[  1.89003573  -0.46609367  16.3154899   20.         -20.\n",
      "   20.        ]], next is: [[  2.           2.           1.63999267  20.         -20.\n",
      "   20.        ]], f(best): 0.0481, f(next): 0.0856, user's input: 1\n",
      "4\n",
      "best is :  [[  1.89003573  -0.46609367  16.3154899   20.         -20.\n",
      "   20.        ]], next is: [[  0.99066669  -1.22756833   6.34215543  20.         -20.\n",
      "   17.71082962]], f(best): 0.0481, f(next): 0.0672, user's input: 1\n",
      "5\n",
      "best is :  [[  1.89003573  -0.46609367  16.3154899   20.         -20.\n",
      "   20.        ]], next is: [[  2.           0.11984231  16.37876652  20.         -20.\n",
      "   20.        ]], f(best): 0.0481, f(next): 0.0422, user's input: -1\n",
      "6\n",
      "best is :  [[  2.           0.11984231  16.37876652  20.         -20.\n",
      "   20.        ]], next is: [[  2.          -0.1317882   20.          20.         -14.23984864\n",
      "   17.7849721 ]], f(best): 0.0422, f(next): 0.0506, user's input: 1\n",
      "7\n",
      "best is :  [[  2.           0.11984231  16.37876652  20.         -20.\n",
      "   20.        ]], next is: [[  2.          -0.12994906  15.8637007   20.         -17.261794\n",
      "   17.84823093]], f(best): 0.0422, f(next): 0.0524, user's input: 1\n",
      "8\n",
      "best is :  [[  2.           0.11984231  16.37876652  20.         -20.\n",
      "   20.        ]], next is: [[  2.           0.89624006  11.91376127  20.         -20.\n",
      "   20.        ]], f(best): 0.0422, f(next): 0.0465, user's input: 1\n",
      "9\n",
      "best is :  [[  2.           0.11984231  16.37876652  20.         -20.\n",
      "   20.        ]], next is: [[  2.           0.68680484  20.          20.         -20.\n",
      "   20.        ]], f(best): 0.0422, f(next): 0.0374, user's input: -1\n",
      "10\n",
      "best is :  [[  2.           0.68680484  20.          20.         -20.\n",
      "   20.        ]], next is: [[  2.           0.27070862  20.          20.         -20.\n",
      "   20.        ]], f(best): 0.0374, f(next): 0.0376, user's input: 1\n",
      "11\n",
      "best is :  [[  2.           0.68680484  20.          20.         -20.\n",
      "   20.        ]], next is: [[  2.           1.44990859  14.27677997  20.         -20.\n",
      "   20.        ]], f(best): 0.0374, f(next): 0.0541, user's input: 1\n",
      "12\n",
      "best is :  [[  2.           0.68680484  20.          20.         -20.\n",
      "   20.        ]], next is: [[  1.86180097   0.73564762  20.          20.         -20.\n",
      "   20.        ]], f(best): 0.0374, f(next): 0.0332, user's input: -1\n",
      "13\n",
      "best is :  [[  1.86180097   0.73564762  20.          20.         -20.\n",
      "   20.        ]], next is: [[  1.54949      0.51249526  17.96441143  18.7697938  -18.37569978\n",
      "   17.91342927]], f(best): 0.0332, f(next): 0.0285, user's input: -1\n",
      "14\n",
      "best is :  [[  1.54949      0.51249526  17.96441143  18.7697938  -18.37569978\n",
      "   17.91342927]], next is: [[  1.60031539   0.55689901  20.          18.89998464 -17.38681074\n",
      "   15.14067801]], f(best): 0.0285, f(next): 0.0308, user's input: 1\n",
      "N-15\n",
      "best is :  [[  1.54949      0.51249526  17.96441143  18.7697938  -18.37569978\n",
      "   17.91342927]], next is: [[  1.66342147   0.53344282  17.02018092  18.20127094 -17.05699927\n",
      "   16.35195043]], f(best): 0.0285, f(next): 0.0359, user's input: 1\n",
      "N-16\n",
      "best is :  [[  1.54949      0.51249526  17.96441143  18.7697938  -18.37569978\n",
      "   17.91342927]], next is: [[  1.64926971   0.56446953  18.9593954   19.64425989 -19.22829466\n",
      "   17.20543845]], f(best): 0.0285, f(next): 0.0298, user's input: 1\n"
     ]
    },
    {
     "name": "stderr",
     "output_type": "stream",
     "text": [
      "/Users/marco/opt/anaconda3/envs/pref/lib/python3.8/site-packages/cvxpy/problems/problem.py:1245: UserWarning: Solution may be inaccurate. Try another solver, adjusting the solver settings, or solve with verbose=True for more information.\n",
      "  warnings.warn(\n"
     ]
    },
    {
     "name": "stdout",
     "output_type": "stream",
     "text": [
      "17\n",
      "best is :  [[  1.54949      0.51249526  17.96441143  18.7697938  -18.37569978\n",
      "   17.91342927]], next is: [[  1.20862059   0.56312931  16.96423668  17.71245702 -19.72442636\n",
      "   15.57151184]], f(best): 0.0285, f(next): 0.0218, user's input: -1\n",
      "18\n",
      "best is :  [[  1.20862059   0.56312931  16.96423668  17.71245702 -19.72442636\n",
      "   15.57151184]], next is: [[  1.27292008   0.52659134  17.75699782  18.65598496 -18.59808419\n",
      "   15.55128738]], f(best): 0.0218, f(next): 0.0229, user's input: 1\n",
      "19\n",
      "best is :  [[  1.20862059   0.56312931  16.96423668  17.71245702 -19.72442636\n",
      "   15.57151184]], next is: [[  1.0097838    0.59127223  16.54052761  16.37243217 -20.\n",
      "   14.27078713]], f(best): 0.0218, f(next): 0.0195, user's input: -1\n",
      "20\n",
      "best is :  [[  1.0097838    0.59127223  16.54052761  16.37243217 -20.\n",
      "   14.27078713]], next is: [[  0.66530578   0.62604987  18.88767455  16.30684577 -20.\n",
      "   14.96589768]], f(best): 0.0195, f(next): 0.0148, user's input: -1\n",
      "21\n",
      "best is :  [[  0.66530578   0.62604987  18.88767455  16.30684577 -20.\n",
      "   14.96589768]], next is: [[  0.66811806   0.6255259   17.53052269  18.5376172  -20.\n",
      "   13.84334298]], f(best): 0.0148, f(next): 0.0149, user's input: 1\n",
      "22\n",
      "best is :  [[  0.66530578   0.62604987  18.88767455  16.30684577 -20.\n",
      "   14.96589768]], next is: [[  0.59103752   0.63271034  19.21260015  16.84820628 -20.\n",
      "   15.20027136]], f(best): 0.0148, f(next): 0.0142, user's input: -1\n",
      "23\n",
      "best is :  [[  0.59103752   0.63271034  19.21260015  16.84820628 -20.\n",
      "   15.20027136]], next is: [[  0.51513142   0.57749659  15.98306852  18.70811305 -20.\n",
      "   11.73068362]], f(best): 0.0142, f(next): 0.0156, user's input: 1\n",
      "24\n",
      "best is :  [[  0.59103752   0.63271034  19.21260015  16.84820628 -20.\n",
      "   15.20027136]], next is: [[ -0.47794397   1.16807204  18.96307078  14.31835278 -20.\n",
      "   13.65386096]], f(best): 0.0142, f(next): 0.0364, user's input: 1\n",
      "25\n",
      "best is :  [[  0.59103752   0.63271034  19.21260015  16.84820628 -20.\n",
      "   15.20027136]], next is: [[ 3.74674318e-04  8.47282922e-01  2.00000000e+01  1.62288811e+01\n",
      "  -2.00000000e+01  1.34835678e+01]], f(best): 0.0142, f(next): 0.0194, user's input: 1\n",
      "26\n",
      "best is :  [[  0.59103752   0.63271034  19.21260015  16.84820628 -20.\n",
      "   15.20027136]], next is: [[  0.30712283   0.71795192  20.          17.53388795 -20.\n",
      "   14.09313859]], f(best): 0.0142, f(next): 0.0147, user's input: 1\n",
      "27\n",
      "best is :  [[  0.59103752   0.63271034  19.21260015  16.84820628 -20.\n",
      "   15.20027136]], next is: [[  0.4119991    0.7244424   19.02789506  18.24346904 -20.\n",
      "   18.22164766]], f(best): 0.0142, f(next): 0.0134, user's input: -1\n",
      "28\n",
      "best is :  [[  0.4119991    0.7244424   19.02789506  18.24346904 -20.\n",
      "   18.22164766]], next is: [[  0.38559217   0.70428844  20.          17.19018387 -20.\n",
      "   18.43687654]], f(best): 0.0134, f(next): 0.0132, user's input: -1\n",
      "29\n",
      "best is :  [[  0.38559217   0.70428844  20.          17.19018387 -20.\n",
      "   18.43687654]], next is: [[  0.49189804   0.65258473  20.          17.43626435 -20.\n",
      "   20.        ]], f(best): 0.0132, f(next): 0.0123, user's input: -1\n",
      "30\n",
      "best is :  [[  0.49189804   0.65258473  20.          17.43626435 -20.\n",
      "   20.        ]], next is: [[  0.24709491   0.64112334  20.          17.37755948 -20.\n",
      "   20.        ]], f(best): 0.0123, f(next): 0.0130, user's input: 1\n",
      "31\n",
      "best is :  [[  0.49189804   0.65258473  20.          17.43626435 -20.\n",
      "   20.        ]], next is: [[  0.37798949   0.57198748  20.          17.65667684 -20.\n",
      "   20.        ]], f(best): 0.0123, f(next): 0.0122, user's input: -1\n",
      "32\n",
      "best is :  [[  0.37798949   0.57198748  20.          17.65667684 -20.\n",
      "   20.        ]], next is: [[  0.38173379   0.48575504  20.          18.19991037 -20.\n",
      "   20.        ]], f(best): 0.0122, f(next): 0.0120, user's input: -1\n",
      "33\n",
      "best is :  [[  0.38173379   0.48575504  20.          18.19991037 -20.\n",
      "   20.        ]], next is: [[  0.35948271   0.41599134  20.          18.62440053 -20.\n",
      "   20.        ]], f(best): 0.0120, f(next): 0.0120, user's input: 1\n",
      "34\n",
      "best is :  [[  0.38173379   0.48575504  20.          18.19991037 -20.\n",
      "   20.        ]], next is: [[  0.37061557   0.50113099  20.          18.0849154  -20.\n",
      "   20.        ]], f(best): 0.0120, f(next): 0.0121, user's input: 1\n"
     ]
    }
   ],
   "source": [
    "\n",
    "xx = np.arange(0, iterations, 1)  # sono gli step\n",
    "f_x_best = []  # sono le f(best)\n",
    "f_x_next = []  # sono le f(next)\n",
    "\n",
    "end_explore = 3\n",
    "for i in range(iterations):\n",
    "    # t.sendIt((x_next[0]).tolist())\n",
    "    eval = []\n",
    "    y_sum = 0\n",
    "    y_sum_opt = 0\n",
    "    print(i)\n",
    "    for ind in range(len(OPT_transient_1_2_F.models)):\n",
    "        i_best = OPT_transient_1_2_F.Y_ind_best[ind]\n",
    "        eval.append(\n",
    "            my_pref(\n",
    "                OPT_transient_1_2_F.models[ind].X[i_best:i_best + 1, :],\n",
    "\n",
    "                OPT_transient_1_2_F.X_next[0: 1, :][:,\n",
    "                ind * OPT_transient_1_2_F.ratio:(ind + 1) * OPT_transient_1_2_F.ratio],\n",
    "\n",
    "                f=objectives[ind]\n",
    "            )\n",
    "        )  # for all y there will be an evaluation\n",
    "        y_sum += objectives[ind](x_next)\n",
    "        y_sum_opt += objectives[ind](OPT_transient_1_2_F.models[ind].X[i_best:i_best + 1, :])\n",
    "    f_x_next.append(y_sum)\n",
    "    f_x_best.append(y_sum_opt)\n",
    "\n",
    "    if i > iterations - end_explore:\n",
    "        exploration = False\n",
    "    OPT_transient_1_2_F.add_evaluations(x_next, eval)\n",
    "    x_next = OPT_transient_1_2_F.run_optimization(exploration=exploration)\n"
   ]
  },
  {
   "cell_type": "code",
   "execution_count": 78,
   "id": "4e433019",
   "metadata": {
    "scrolled": true
   },
   "outputs": [
    {
     "name": "stdout",
     "output_type": "stream",
     "text": [
      "X value:\n",
      "initial     0.07638 ,   -0.98672,   -11.20980,   13.43259,   -9.46091,   -12.07201\n",
      "initial     -1.32084 ,   -1.16903,   11.63399,   -10.18361,   -4.69870,   12.71078\n",
      "initial     -1.43752 ,   1.21575,   9.93713,   -0.57130,   -19.13657,   10.13644\n",
      "initial     -1.41532 ,   -1.94262,   0.57949,   -5.30620,   13.05636,   -7.98114\n",
      "initial     -0.98787 ,   0.42358,   3.97777,   -16.30001,   -7.32973,   8.42663\n",
      "       0 :   2.00000 ,   2.00000,   -20.00000,   20.00000,   -20.00000,   20.00000\n",
      "       1 :   2.00000 ,   2.00000,   20.00000,   20.00000,   -20.00000,   20.00000\n",
      "       2 :   1.89004 ,   -0.46609,   16.31549,   20.00000,   -20.00000,   20.00000\n",
      "       3 :   2.00000 ,   2.00000,   1.63999,   20.00000,   -20.00000,   20.00000\n",
      "       4 :   0.99067 ,   -1.22757,   6.34216,   20.00000,   -20.00000,   17.71083\n",
      "       5 :   2.00000 ,   0.11984,   16.37877,   20.00000,   -20.00000,   20.00000\n",
      "       6 :   2.00000 ,   -0.13179,   20.00000,   20.00000,   -14.23985,   17.78497\n",
      "       7 :   2.00000 ,   -0.12995,   15.86370,   20.00000,   -17.26179,   17.84823\n",
      "       8 :   2.00000 ,   0.89624,   11.91376,   20.00000,   -20.00000,   20.00000\n",
      "       9 :   2.00000 ,   0.68680,   20.00000,   20.00000,   -20.00000,   20.00000\n",
      "      10 :   2.00000 ,   0.27071,   20.00000,   20.00000,   -20.00000,   20.00000\n",
      "      11 :   2.00000 ,   1.44991,   14.27678,   20.00000,   -20.00000,   20.00000\n",
      "      12 :   1.86180 ,   0.73565,   20.00000,   20.00000,   -20.00000,   20.00000\n",
      "      13 :   1.54949 ,   0.51250,   17.96441,   18.76979,   -18.37570,   17.91343\n",
      "      14 :   1.60032 ,   0.55690,   20.00000,   18.89998,   -17.38681,   15.14068\n",
      "      15 :   1.66342 ,   0.53344,   17.02018,   18.20127,   -17.05700,   16.35195\n",
      "      16 :   1.64927 ,   0.56447,   18.95940,   19.64426,   -19.22829,   17.20544\n",
      "      17 :   1.20862 ,   0.56313,   16.96424,   17.71246,   -19.72443,   15.57151\n",
      "      18 :   1.27292 ,   0.52659,   17.75700,   18.65598,   -18.59808,   15.55129\n",
      "      19 :   1.00978 ,   0.59127,   16.54053,   16.37243,   -20.00000,   14.27079\n",
      "      20 :   0.66531 ,   0.62605,   18.88767,   16.30685,   -20.00000,   14.96590\n",
      "      21 :   0.66812 ,   0.62553,   17.53052,   18.53762,   -20.00000,   13.84334\n",
      "      22 :   0.59104 ,   0.63271,   19.21260,   16.84821,   -20.00000,   15.20027\n",
      "      23 :   0.51513 ,   0.57750,   15.98307,   18.70811,   -20.00000,   11.73068\n",
      "      24 :   -0.47794 ,   1.16807,   18.96307,   14.31835,   -20.00000,   13.65386\n",
      "      25 :   0.00037 ,   0.84728,   20.00000,   16.22888,   -20.00000,   13.48357\n",
      "      26 :   0.30712 ,   0.71795,   20.00000,   17.53389,   -20.00000,   14.09314\n",
      "      27 :   0.41200 ,   0.72444,   19.02790,   18.24347,   -20.00000,   18.22165\n",
      "      28 :   0.38559 ,   0.70429,   20.00000,   17.19018,   -20.00000,   18.43688\n",
      "      29 :   0.49190 ,   0.65258,   20.00000,   17.43626,   -20.00000,   20.00000\n",
      "      30 :   0.24709 ,   0.64112,   20.00000,   17.37756,   -20.00000,   20.00000\n",
      "      31 :   0.37799 ,   0.57199,   20.00000,   17.65668,   -20.00000,   20.00000\n",
      "      32 :   0.38173 ,   0.48576,   20.00000,   18.19991,   -20.00000,   20.00000\n",
      "      33*:   0.35948 ,   0.41599,   20.00000,   18.62440,   -20.00000,   20.00000\n",
      "      34*:   0.37062 ,   0.50113,   20.00000,   18.08492,   -20.00000,   20.00000\n",
      "Best:  [[  0.38173379   0.48575504  20.          18.19991037 -20.\n",
      "   20.        ]]\n"
     ]
    },
    {
     "data": {
      "image/png": "[encoded data removed]",
      "text/plain": [
       "<Figure size 432x288 with 1 Axes>"
      ]
     },
     "metadata": {
      "needs_background": "light"
     },
     "output_type": "display_data"
    },
    {
     "data": {
      "image/png": "[encoded data removed]",
      "text/plain": [
       "<Figure size 432x288 with 1 Axes>"
      ]
     },
     "metadata": {
      "needs_background": "light"
     },
     "output_type": "display_data"
    },
    {
     "data": {
      "image/png": "[encoded data removed]",
      "text/plain": [
       "<Figure size 432x288 with 1 Axes>"
      ]
     },
     "metadata": {
      "needs_background": "light"
     },
     "output_type": "display_data"
    },
    {
     "data": {
      "image/png": "[encoded data removed]",
      "text/plain": [
       "<Figure size 432x288 with 1 Axes>"
      ]
     },
     "metadata": {
      "needs_background": "light"
     },
     "output_type": "display_data"
    },
    {
     "name": "stdout",
     "output_type": "stream",
     "text": [
      "Distance between opt and model's opt  39.99519224484628  error:  99.988  %\n"
     ]
    }
   ],
   "source": [
    "OPT_transient_1_2_F.update()\n",
    "\n",
    "utils.process.printVar(OPT_transient_1_2_F.X, iterations, init_samples, end_explore)\n",
    "\n",
    "utils.process.printBestForEachModel(OPT_transient_1_2_F)\n",
    "\n",
    "name = \"plot/\" + \"T_6X1Y\" + str(iterations) + \"iterations\" + datetime.now().strftime(\"%Y%m%d-%H%M%S\")\n",
    "\n",
    "utils.process.saveAux(name, len(OPT_transient_1_2_F.X), optimal_point_transient_1_2_F,\n",
    "                      np.shape(OPT_transient_1_2_F.X)[1],\n",
    "                      init_samples,\n",
    "                      end_explore,\n",
    "                      OPT_transient_1_2_F.X)\n",
    "\n",
    "utils.process.plotResults(len(fvarsX_T_1_2), len(fvarsY), xx, f_x_best, Y_optimal_transient_1_2_R, name, objectivesFunctions,\n",
    "                          f_x_next,\n",
    "                          OPT_transient_1_2_F.X, optimal_point_transient_1_2_F, init_samples,\n",
    "                          end_explore)\n",
    "\n",
    "i_best = OPT_transient_1_2_F.Y_ind_best[0]\n",
    "delta = np.linalg.norm(OPT_transient_1_2_F.models[0].X[i_best:i_best + 1, :] - optimal_point_transient_1_2_F)\n",
    "perc = delta / (bb * 2) * 100\n",
    "print(\"Distance between opt and model's opt \", delta, \" error: \", round(perc, 3), \" %\")\n"
   ]
  },
  {
   "cell_type": "markdown",
   "id": "24862bc0",
   "metadata": {},
   "source": [
    "### 9. NLP with surrogate using scipy "
   ]
  },
  {
   "cell_type": "markdown",
   "id": "a0d4044b",
   "metadata": {},
   "source": [
    "\n",
    "\\begin{equation}\n",
    "\\begin{aligned}\n",
    "\\min_{\\theta_1, \\theta_2, \\alpha_1} \\quad & \\hat{f}(\\theta_1)    + \\hat{f}(\\theta_2) \\\\\n",
    "\\textrm{s.t.} \\quad & \\hat{T}_{1,2}\\leq  \\bar{T}_{1,2} \\\\\n",
    "    \\\\\n",
    "\\end{aligned}\n",
    "\\end{equation}\n",
    "\n",
    "\n",
    "\n"
   ]
  },
  {
   "cell_type": "markdown",
   "id": "78762daf",
   "metadata": {},
   "source": [
    "T_bar deve essere in punto accettabile "
   ]
  },
  {
   "cell_type": "code",
   "execution_count": 203,
   "id": "fd249ae3",
   "metadata": {},
   "outputs": [],
   "source": [
    "def surrogateObj_T(x):\n",
    "    o11 = x[0]\n",
    "    o12 = x[1]\n",
    "    o21 = x[2]\n",
    "    o22 = x[3]\n",
    "    al1 = x[4]\n",
    "    al2 = x[5]\n",
    "    P1 = OPT_phase_1.predict([o11,o12])\n",
    "    P2 =  OPT_phase_2.predict([o21,o22])\n",
    "    print(\"costraint: \",sorrogateCostraint_T(x))\n",
    "    print(\"obj: \",P1+P2)\n",
    "\n",
    "def sorrogateCostraint_T(x):\n",
    "    o11 = x[0]\n",
    "    o12 = x[1]\n",
    "    o21 = x[2]\n",
    "    o22 = x[3]\n",
    "    al1 = x[4]\n",
    "    al2 = x[5]\n",
    "    P1 = OPT_phase_1.predict([o11,o12])\n",
    "    P2 =  OPT_phase_2.predict([o21,o22])\n",
    "    Alpha = OPT_transient_1_2_F.predict([al1,al2,o11,o12,o12,o22])\n",
    "    return 20*((1+Alpha)/(1+P1+P2)) \n",
    "\n",
    "def a1(point):\n",
    "    return (point[4]-2)*-1\n",
    "def a1_L(point):\n",
    "    return (point[4]+2)\n",
    "def a2(point):\n",
    "    return (point[5]-2)*-1\n",
    "def a2_L(point):\n",
    "    return (point[5]+2)"
   ]
  },
  {
   "cell_type": "code",
   "execution_count": 204,
   "id": "f308743f",
   "metadata": {},
   "outputs": [],
   "source": [
    "def objectiveS_T(x):\n",
    "    o11 = x[0]\n",
    "    o12 = x[1]\n",
    "    o21 = x[2]\n",
    "    o22 = x[3]\n",
    "    al1 = x[4]\n",
    "    al2 = x[5]\n",
    "    P1 = OPT_phase_1.predict([o11,o12])\n",
    "    P2 = OPT_phase_2.predict([o21,o22])\n",
    "    return P1+P2\n",
    "\n",
    "T_bar = OPT_transient_1_2_F.predict([5,5,5,5,0.3,0.3])\n",
    "\n",
    "def constr2S_T(x):\n",
    "    o11 = x[0]\n",
    "    o12 = x[1]\n",
    "    o21 = x[2]\n",
    "    o22 = x[3]\n",
    "    al1 = x[4]\n",
    "    al2 = x[5]\n",
    "    P1 = OPT_phase_1.predict([o11,o12])\n",
    "    P2 = OPT_phase_2.predict([o21,o22])\n",
    "    Alpha = OPT_transient_1_2_F.predict([al1,al2,o11,o12,o12,o22])\n",
    "    return (20*((1+Alpha)/(1+P1+P2)) - T_bar )*(-1)"
   ]
  },
  {
   "cell_type": "code",
   "execution_count": 205,
   "id": "82a7a559",
   "metadata": {},
   "outputs": [
    {
     "data": {
      "text/plain": [
       "array([0.42756333])"
      ]
     },
     "execution_count": 205,
     "metadata": {},
     "output_type": "execute_result"
    }
   ],
   "source": [
    "T_bar"
   ]
  },
  {
   "cell_type": "code",
   "execution_count": null,
   "id": "18745bda",
   "metadata": {},
   "outputs": [],
   "source": [
    "resSurogate_T = fmin_cobyla(objectiveS_T, [0.0, 0.0,0.0, 0.0,0.0,0.0], cons=[constr2S_T,a1,a1_L,a2,a2_L], rhoend=1e-7)"
   ]
  },
  {
   "cell_type": "code",
   "execution_count": null,
   "id": "d446825a",
   "metadata": {},
   "outputs": [],
   "source": []
  },
  {
   "cell_type": "markdown",
   "id": "920f4749",
   "metadata": {},
   "source": [
    "### 9.1 Results"
   ]
  },
  {
   "cell_type": "code",
   "execution_count": null,
   "id": "a566e7e3",
   "metadata": {},
   "outputs": [],
   "source": [
    "resSurogate_T"
   ]
  },
  {
   "cell_type": "code",
   "execution_count": null,
   "id": "dd66be0a",
   "metadata": {},
   "outputs": [],
   "source": [
    "OPT_phase_1.predict(resSurogate_T[:2])"
   ]
  },
  {
   "cell_type": "code",
   "execution_count": null,
   "id": "ae1a3c8a",
   "metadata": {},
   "outputs": [],
   "source": [
    "OPT_phase_2.predict(resSurogate_T[2:4])"
   ]
  },
  {
   "cell_type": "code",
   "execution_count": null,
   "id": "fa704978",
   "metadata": {},
   "outputs": [],
   "source": [
    "OPT_transient_1_2_F.predict(resSurogate_T)"
   ]
  },
  {
   "cell_type": "markdown",
   "id": "b2509305",
   "metadata": {},
   "source": [
    "### 9.2 Test results"
   ]
  },
  {
   "cell_type": "code",
   "execution_count": 147,
   "id": "fb77aecb",
   "metadata": {},
   "outputs": [
    {
     "name": "stdout",
     "output_type": "stream",
     "text": [
      "costraint:  41.70482382278756\n",
      "obj:  0.02563396456530829\n"
     ]
    }
   ],
   "source": [
    "originalObj(resSurogate_T)"
   ]
  },
  {
   "cell_type": "code",
   "execution_count": 148,
   "id": "ddff6978",
   "metadata": {},
   "outputs": [
    {
     "name": "stdout",
     "output_type": "stream",
     "text": [
      "costraint:  [32.28028817]\n",
      "obj:  [-0.00058452]\n"
     ]
    }
   ],
   "source": [
    "surrogateObj_T(resSurogate_T)"
   ]
  },
  {
   "cell_type": "code",
   "execution_count": 141,
   "id": "aa039c7d",
   "metadata": {
    "scrolled": true
   },
   "outputs": [
    {
     "name": "stdout",
     "output_type": "stream",
     "text": [
      "[-1.8401324   0.07614314  2.85181249  0.18540293  0.50000006  0.49999995]\n",
      "[-24.86516888   4.56557675   0.77296167   1.15211735  -7.8677014\n",
      "  -3.55342231]\n",
      "distance between optimal true-function and optimal surrogate-function: 25.337958409569527\n"
     ]
    }
   ],
   "source": [
    "print(res)\n",
    "print(resSurogate_T)\n",
    "print(\"distance between optimal true-function and optimal surrogate-function:\",np.linalg.norm(res-resSurogate_T))"
   ]
  },
  {
   "cell_type": "markdown",
   "id": "1c411116",
   "metadata": {},
   "source": [
    "### 10. Optimizing the problem"
   ]
  },
  {
   "attachments": {
    "Untitled%20Diagram.drawio.png": {
     "image/png": "[encoded data removed]"
    }
   },
   "cell_type": "markdown",
   "id": "9fab0805",
   "metadata": {},
   "source": [
    "![Untitled%20Diagram.drawio.png](attachment:Untitled%20Diagram.drawio.png)"
   ]
  },
  {
   "cell_type": "markdown",
   "id": "35c878d4",
   "metadata": {},
   "source": [
    "### 10.1 phase 1"
   ]
  },
  {
   "cell_type": "code",
   "execution_count": 86,
   "id": "4c48ae6e",
   "metadata": {},
   "outputs": [],
   "source": [
    "def hidden_phase_1(point):\n",
    "    x1 = point[0]\n",
    "    x2 = point[1]\n",
    "    r = (x1 + 2) ** 2 + (x2 - 1) ** 2\n",
    "    return r\n",
    "\n",
    "\n",
    "optimal_point_phase_1 = np.array([[-2, 1]])\n",
    "Y_optimal_phase_1 = 0\n",
    "\n",
    "\n",
    "def out1(X):\n",
    "    array = []\n",
    "    for x in X:\n",
    "        array.append(hidden_phase_1(x))\n",
    "    return np.array(array)\n",
    "\n",
    "\n",
    "def my_pref(x1, x2, f=None):\n",
    "    '''\n",
    "    Used to calculate π(x1,x2).\n",
    "    :param x1: first vector of param. x1 in X\n",
    "    :param x2:  second vector of param. x2 in X\n",
    "    :param f: function of the evaluation\n",
    "    :return: π(x1,x2). The return value is in {-1,0,1}\n",
    "    '''\n",
    "    if f is not None:\n",
    "        Y_pref = compute_preference(f, x1, x2)\n",
    "        Y_pref.astype(int)\n",
    "        print(\"best is :  %20s, next is: %20s, f(best): %4.4f, f(next): %4.4f, user's input: %d\" % (\n",
    "            str(x1), str(x2), f(x1), f(x2), Y_pref))\n",
    "        return Y_pref\n",
    "    else:\n",
    "        print(\"best : \", x1, \" ,     x next : \", x2)\n",
    "        Y_pref = input(\"1 if x_next is worse than best so far, -1 otherwise\")\n",
    "        return np.array([int(Y_pref)])"
   ]
  },
  {
   "cell_type": "code",
   "execution_count": 87,
   "id": "062e0462",
   "metadata": {},
   "outputs": [],
   "source": [
    "def g_phase_1(xt, Y, Models):\n",
    "    return Y[:, 0]\n",
    "\n",
    "\n",
    "bb_P1 = 10\n",
    "\n",
    "fvarsX_phase1 = [{'name': 'f_1_1', 'type': 'continuous', 'domain': (-bb_P1, bb_P1)},\n",
    "                 {'name': 'f_1_2', 'type': 'continuous', 'domain': (-bb_P1, bb_P1)}\n",
    "                 ]\n",
    "\n",
    "fvarsY = [{'name': 'phase_1', 'type': 'continuous', 'domain': ()}]"
   ]
  },
  {
   "cell_type": "code",
   "execution_count": 88,
   "id": "736946a0",
   "metadata": {},
   "outputs": [],
   "source": [
    "n = len(fvarsX_phase1)\n",
    "\n",
    "init_samples = 5  # Number of initial samples\n",
    "\n",
    "objectives_P1 = [out1]\n",
    "objectivesFunctions_P1 = [hidden_phase_1]"
   ]
  },
  {
   "cell_type": "code",
   "execution_count": null,
   "id": "783a5b7d",
   "metadata": {},
   "outputs": [],
   "source": []
  },
  {
   "cell_type": "markdown",
   "id": "31979416",
   "metadata": {},
   "source": [
    "### 10.2 phase 2"
   ]
  },
  {
   "cell_type": "code",
   "execution_count": 89,
   "id": "fa4eb929",
   "metadata": {},
   "outputs": [],
   "source": [
    "# region p2\n",
    "def hidden_phase_2(point):\n",
    "    x1 = point[0]\n",
    "    x2 = point[1]\n",
    "    r = (x1 - 3) ** 2 + (x2 - 0.5) ** 2\n",
    "    # r = np.sqrt((x1 - 3) ** 2 + (x2 - 0.5) ** 2)\n",
    "    return r\n",
    "\n",
    "\n",
    "optimal_point_phase_2 = np.array([[3, 0.5]])\n",
    "Y_optimal_phase_2 = 0\n",
    "\n",
    "\n",
    "def out2(X):\n",
    "    array = []\n",
    "    for x in X:\n",
    "        array.append(hidden_phase_2(x))\n",
    "    return np.array(array)"
   ]
  },
  {
   "cell_type": "code",
   "execution_count": 90,
   "id": "7385d8cd",
   "metadata": {},
   "outputs": [],
   "source": [
    "def g_phase_2(xt, Y, Models):\n",
    "    return Y[:, 0]\n",
    "\n",
    "\n",
    "bb_P2 = 20\n",
    "\n",
    "fvarsX_phase2 = [{'name': 'f_2_1', 'type': 'continuous', 'domain': (-bb_P2, bb_P2)},\n",
    "                 {'name': 'f_2_2', 'type': 'continuous', 'domain': (-bb_P2, bb_P2)}\n",
    "                 ]\n",
    "\n",
    "fvarsY = [{'name': 'phase_2', 'type': 'continuous', 'domain': ()}]\n",
    "\n",
    "n = len(fvarsX_phase2)\n",
    "\n",
    "init_samples = 5  # Number of initial samples\n",
    "\n",
    "objectives_P2 = [out2]\n",
    "objectivesFunctions_P2 = [hidden_phase_2]"
   ]
  },
  {
   "cell_type": "code",
   "execution_count": null,
   "id": "33f4cf94",
   "metadata": {},
   "outputs": [],
   "source": []
  },
  {
   "cell_type": "markdown",
   "id": "3463febe",
   "metadata": {},
   "source": [
    "### 10.3 T12"
   ]
  },
  {
   "cell_type": "code",
   "execution_count": 91,
   "id": "03e4a0eb",
   "metadata": {},
   "outputs": [],
   "source": [
    "def hidden_transient_1_2_F(point):\n",
    "    alpha_1 = point[0]\n",
    "    alpha_2 = point[1]\n",
    "    o_11 = point[2]\n",
    "    o_12 = point[3]\n",
    "    o_21 = point[4]\n",
    "    o_22 = point[5]\n",
    "    P1 = (o_11 + 2) ** 2 + (o_12 - 1) ** 2\n",
    "    P2 = (o_21 - 3) ** 2 + (o_22 - 0.5) ** 2\n",
    "    r = 20 * ((1 + (alpha_1 - 0.5) ** 2 + (alpha_2 - 0.5) ** 2) / (1 + P1 + P2))\n",
    "    return r"
   ]
  },
  {
   "cell_type": "code",
   "execution_count": 92,
   "id": "a2b15ba9",
   "metadata": {},
   "outputs": [],
   "source": [
    "optimal_point_transient_1_2_F = np.array([0.0, 0.0, 20.0, 20.0, 20.0, 20.0])\n",
    "Y_optimal_transient_1_2_R = 0\n",
    "\n",
    "\n",
    "def outT12(X):\n",
    "    array = []\n",
    "    for x in X:\n",
    "        array.append(hidden_transient_1_2_F(x))\n",
    "    return np.array(array)\n",
    "\n",
    "\n",
    "def g_transient_1_2(xt, Y, Models):\n",
    "    return Y[:, 0]\n",
    "\n",
    "\n",
    "bb = 20\n",
    "bb_T = 2\n",
    "\n",
    "fvarsX_T_1_2 = [{'name': 'alpha_T12_1', 'type': 'continuous', 'domain': (-bb_T, bb_T)},\n",
    "                {'name': 'alpha_T12_2', 'type': 'continuous', 'domain': (-bb_T, bb_T)},\n",
    "                {'name': 'f_1_1', 'type': 'continuous', 'domain': (-bb, bb)},\n",
    "                {'name': 'f_1_2', 'type': 'continuous', 'domain': (-bb, bb)},\n",
    "                {'name': 'f_2_1', 'type': 'continuous', 'domain': (-bb, bb)},\n",
    "                {'name': 'f_2_2', 'type': 'continuous', 'domain': (-bb, bb)}\n",
    "                ]\n",
    "\n",
    "fvarsY = [{'name': 'Transient_12', 'type': 'continuous', 'domain': ()}]\n",
    "\n",
    "n = len(fvarsX_T_1_2)\n",
    "\n",
    "init_samples = 5  # Number of initial samples\n",
    "\n",
    "objectives_T12 = [outT12]\n",
    "objectivesFunctions_T12 = [hidden_transient_1_2_F]"
   ]
  },
  {
   "cell_type": "code",
   "execution_count": null,
   "id": "8d67ca4f",
   "metadata": {},
   "outputs": [],
   "source": []
  },
  {
   "cell_type": "code",
   "execution_count": 93,
   "id": "78430391",
   "metadata": {},
   "outputs": [],
   "source": [
    "OPT_phase_1 = GL.GLISpFinale(fvarsX_phase1, fvarsY, my_pref, objectives=objectives_P1,\n",
    "                             objectivesFunctions=objectivesFunctions_P1,\n",
    "                             acquisition_optimizer_type='lbfgsb',\n",
    "                             kfold=3, delta=1.25,\n",
    "                             objective=(10, 1),\n",
    "                             batch_size=1, init_n_samples=init_samples,\n",
    "                             save_experiment=True, plot=False,\n",
    "                             title=\"Phase1\", save=True,\n",
    "                             g=g_phase_1,\n",
    "                             # theta=2, sigma=1 / 5, lam=0,\n",
    "                             # load_experiment_foldername='experimentsFolder/Experiment_nuovoCoSin_20210802-110334',\n",
    "                             name_opt='Phase1', plotAcquisition=False)"
   ]
  },
  {
   "cell_type": "code",
   "execution_count": 94,
   "id": "bc40f86a",
   "metadata": {},
   "outputs": [],
   "source": [
    "OPT_phase_2 = GL.GLISpFinale(fvarsX_phase2, fvarsY, my_pref, objectives=objectives_P2,\n",
    "                             objectivesFunctions=objectivesFunctions_P2,\n",
    "                             acquisition_optimizer_type='lbfgsb',\n",
    "                             kfold=3, delta=1.25,\n",
    "                             objective=(10, 1),\n",
    "                             batch_size=1, init_n_samples=init_samples,\n",
    "                             save_experiment=True, plot=False,\n",
    "                             title=\"Phase2\", save=True,\n",
    "                             g=g_phase_2,\n",
    "                             # load_experiment_foldername='experimentsFolder/Experiment_nuovoCoSin_20210802-110334',\n",
    "                             name_opt='Phase2', plotAcquisition=False)"
   ]
  },
  {
   "cell_type": "code",
   "execution_count": 95,
   "id": "cceb9224",
   "metadata": {},
   "outputs": [],
   "source": [
    "OPT_transient_1_2_F = GL.GLISpFinale(fvarsX_T_1_2, fvarsY, my_pref, objectives=objectives_T12,\n",
    "                                     objectivesFunctions=objectivesFunctions_T12,\n",
    "                                     acquisition_optimizer_type='lbfgsb',\n",
    "                                     kfold=3, delta=1.3,\n",
    "                                     objective=(10, 1),\n",
    "                                     batch_size=1, init_n_samples=init_samples,\n",
    "                                     save_experiment=True, plot=False,\n",
    "                                     title=\"T12\", save=True,\n",
    "                                     g=g_transient_1_2,\n",
    "                                     # theta=2, sigma=1 / 5, lam=0,\n",
    "                                     # load_experiment_foldername='experimentsFolder/Experiment_nuovoCoSin_20210802-110334',\n",
    "                                     max_bound=bb,\n",
    "                                     name_opt='T12', plotAcquisition=False)"
   ]
  },
  {
   "cell_type": "code",
   "execution_count": 96,
   "id": "2aa208d7",
   "metadata": {},
   "outputs": [
    {
     "name": "stdout",
     "output_type": "stream",
     "text": [
      "X next:  [[-8.58977574  3.76907334]]  ->  [[0.07051121 0.68845367]]\n",
      "X next:  [[3.80484223 9.15632314]]  ->  [[0.59512106 0.72890808]]\n",
      "X next:  [[ -2.  -2. -20. -20. -20.  20.]]  ->  [[0. 0. 0. 0. 0. 1.]]\n"
     ]
    }
   ],
   "source": [
    "exploration = True\n",
    "iterations = 30\n",
    "\n",
    "x_next_P1 = OPT_phase_1.run_optimization(exploration=exploration)\n",
    "print(\"X next: \", x_next_P1, \" -> \", utils.math.normalize_X(OPT_phase_1.fvars_x, x_next_P1))\n",
    "\n",
    "x_next_P2 = OPT_phase_2.run_optimization(exploration=exploration)\n",
    "print(\"X next: \", x_next_P2, \" -> \", utils.math.normalize_X(OPT_phase_2.fvars_x, x_next_P2))\n",
    "\n",
    "x_next_T12 = OPT_transient_1_2_F.run_optimization(exploration=exploration)\n",
    "print(\"X next: \", x_next_T12, \" -> \", utils.math.normalize_X(OPT_transient_1_2_F.fvars_x, x_next_T12))\n"
   ]
  },
  {
   "cell_type": "code",
   "execution_count": 97,
   "id": "d4a3f2e9",
   "metadata": {},
   "outputs": [],
   "source": [
    "def reorder(xd, a):\n",
    "    ee2 = a.reshape(len(a), 1)\n",
    "    fin2 = np.column_stack((xd, ee2))\n",
    "    fin2 = fin2[fin2[:, 0].argsort(), :]\n",
    "    return fin2[:, 0], fin2[:, 1]\n"
   ]
  },
  {
   "cell_type": "markdown",
   "id": "d157d9b9",
   "metadata": {},
   "source": [
    "### 10.4 NLP declaration"
   ]
  },
  {
   "cell_type": "code",
   "execution_count": 98,
   "id": "0cda7245",
   "metadata": {},
   "outputs": [],
   "source": [
    "def objectiveS_T(x):\n",
    "    o11 = x[0]\n",
    "    o12 = x[1]\n",
    "    o21 = x[2]\n",
    "    o22 = x[3]\n",
    "    P1 = OPT_phase_1.predict([o11, o12])\n",
    "    P2 = OPT_phase_2.predict([o21, o22])\n",
    "    return P1 + P2\n",
    "\n",
    "\n",
    "def constr2S_T(x):\n",
    "    o11 = x[0]\n",
    "    o12 = x[1]\n",
    "    o21 = x[2]\n",
    "    o22 = x[3]\n",
    "    al1 = x[4]\n",
    "    al2 = x[5]\n",
    "    P1 = OPT_phase_1.predict([o11, o12])\n",
    "    P2 = OPT_phase_2.predict([o21, o22])\n",
    "    Alpha = OPT_transient_1_2_F.predict([al1, al2, o11, o12, o12, o22])\n",
    "    return (20 * ((1 + Alpha) / (1 + P1 + P2)) - 10) * (-1)\n"
   ]
  },
  {
   "cell_type": "markdown",
   "id": "8815b008",
   "metadata": {},
   "source": []
  },
  {
   "cell_type": "code",
   "execution_count": 99,
   "id": "8bcc47cb",
   "metadata": {
    "scrolled": false
   },
   "outputs": [
    {
     "name": "stdout",
     "output_type": "stream",
     "text": [
      "0\n",
      "phase 1  best is :  [[-1.73121803  2.0724748 ]], next is: [[-8.58977574  3.76907334]], f(best): 1.2224, f(next): 51.0929, user's input: 1\n",
      "phase 2  best is :  [[ 2.55468182 -4.84578057]], next is: [[3.80484223 9.15632314]], f(best): 28.7757, f(next): 75.5797, user's input: 1\n",
      "T 12     best is :  [[  0.36602692   0.69272043   6.27747962 -10.05614714  17.84482859\n",
      "    2.39994638]], next is: [[ -2.  -2. -20. -20. -20.  20.]], f(best): 0.0508, f(next): 0.1612, user's input: 1\n",
      "1\n",
      "phase 1  best is :  [[-1.73121803  2.0724748 ]], next is: [[-1.73122132  2.07247561]], f(best): 1.2224, f(next): 1.2224, user's input: -1\n",
      "phase 2  best is :  [[ 2.55468182 -4.84578057]], next is: [[ 3.96649994 16.1724102 ]], f(best): 28.7757, f(next): 246.5586, user's input: 1\n",
      "T 12     best is :  [[  0.36602692   0.69272043   6.27747962 -10.05614714  17.84482859\n",
      "    2.39994638]], next is: [[  0.62260329   0.54022783   6.34835565 -13.87961248  18.04057733\n",
      "    0.13827889]], f(best): 0.0508, f(next): 0.0392, user's input: -1\n",
      "2\n",
      "phase 1  best is :  [[-1.73122132  2.07247561]], next is: [[-3.23161947  0.80868248]], f(best): 1.2224, f(next): 1.5535, user's input: 1\n",
      "phase 2  best is :  [[ 2.55468182 -4.84578057]], next is: [[ 2.56415682 -4.849268  ]], f(best): 28.7757, f(next): 28.8046, user's input: 1\n",
      "T 12     best is :  [[  0.62260329   0.54022783   6.34835565 -13.87961248  18.04057733\n",
      "    0.13827889]], next is: [[  2.  -2.  20. -20.  20. -20.]], f(best): 0.0392, f(next): 0.1162, user's input: 1\n",
      "3\n",
      "phase 1  best is :  [[-1.73122132  2.07247561]], next is: [[-1.71357415  1.30756954]], f(best): 1.2224, f(next): 0.1766, user's input: -1\n",
      "phase 2  best is :  [[ 2.55468182 -4.84578057]], next is: [[ 1.50296489 10.35853342]], f(best): 28.7757, f(next): 99.4318, user's input: 1\n",
      "T 12     best is :  [[  0.62260329   0.54022783   6.34835565 -13.87961248  18.04057733\n",
      "    0.13827889]], next is: [[  1.38384578   0.31864486   5.57635314 -20.          18.89224108\n",
      "   -4.40737334]], f(best): 0.0392, f(next): 0.0468, user's input: 1\n",
      "**** NLP ****\n",
      "NLP RESULT ****** [17.1038109   7.27637433 -1.74642759  4.29566289 -0.44093168 -0.89362209] *******\n",
      "4\n",
      "phase 1  best is :  [[-1.71357415  1.30756954]], next is: [[17.1038109   7.27637433]], f(best): 0.1766, f(next): 404.3485, user's input: 1\n",
      "phase 2  best is :  [[ 2.55468182 -4.84578057]], next is: [[-1.74642759  4.29566289]], f(best): 28.7757, f(next): 36.9356, user's input: 1\n",
      "T 12     best is :  [[  0.62260329   0.54022783   6.34835565 -13.87961248  18.04057733\n",
      "    0.13827889]], next is: [[17.1038109   7.27637433 -1.74642759  4.29566289 -0.44093168 -0.89362209]], f(best): 0.0392, f(next): 250.9781, user's input: 1\n",
      "N-5\n",
      "phase 1  best is :  [[-1.71357415  1.30756954]], next is: [[ 1.05324322 -1.07749124]], f(best): 0.1766, f(next): 13.6383, user's input: 1\n",
      "phase 2  best is :  [[ 2.55468182 -4.84578057]], next is: [[ 2.57100785 -2.19145518]], f(best): 28.7757, f(next): 7.4280, user's input: -1\n",
      "T 12     best is :  [[  0.62260329   0.54022783   6.34835565 -13.87961248  18.04057733\n",
      "    0.13827889]], next is: [[  0.6312408    0.31444255   7.19822792 -16.14795513  17.75311574\n",
      "   -2.01854381]], f(best): 0.0392, f(next): 0.0348, user's input: -1\n",
      "6\n",
      "phase 1  best is :  [[-1.71357415  1.30756954]], next is: [[-0.55863442  0.12692284]], f(best): 0.1766, f(next): 2.8398, user's input: 1\n",
      "phase 2  best is :  [[ 2.57100785 -2.19145518]], next is: [[6.19029749 1.14266687]], f(best): 7.4280, f(next): 10.5910, user's input: 1\n",
      "T 12     best is :  [[  0.6312408    0.31444255   7.19822792 -16.14795513  17.75311574\n",
      "   -2.01854381]], next is: [[  0.47558845   0.05174372   8.6326439  -17.15878148  17.26401758\n",
      "   -4.09462136]], f(best): 0.0348, f(next): 0.0360, user's input: 1\n",
      "N-7\n",
      "phase 1  best is :  [[-1.71357415  1.30756954]], next is: [[-1.51543287  0.73012469]], f(best): 0.1766, f(next): 0.3076, user's input: 1\n",
      "phase 2  best is :  [[ 2.57100785 -2.19145518]], next is: [[-1.41635475 -1.13373587]], f(best): 7.4280, f(next): 22.1733, user's input: 1\n",
      "T 12     best is :  [[  0.6312408    0.31444255   7.19822792 -16.14795513  17.75311574\n",
      "   -2.01854381]], next is: [[  0.72070025   0.06952664  -1.15062984 -20.          10.19070238\n",
      "    3.54918879]], f(best): 0.0348, f(next): 0.0490, user's input: 1\n",
      "**** NLP ****\n",
      "NLP RESULT ****** [ 0.97558342  0.10343046 -0.00964903 -0.46310488 -0.09811217 -0.05239434] *******\n",
      "8\n",
      "phase 1  best is :  [[-1.71357415  1.30756954]], next is: [[0.97558342 0.10343046]], f(best): 0.1766, f(next): 9.6579, user's input: 1\n",
      "phase 2  best is :  [[ 2.57100785 -2.19145518]], next is: [[-0.00964903 -0.46310488]], f(best): 7.4280, f(next): 9.9856, user's input: 1\n",
      "T 12     best is :  [[  0.6312408    0.31444255   7.19822792 -16.14795513  17.75311574\n",
      "   -2.01854381]], next is: [[ 0.97558342  0.10343046 -0.00964903 -0.46310488 -0.09811217 -0.05239434]], f(best): 0.0348, f(next): 1.6270, user's input: 1\n"
     ]
    },
    {
     "name": "stderr",
     "output_type": "stream",
     "text": [
      "/Users/marco/opt/anaconda3/envs/pref/lib/python3.8/site-packages/cvxpy/problems/problem.py:1245: UserWarning: Solution may be inaccurate. Try another solver, adjusting the solver settings, or solve with verbose=True for more information.\n",
      "  warnings.warn(\n"
     ]
    },
    {
     "name": "stdout",
     "output_type": "stream",
     "text": [
      "9\n",
      "phase 1  best is :  [[-1.71357415  1.30756954]], next is: [[-1.91340946  1.3816606 ]], f(best): 0.1766, f(next): 0.1532, user's input: -1\n",
      "phase 2  best is :  [[ 2.57100785 -2.19145518]], next is: [[ 3.60532332 -1.26598788]], f(best): 7.4280, f(next): 3.4851, user's input: -1\n",
      "T 12     best is :  [[  0.6312408    0.31444255   7.19822792 -16.14795513  17.75311574\n",
      "   -2.01854381]], next is: [[ -2.  -2.  20.  20. -20. -20.]], f(best): 0.0348, f(next): 0.1504, user's input: 1\n",
      "N-10\n",
      "phase 1  best is :  [[-1.91340946  1.3816606 ]], next is: [[-2.42139427  1.69922526]], f(best): 0.1532, f(next): 0.6665, user's input: 1\n",
      "phase 2  best is :  [[ 3.60532332 -1.26598788]], next is: [[3.09027598 0.37911151]], f(best): 3.4851, f(next): 0.0228, user's input: -1\n",
      "T 12     best is :  [[  0.6312408    0.31444255   7.19822792 -16.14795513  17.75311574\n",
      "   -2.01854381]], next is: [[  0.86528884   0.11441456   3.26859157 -14.58041961  11.98865805\n",
      "   -1.24474308]], f(best): 0.0348, f(next): 0.0722, user's input: 1\n",
      "11\n",
      "phase 1  best is :  [[-1.91340946  1.3816606 ]], next is: [[-2.32525265  0.65649458]], f(best): 0.1532, f(next): 0.2238, user's input: 1\n",
      "phase 2  best is :  [[3.09027598 0.37911151]], next is: [[ 2.06487316 -0.27253406]], f(best): 0.0228, f(next): 1.4713, user's input: 1\n",
      "T 12     best is :  [[  0.6312408    0.31444255   7.19822792 -16.14795513  17.75311574\n",
      "   -2.01854381]], next is: [[  0.74442203   0.3204451    5.13218906 -19.14261155  17.26321353\n",
      "   -0.50844083]], f(best): 0.0348, f(next): 0.0330, user's input: -1\n",
      "**** NLP ****\n",
      "N-N-NLP RESULT ****** [  8.38492094  -0.84954671 -18.71483849   5.15989129   0.84537544\n",
      "  -0.12456549] *******\n",
      "12\n",
      "phase 1  best is :  [[-1.91340946  1.3816606 ]], next is: [[ 8.38492094 -0.84954671]], f(best): 0.1532, f(next): 111.2674, user's input: 1\n",
      "phase 2  best is :  [[3.09027598 0.37911151]], next is: [[-18.71483849   5.15989129]], f(best): 0.0228, f(next): 493.2488, user's input: 1\n",
      "T 12     best is :  [[  0.74442203   0.3204451    5.13218906 -19.14261155  17.26321353\n",
      "   -0.50844083]], next is: [[  8.38492094  -0.84954671 -18.71483849   5.15989129   0.84537544\n",
      "   -0.12456549]], f(best): 0.0330, f(next): 4.2939, user's input: 1\n",
      "13\n",
      "phase 1  best is :  [[-1.91340946  1.3816606 ]], next is: [[-2.18332576  1.18432885]], f(best): 0.1532, f(next): 0.0676, user's input: -1\n",
      "phase 2  best is :  [[3.09027598 0.37911151]], next is: [[3.05991029 0.44455151]], f(best): 0.0228, f(next): 0.0067, user's input: -1\n",
      "T 12     best is :  [[  0.74442203   0.3204451    5.13218906 -19.14261155  17.26321353\n",
      "   -0.50844083]], next is: [[ -2.          -2.         -20.         -11.27716459   7.57943053\n",
      "  -20.        ]], f(best): 0.0330, f(next): 0.2945, user's input: 1\n",
      "14\n",
      "phase 1  best is :  [[-2.18332576  1.18432885]], next is: [[-1.64880457  1.19669427]], f(best): 0.0676, f(next): 0.1620, user's input: 1\n",
      "phase 2  best is :  [[3.05991029 0.44455151]], next is: [[3.0688124 0.4253967]], f(best): 0.0067, f(next): 0.0103, user's input: 1\n",
      "T 12     best is :  [[  0.74442203   0.3204451    5.13218906 -19.14261155  17.26321353\n",
      "   -0.50844083]], next is: [[  1.55205274  -2.         -17.60272413   7.38150439  12.76212855\n",
      "  -15.59848607]], f(best): 0.0330, f(next): 0.2613, user's input: 1\n",
      "N-15\n",
      "phase 1  best is :  [[-2.18332576  1.18432885]], next is: [[-2.16787297  1.13863388]], f(best): 0.0676, f(next): 0.0474, user's input: -1\n",
      "phase 2  best is :  [[3.05991029 0.44455151]], next is: [[3.06694533 0.42938178]], f(best): 0.0067, f(next): 0.0095, user's input: 1\n",
      "T 12     best is :  [[  0.74442203   0.3204451    5.13218906 -19.14261155  17.26321353\n",
      "   -0.50844083]], next is: [[  0.8109009    0.45786477  -0.82688664 -20.          20.\n",
      "   -0.34037954]], f(best): 0.0330, f(next): 0.0300, user's input: -1\n",
      "**** NLP ****\n",
      "NLP RESULT ****** [ 9.73685351  2.7130884  -4.0341808  -5.08434437  0.98522638 -0.60127925] *******\n",
      "16\n",
      "phase 1  best is :  [[-2.16787297  1.13863388]], next is: [[9.73685351 2.7130884 ]], f(best): 0.0474, f(next): 140.6884, user's input: 1\n",
      "phase 2  best is :  [[3.05991029 0.44455151]], next is: [[-4.0341808  -5.08434437]], f(best): 0.0067, f(next): 80.6646, user's input: 1\n",
      "T 12     best is :  [[  0.8109009    0.45786477  -0.82688664 -20.          20.\n",
      "   -0.34037954]], next is: [[ 9.73685351  2.7130884  -4.0341808  -5.08434437  0.98522638 -0.60127925]], f(best): 0.0300, f(next): 38.4645, user's input: 1\n",
      "17\n",
      "phase 1  best is :  [[-2.16787297  1.13863388]], next is: [[-2.19128921  1.34158275]], f(best): 0.0474, f(next): 0.1533, user's input: 1\n",
      "phase 2  best is :  [[3.05991029 0.44455151]], next is: [[3.06744999 0.42833528]], f(best): 0.0067, f(next): 0.0097, user's input: 1\n",
      "T 12     best is :  [[  0.8109009    0.45786477  -0.82688664 -20.          20.\n",
      "   -0.34037954]], next is: [[  0.50465628   0.37859937  -0.85410753 -20.          20.\n",
      "   -0.36318192]], f(best): 0.0300, f(next): 0.0277, user's input: -1\n",
      "18\n",
      "phase 1  best is :  [[-2.16787297  1.13863388]], next is: [[-1.99197512  0.99751194]], f(best): 0.0474, f(next): 0.0001, user's input: -1\n",
      "phase 2  best is :  [[3.05991029 0.44455151]], next is: [[2.71005441 0.8421371 ]], f(best): 0.0067, f(next): 0.2011, user's input: 1\n",
      "T 12     best is :  [[  0.50465628   0.37859937  -0.85410753 -20.          20.\n",
      "   -0.36318192]], next is: [[  0.43059923   0.3470976   -1.05133109 -20.          20.\n",
      "   -0.90961881]], f(best): 0.0277, f(next): 0.0280, user's input: 1\n",
      "19\n",
      "phase 1  best is :  [[-1.99197512  0.99751194]], next is: [[-2.03638654  0.88584061]], f(best): 0.0001, f(next): 0.0144, user's input: 1\n",
      "phase 2  best is :  [[3.05991029 0.44455151]], next is: [[3.09598586 0.41107579]], f(best): 0.0067, f(next): 0.0171, user's input: 1\n",
      "T 12     best is :  [[  0.50465628   0.37859937  -0.85410753 -20.          20.\n",
      "   -0.36318192]], next is: [[ -2.   2. -20.  20. -20.  20.]], f(best): 0.0277, f(next): 0.1191, user's input: 1\n",
      "**** NLP ****\n",
      "NLP RESULT ****** [ 0.76304872  0.78522641 -3.89630382  2.80331086  0.97559487  0.10349605] *******\n",
      "20\n",
      "phase 1  best is :  [[-1.99197512  0.99751194]], next is: [[0.76304872 0.78522641]], f(best): 0.0001, f(next): 7.6806, user's input: 1\n",
      "phase 2  best is :  [[3.05991029 0.44455151]], next is: [[-3.89630382  2.80331086]], f(best): 0.0067, f(next): 52.8642, user's input: 1\n",
      "T 12     best is :  [[  0.50465628   0.37859937  -0.85410753 -20.          20.\n",
      "   -0.36318192]], next is: [[ 0.76304872  0.78522641 -3.89630382  2.80331086  0.97559487  0.10349605]], f(best): 0.0277, f(next): 1.9012, user's input: 1\n",
      "21\n",
      "phase 1  best is :  [[-1.99197512  0.99751194]], next is: [[-1.9598263   0.99888823]], f(best): 0.0001, f(next): 0.0016, user's input: 1\n",
      "phase 2  best is :  [[3.05991029 0.44455151]], next is: [[3.12389206 0.3939783 ]], f(best): 0.0067, f(next): 0.0266, user's input: 1\n",
      "T 12     best is :  [[  0.50465628   0.37859937  -0.85410753 -20.          20.\n",
      "   -0.36318192]], next is: [[ -2.  -2. -20.  20. -20.  20.]], f(best): 0.0277, f(next): 0.1693, user's input: 1\n",
      "22\n",
      "phase 1  best is :  [[-1.99197512  0.99751194]], next is: [[-2.09000326  1.02102858]], f(best): 0.0001, f(next): 0.0085, user's input: 1\n",
      "phase 2  best is :  [[3.05991029 0.44455151]], next is: [[3.18139769 0.7931805 ]], f(best): 0.0067, f(next): 0.1189, user's input: 1\n",
      "T 12     best is :  [[  0.50465628   0.37859937  -0.85410753 -20.          20.\n",
      "   -0.36318192]], next is: [[ -2.   2.  20.  20. -20.  20.]], f(best): 0.0277, f(next): 0.1082, user's input: 1\n",
      "23\n",
      "phase 1  best is :  [[-1.99197512  0.99751194]], next is: [[-1.9886878   1.05233041]], f(best): 0.0001, f(next): 0.0029, user's input: 1\n",
      "phase 2  best is :  [[3.05991029 0.44455151]], next is: [[3.22959961 0.32740937]], f(best): 0.0067, f(next): 0.0825, user's input: 1\n",
      "T 12     best is :  [[  0.50465628   0.37859937  -0.85410753 -20.          20.\n",
      "   -0.36318192]], next is: [[  0.47681318   0.80792208   5.51158739 -20.          20.\n",
      "    3.62310549]], f(best): 0.0277, f(next): 0.0275, user's input: -1\n",
      "**** NLP ****\n",
      "NLP RESULT ****** [ -7.86292014  -3.5498261  -26.21643089   8.10096019   1.18557304\n",
      "   1.06541584] *******\n",
      "24\n",
      "phase 1  best is :  [[-1.99197512  0.99751194]], next is: [[-7.86292014 -3.5498261 ]], f(best): 0.0001, f(next): 55.0748, user's input: 1\n",
      "phase 2  best is :  [[3.05991029 0.44455151]], next is: [[-26.21643089   8.10096019]], f(best): 0.0067, f(next): 911.3744, user's input: 1\n",
      "T 12     best is :  [[  0.47681318   0.80792208   5.51158739 -20.          20.\n",
      "    3.62310549]], next is: [[ -7.86292014  -3.5498261  -26.21643089   8.10096019   1.18557304\n",
      "    1.06541584]], f(best): 0.0275, f(next): 2.7231, user's input: 1\n"
     ]
    },
    {
     "name": "stdout",
     "output_type": "stream",
     "text": [
      "N-25\n",
      "phase 1  best is :  [[-1.99197512  0.99751194]], next is: [[-2.03105915  0.96982939]], f(best): 0.0001, f(next): 0.0019, user's input: 1\n",
      "phase 2  best is :  [[3.05991029 0.44455151]], next is: [[2.76168634 0.53291656]], f(best): 0.0067, f(next): 0.0579, user's input: 1\n",
      "T 12     best is :  [[  0.47681318   0.80792208   5.51158739 -20.          20.\n",
      "    3.62310549]], next is: [[  2.  -2.  20.  20. -20. -20.]], f(best): 0.0275, f(next): 0.1058, user's input: 1\n",
      "N-N-26\n",
      "phase 1  best is :  [[-1.99197512  0.99751194]], next is: [[-2.03370297  1.33752001]], f(best): 0.0001, f(next): 0.1151, user's input: 1\n",
      "phase 2  best is :  [[3.05991029 0.44455151]], next is: [[3.04308418 0.55044124]], f(best): 0.0067, f(next): 0.0044, user's input: -1\n",
      "T 12     best is :  [[  0.47681318   0.80792208   5.51158739 -20.          20.\n",
      "    3.62310549]], next is: [[ -2.   2.  20.  20. -20. -20.]], f(best): 0.0275, f(next): 0.1058, user's input: 1\n",
      "N-N-27\n",
      "phase 1  best is :  [[-1.99197512  0.99751194]], next is: [[-2.0061382   1.00909866]], f(best): 0.0001, f(next): 0.0001, user's input: 1\n",
      "phase 2  best is :  [[3.04308418 0.55044124]], next is: [[2.9828525  0.64600447]], f(best): 0.0044, f(next): 0.0216, user's input: 1\n",
      "T 12     best is :  [[  0.47681318   0.80792208   5.51158739 -20.          20.\n",
      "    3.62310549]], next is: [[  2.  -2. -20.  20. -20.  20.]], f(best): 0.0275, f(next): 0.1191, user's input: 1\n",
      "**** NLP ****\n",
      "N-N-N-N-NLP RESULT ****** [ 2.44204186e+01 -9.08652170e+00 -9.79154918e+00 -1.23798758e-01\n",
      "  3.02415157e+00 -2.35174560e-03] *******\n",
      "28\n",
      "phase 1  best is :  [[-1.99197512  0.99751194]], next is: [[24.42041857 -9.0865217 ]], f(best): 0.0001, f(next): 799.7764, user's input: 1\n",
      "phase 2  best is :  [[3.04308418 0.55044124]], next is: [[-9.79154918 -0.12379876]], f(best): 0.0044, f(next): 164.0129, user's input: 1\n",
      "T 12     best is :  [[  0.47681318   0.80792208   5.51158739 -20.          20.\n",
      "    3.62310549]], next is: [[ 2.44204186e+01 -9.08652170e+00 -9.79154918e+00 -1.23798758e-01\n",
      "   3.02415157e+00 -2.35174560e-03]], f(best): 0.0275, f(next): 210.3906, user's input: 1\n",
      "N-29\n",
      "phase 1  best is :  [[-1.99197512  0.99751194]], next is: [[-1.91707889  1.22019367]], f(best): 0.0001, f(next): 0.0554, user's input: 1\n",
      "phase 2  best is :  [[3.04308418 0.55044124]], next is: [[2.98921718 0.61286109]], f(best): 0.0044, f(next): 0.0129, user's input: 1\n",
      "T 12     best is :  [[  0.47681318   0.80792208   5.51158739 -20.          20.\n",
      "    3.62310549]], next is: [[ -0.13213478   2.           3.1105925  -20.           7.51472926\n",
      "   -8.71813796]], f(best): 0.0275, f(next): 0.1273, user's input: 1\n",
      "N-"
     ]
    }
   ],
   "source": [
    "\n",
    "for i in range(iterations):\n",
    "    print(i)\n",
    "    # region eval p1\n",
    "    eval_P1 = []\n",
    "    print(\"phase 1  \", end = '')\n",
    "    for ind in range(len(OPT_phase_1.models)):\n",
    "        i_best = OPT_phase_1.Y_ind_best[ind]\n",
    "        eval_P1.append(\n",
    "            my_pref(\n",
    "                OPT_phase_1.models[ind].X[i_best:i_best + 1, :],\n",
    "\n",
    "                OPT_phase_1.X_next[0: 1, :][:, ind * OPT_phase_1.ratio:(ind + 1) * OPT_phase_1.ratio],\n",
    "\n",
    "                f=objectives_P1[ind]\n",
    "            )\n",
    "        )\n",
    "    # endregion\n",
    "    # region eval p2\n",
    "    eval_P2 = []\n",
    "    print(\"phase 2  \", end = '')\n",
    "    for ind in range(len(OPT_phase_2.models)):\n",
    "        i_best = OPT_phase_2.Y_ind_best[ind]\n",
    "        eval_P2.append(\n",
    "            my_pref(\n",
    "                OPT_phase_2.models[ind].X[i_best:i_best + 1, :],\n",
    "\n",
    "                OPT_phase_2.X_next[0: 1, :][:, ind * OPT_phase_2.ratio:(ind + 1) * OPT_phase_2.ratio],\n",
    "\n",
    "                f=objectives_P2[ind]\n",
    "            )\n",
    "        )  # for all y there will be an evaluation\n",
    "    # endregion\n",
    "    # region eval t12\n",
    "    eval_T12 = []\n",
    "    print(\"T 12     \", end = '')\n",
    "    for ind in range(len(OPT_transient_1_2_F.models)):\n",
    "        i_best = OPT_transient_1_2_F.Y_ind_best[ind]\n",
    "        eval_T12.append(\n",
    "            my_pref(\n",
    "                OPT_transient_1_2_F.models[ind].X[i_best:i_best + 1, :],\n",
    "\n",
    "                OPT_transient_1_2_F.X_next[0: 1, :][:,\n",
    "                ind * OPT_transient_1_2_F.ratio:(ind + 1) * OPT_transient_1_2_F.ratio],\n",
    "\n",
    "                f=objectives_T12[ind]\n",
    "            )\n",
    "        )  # for all y there will be an evaluation\n",
    "    # endregion\n",
    "    if i > iterations - end_explore:\n",
    "        exploration = False\n",
    "\n",
    "    OPT_phase_1.add_evaluations(x_next_P1, eval_P1)\n",
    "    OPT_phase_2.add_evaluations(x_next_P2, eval_P2)\n",
    "    OPT_transient_1_2_F.add_evaluations(x_next_T12, eval_T12)\n",
    "    if (i + 1) % 4 != 0:\n",
    "        # region add eval p1\n",
    "\n",
    "        x_next_P1 = OPT_phase_1.run_optimization(exploration=exploration)\n",
    "        # endregion\n",
    "        # region add eval p2\n",
    "\n",
    "        x_next_P2 = OPT_phase_2.run_optimization(exploration=exploration)\n",
    "        # endregion\n",
    "        # region add eval t12\n",
    "\n",
    "        x_next_T12 = OPT_transient_1_2_F.run_optimization(exploration=exploration)\n",
    "    # endregion\n",
    "    else:\n",
    "        print(\"**** NLP ****\")\n",
    "        OPT_phase_1.update(exploration=exploration)\n",
    "        OPT_phase_2.update(exploration=exploration)\n",
    "        OPT_transient_1_2_F.update(exploration=exploration)\n",
    "        # input(\"entra qui 1\")\n",
    "        resSurogate_T = fmin_cobyla(objectiveS_T, [0.0, 0.0, 0.0, 0.0, 0.0, 0.0], [constr2S_T], rhoend=1e-7)\n",
    "        # input(\"entra qui 2\")\n",
    "        x_next_P1 = resSurogate_T[:2]\n",
    "        x_next_P2 = resSurogate_T[2:4]\n",
    "        x_next_T12 = resSurogate_T[:]\n",
    "        x_next_P1 = OPT_phase_1.run_optimizationTRY(n_in=5, exploration=exploration, er=x_next_P1)\n",
    "        x_next_P2 = OPT_phase_2.run_optimizationTRY(n_in=5, exploration=exploration, er=x_next_P2)\n",
    "        x_next_T12 = OPT_transient_1_2_F.run_optimizationTRY(n_in=5, exploration=exploration, er=x_next_T12)\n",
    "        print(\"NLP RESULT ******\", resSurogate_T, \"*******\")\n"
   ]
  },
  {
   "cell_type": "code",
   "execution_count": null,
   "id": "fcb7906c",
   "metadata": {},
   "outputs": [],
   "source": []
  },
  {
   "cell_type": "code",
   "execution_count": 100,
   "id": "68e82a6f",
   "metadata": {},
   "outputs": [
    {
     "name": "stdout",
     "output_type": "stream",
     "text": [
      "**********************PHASE 1**********************\n",
      "N-X value:\n",
      "initial     9.40811 ,   1.52892\n",
      "initial     5.09106 ,   6.74530\n",
      "initial     8.37977 ,   9.93859\n",
      "initial     -8.90802 ,   -9.56023\n",
      "initial     -1.73122 ,   2.07247\n",
      "       0 :   -8.58978 ,   3.76907\n",
      "       1 :   -1.73122 ,   2.07248\n",
      "       2 :   -3.23162 ,   0.80868\n",
      "       3 :   -1.71357 ,   1.30757\n",
      "       4 :   17.10381 ,   7.27637\n",
      "       5 :   1.05324 ,   -1.07749\n",
      "       6 :   -0.55863 ,   0.12692\n",
      "       7 :   -1.51543 ,   0.73012\n",
      "       8 :   0.97558 ,   0.10343\n",
      "       9 :   -1.91341 ,   1.38166\n",
      "      10 :   -2.42139 ,   1.69923\n",
      "      11 :   -2.32525 ,   0.65649\n",
      "      12 :   8.38492 ,   -0.84955\n",
      "      13 :   -2.18333 ,   1.18433\n",
      "      14 :   -1.64880 ,   1.19669\n",
      "      15 :   -2.16787 ,   1.13863\n",
      "      16 :   9.73685 ,   2.71309\n",
      "      17 :   -2.19129 ,   1.34158\n",
      "      18 :   -1.99198 ,   0.99751\n",
      "      19 :   -2.03639 ,   0.88584\n",
      "      20 :   0.76305 ,   0.78523\n",
      "      21 :   -1.95983 ,   0.99889\n",
      "      22 :   -2.09000 ,   1.02103\n",
      "      23 :   -1.98869 ,   1.05233\n",
      "      24 :   -7.86292 ,   -3.54983\n",
      "      25 :   -2.03106 ,   0.96983\n",
      "      26 :   -2.03370 ,   1.33752\n",
      "      27 :   -2.00614 ,   1.00910\n",
      "      28*:   24.42042 ,   -9.08652\n",
      "      29*:   -1.91708 ,   1.22019\n",
      "Best:  [[-1.99197512  0.99751194]]\n",
      "Distance between opt and model's opt  0.008401737853682117  error:  0.042  %\n"
     ]
    }
   ],
   "source": [
    "# region print data p1\n",
    "print(\"**********************PHASE 1**********************\")\n",
    "OPT_phase_1.update()\n",
    "utils.process.printVar(OPT_phase_1.X, iterations, init_samples, end_explore)\n",
    "\n",
    "utils.process.printBestForEachModel(OPT_phase_1)\n",
    "\n",
    "name = \"plot/\" + \"Ex_2X1Y\" + str(iterations) + \"iterations\" + datetime.now().strftime(\"%Y%m%d-%H%M%S\")\n",
    "\n",
    "utils.process.saveAux(name, len(OPT_phase_1.X), optimal_point_phase_1, np.shape(OPT_phase_1.X)[1], init_samples,\n",
    "                      end_explore,\n",
    "                      OPT_phase_1.X)\n",
    "\n",
    "i_best = OPT_phase_1.Y_ind_best[0]\n",
    "delta = np.linalg.norm(OPT_phase_1.models[0].X[i_best:i_best + 1, :] - optimal_point_phase_1)\n",
    "perc = delta / (bb_P1 * 2) * 100\n",
    "print(\"Distance between opt and model's opt \", delta, \" error: \", round(perc, 3), \" %\")\n",
    "# endregion"
   ]
  },
  {
   "cell_type": "code",
   "execution_count": null,
   "id": "88cf9043",
   "metadata": {},
   "outputs": [],
   "source": []
  },
  {
   "cell_type": "code",
   "execution_count": 101,
   "id": "5530dc3e",
   "metadata": {},
   "outputs": [
    {
     "name": "stdout",
     "output_type": "stream",
     "text": [
      "**********************PHASE 2**********************\n",
      "X value:\n",
      "initial     -6.09350 ,   -1.61719\n",
      "initial     -12.67924 ,   -14.92566\n",
      "initial     3.95898 ,   15.84587\n",
      "initial     15.58248 ,   -17.22964\n",
      "initial     2.55468 ,   -4.84578\n",
      "       0 :   3.80484 ,   9.15632\n",
      "       1 :   3.96650 ,   16.17241\n",
      "       2 :   2.56416 ,   -4.84927\n",
      "       3 :   1.50296 ,   10.35853\n",
      "       4 :   -1.74643 ,   4.29566\n",
      "       5 :   2.57101 ,   -2.19146\n",
      "       6 :   6.19030 ,   1.14267\n",
      "       7 :   -1.41635 ,   -1.13374\n",
      "       8 :   -0.00965 ,   -0.46310\n",
      "       9 :   3.60532 ,   -1.26599\n",
      "      10 :   3.09028 ,   0.37911\n",
      "      11 :   2.06487 ,   -0.27253\n",
      "      12 :   -18.71484 ,   5.15989\n",
      "      13 :   3.05991 ,   0.44455\n",
      "      14 :   3.06881 ,   0.42540\n",
      "      15 :   3.06695 ,   0.42938\n",
      "      16 :   -4.03418 ,   -5.08434\n",
      "      17 :   3.06745 ,   0.42834\n",
      "      18 :   2.71005 ,   0.84214\n",
      "      19 :   3.09599 ,   0.41108\n",
      "      20 :   -3.89630 ,   2.80331\n",
      "      21 :   3.12389 ,   0.39398\n",
      "      22 :   3.18140 ,   0.79318\n",
      "      23 :   3.22960 ,   0.32741\n",
      "      24 :   -26.21643 ,   8.10096\n",
      "      25 :   2.76169 ,   0.53292\n",
      "      26 :   3.04308 ,   0.55044\n",
      "      27 :   2.98285 ,   0.64600\n",
      "      28*:   -9.79155 ,   -0.12380\n",
      "      29*:   2.98922 ,   0.61286\n",
      "Best:  [[3.04308418 0.55044124]]\n",
      "Distance between opt and model's opt  0.06633675785127971  error:  0.166  %\n"
     ]
    }
   ],
   "source": [
    "# region print data t12\n",
    "print(\"**********************PHASE 2**********************\")\n",
    "OPT_phase_2.update()\n",
    "\n",
    "utils.process.printVar(OPT_phase_2.X, iterations, init_samples, end_explore)\n",
    "\n",
    "utils.process.printBestForEachModel(OPT_phase_2)\n",
    "\n",
    "name = \"plot/\" + \"Ex_2X1Y\" + str(iterations) + \"iterations\" + datetime.now().strftime(\"%Y%m%d-%H%M%S\")\n",
    "\n",
    "utils.process.saveAux(name, len(OPT_phase_2.X), optimal_point_phase_2, np.shape(OPT_phase_2.X)[1], init_samples,\n",
    "                      end_explore,\n",
    "                      OPT_phase_2.X)\n",
    "\n",
    "i_best = OPT_phase_2.Y_ind_best[0]\n",
    "delta = np.linalg.norm(OPT_phase_2.models[0].X[i_best:i_best + 1, :] - optimal_point_phase_2)\n",
    "perc = delta / (bb_P2 * 2) * 100\n",
    "print(\"Distance between opt and model's opt \", delta, \" error: \", round(perc, 3), \" %\")\n",
    "# endregion"
   ]
  },
  {
   "cell_type": "code",
   "execution_count": null,
   "id": "191fe7bf",
   "metadata": {},
   "outputs": [],
   "source": []
  },
  {
   "cell_type": "code",
   "execution_count": 102,
   "id": "b37937bc",
   "metadata": {},
   "outputs": [
    {
     "name": "stdout",
     "output_type": "stream",
     "text": [
      "**********************T12**********************\n",
      "X value:\n",
      "initial     0.67177 ,   -0.97278,   3.57006,   11.53066,   3.41617,   15.74059\n",
      "initial     0.36603 ,   0.69272,   6.27748,   -10.05615,   17.84483,   2.39995\n",
      "initial     -0.83849 ,   0.79220,   2.87706,   7.63334,   18.53867,   -17.03236\n",
      "initial     -0.74101 ,   1.35453,   6.02732,   6.60270,   16.89140,   12.87375\n",
      "initial     0.29714 ,   1.90079,   -17.20359,   6.37813,   -7.92526,   -18.65298\n",
      "       0 :   -2.00000 ,   -2.00000,   -20.00000,   -20.00000,   -20.00000,   20.00000\n",
      "       1 :   0.62260 ,   0.54023,   6.34836,   -13.87961,   18.04058,   0.13828\n",
      "       2 :   2.00000 ,   -2.00000,   20.00000,   -20.00000,   20.00000,   -20.00000\n",
      "       3 :   1.38385 ,   0.31864,   5.57635,   -20.00000,   18.89224,   -4.40737\n",
      "       4 :   17.10381 ,   7.27637,   -1.74643,   4.29566,   -0.44093,   -0.89362\n",
      "       5 :   0.63124 ,   0.31444,   7.19823,   -16.14796,   17.75312,   -2.01854\n",
      "       6 :   0.47559 ,   0.05174,   8.63264,   -17.15878,   17.26402,   -4.09462\n",
      "       7 :   0.72070 ,   0.06953,   -1.15063,   -20.00000,   10.19070,   3.54919\n",
      "       8 :   0.97558 ,   0.10343,   -0.00965,   -0.46310,   -0.09811,   -0.05239\n",
      "       9 :   -2.00000 ,   -2.00000,   20.00000,   20.00000,   -20.00000,   -20.00000\n",
      "      10 :   0.86529 ,   0.11441,   3.26859,   -14.58042,   11.98866,   -1.24474\n",
      "      11 :   0.74442 ,   0.32045,   5.13219,   -19.14261,   17.26321,   -0.50844\n",
      "      12 :   8.38492 ,   -0.84955,   -18.71484,   5.15989,   0.84538,   -0.12457\n",
      "      13 :   -2.00000 ,   -2.00000,   -20.00000,   -11.27716,   7.57943,   -20.00000\n",
      "      14 :   1.55205 ,   -2.00000,   -17.60272,   7.38150,   12.76213,   -15.59849\n",
      "      15 :   0.81090 ,   0.45786,   -0.82689,   -20.00000,   20.00000,   -0.34038\n",
      "      16 :   9.73685 ,   2.71309,   -4.03418,   -5.08434,   0.98523,   -0.60128\n",
      "      17 :   0.50466 ,   0.37860,   -0.85411,   -20.00000,   20.00000,   -0.36318\n",
      "      18 :   0.43060 ,   0.34710,   -1.05133,   -20.00000,   20.00000,   -0.90962\n",
      "      19 :   -2.00000 ,   2.00000,   -20.00000,   20.00000,   -20.00000,   20.00000\n",
      "      20 :   0.76305 ,   0.78523,   -3.89630,   2.80331,   0.97559,   0.10350\n",
      "      21 :   -2.00000 ,   -2.00000,   -20.00000,   20.00000,   -20.00000,   20.00000\n",
      "      22 :   -2.00000 ,   2.00000,   20.00000,   20.00000,   -20.00000,   20.00000\n",
      "      23 :   0.47681 ,   0.80792,   5.51159,   -20.00000,   20.00000,   3.62311\n",
      "      24 :   -7.86292 ,   -3.54983,   -26.21643,   8.10096,   1.18557,   1.06542\n",
      "      25 :   2.00000 ,   -2.00000,   20.00000,   20.00000,   -20.00000,   -20.00000\n",
      "      26 :   -2.00000 ,   2.00000,   20.00000,   20.00000,   -20.00000,   -20.00000\n",
      "      27 :   2.00000 ,   -2.00000,   -20.00000,   20.00000,   -20.00000,   20.00000\n",
      "      28*:   24.42042 ,   -9.08652,   -9.79155,   -0.12380,   3.02415,   -0.00235\n",
      "      29*:   -0.13213 ,   2.00000,   3.11059,   -20.00000,   7.51473,   -8.71814\n",
      "Best:  [[  0.47681318   0.80792208   5.51158739 -20.          20.\n",
      "    3.62310549]]\n",
      "Distance between opt and model's opt  45.596018056749244  error:  113.99  %\n"
     ]
    }
   ],
   "source": [
    "# region print data t12\n",
    "print(\"**********************T12**********************\")\n",
    "OPT_transient_1_2_F.update()\n",
    "\n",
    "utils.process.printVar(OPT_transient_1_2_F.X, iterations, init_samples, end_explore)\n",
    "\n",
    "utils.process.printBestForEachModel(OPT_transient_1_2_F)\n",
    "\n",
    "name = \"plot/\" + \"T_6X1Y\" + str(iterations) + \"iterations\" + datetime.now().strftime(\"%Y%m%d-%H%M%S\")\n",
    "\n",
    "utils.process.saveAux(name, len(OPT_transient_1_2_F.X), optimal_point_transient_1_2_F,\n",
    "                      np.shape(OPT_transient_1_2_F.X)[1],\n",
    "                      init_samples,\n",
    "                      end_explore,\n",
    "                      OPT_transient_1_2_F.X)\n",
    "\n",
    "i_best = OPT_transient_1_2_F.Y_ind_best[0]\n",
    "delta = np.linalg.norm(OPT_transient_1_2_F.models[0].X[i_best:i_best + 1, :] - optimal_point_transient_1_2_F)\n",
    "perc = delta / (bb * 2) * 100\n",
    "print(\"Distance between opt and model's opt \", delta, \" error: \", round(perc, 3), \" %\")\n",
    "# endregion"
   ]
  },
  {
   "cell_type": "code",
   "execution_count": null,
   "id": "62183775",
   "metadata": {},
   "outputs": [],
   "source": []
  }
 ],
 "metadata": {
  "kernelspec": {
   "display_name": "Python 3",
   "language": "python",
   "name": "python3"
  },
  "language_info": {
   "codemirror_mode": {
    "name": "ipython",
    "version": 3
   },
   "file_extension": ".py",
   "mimetype": "text/x-python",
   "name": "python",
   "nbconvert_exporter": "python",
   "pygments_lexer": "ipython3",
   "version": "3.8.8"
  }
 },
 "nbformat": 4,
 "nbformat_minor": 5
}
