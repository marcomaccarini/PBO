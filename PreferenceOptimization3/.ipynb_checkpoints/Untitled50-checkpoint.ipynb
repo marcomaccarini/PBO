{
 "cells": [
  {
   "cell_type": "markdown",
   "id": "593769a9",
   "metadata": {},
   "source": [
    "# HYPER project\n",
    "## Integrating Physical model and model learned from data\n",
    "### Dario Piga, Lugano, June, 25th, 2021"
   ]
  },
  {
   "cell_type": "markdown",
   "id": "2022b692",
   "metadata": {},
   "source": [
    "Notation:\n",
    "- x: input parameters\n",
    "- $y$: output of interested. In our case: LOC (Loss of Cut) (y=1: YES; y=0: NO). \n",
    "\n",
    "We have:\n",
    "- $p(y_{ML}|x)$: probability of the output (given the input $x$) provided by the machine learning model (in our case, by the Gaussian Process)\n",
    "- $p(y_{PH}|x)$: probability of the output (given the input $x$) provided by the physical model (in our case, the Gaussian Process used as a surrgate for the Bystronic's physical model)\n",
    "\n",
    "## Question:\n",
    "Given a new input $x$, compute the probability of the output $p(y|x)$.  "
   ]
  },
  {
   "cell_type": "markdown",
   "id": "0c8cf4f3",
   "metadata": {},
   "source": [
    "# Recall rule of total probability:\n",
    "\n",
    "$P(A)= P(A \\& B=0)  + P(A \\& B=1)$\n",
    "\n",
    "or equivalently (becuase of relation between conditional  and joint proability) \n",
    "\n",
    "$P(A|B=0)P(B=0) + P(A|B=1)P(B=1)$"
   ]
  },
  {
   "cell_type": "markdown",
   "id": "95f491aa",
   "metadata": {},
   "source": [
    "From the rule above, it follows:\n",
    "$$\n",
    "p(y|x) = \\sum_{y_{ML} \\in \\{0,1\\}}\\sum_{y_{PH} \\in \\{0,1\\}} p(y|Y_{ML} = y_{ML},Y_{PH} = y_{PH},x)p(Y_{ML} = y_{ML},Y_{PH} = y_{PH}|x)\n",
    "$$\n",
    "\n",
    "We assume:\n",
    "1. $y_{ML}$ and $y_{PH}$ are conditionally independent given $x$, i.e., $p(y_{ML},y_{PH}|x) = p(y_{ML}|x)p(y_{PH}|x)$ \n",
    "2. $p(y|y_{ML},y_{PH},x)=p(y|y_{ML},y_{PH})$\n",
    "\n",
    "Because of the assumptions above, the computation of $p(y|x)$ requires $p(y_{ML}|x)$ and $p(y_{PH}|x)$, which are assumed to be known. Thus, we only need  to computate $p(y|y_{ML},y_{PH})$. We can simply compute it by constructing the following table:"
   ]
  },
  {
   "cell_type": "markdown",
   "id": "80285b1d",
   "metadata": {},
   "source": [
    "For instance, to compute $p(y=1|y_{ML}=0, y_{PH}=1)$, we simply counts as follows"
   ]
  },
  {
   "cell_type": "markdown",
   "id": "574d6aa8",
   "metadata": {},
   "source": [
    "$\n",
    "p(y=1|y_{ML}=0, y_{PH}=1) = \\frac{\\# \\{y=1, y_{ML}=0, y_{PH}=1\\} +1}{ \\#\\{y_{ML}=0, y_{PH}=1\\}+2}\n",
    "$\n",
    "where $+1$ and $+2$ in the numerator (resp. denominator) is due to the Laplace approximation\n",
    "and $\\#$ is the counting operator (namely, number of samples satisfy the condition)"
   ]
  },
  {
   "cell_type": "code",
   "execution_count": null,
   "id": "4573e629",
   "metadata": {},
   "outputs": [],
   "source": []
  }
 ],
 "metadata": {
  "kernelspec": {
   "display_name": "Python 3",
   "language": "python",
   "name": "python3"
  },
  "language_info": {
   "codemirror_mode": {
    "name": "ipython",
    "version": 3
   },
   "file_extension": ".py",
   "mimetype": "text/x-python",
   "name": "python",
   "nbconvert_exporter": "python",
   "pygments_lexer": "ipython3",
   "version": "3.8.8"
  }
 },
 "nbformat": 4,
 "nbformat_minor": 5
}
